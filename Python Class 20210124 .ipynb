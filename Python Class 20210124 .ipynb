{
 "cells": [
  {
   "cell_type": "markdown",
   "metadata": {},
   "source": [
    "# Hangman coding "
   ]
  },
  {
   "cell_type": "code",
   "execution_count": 7,
   "metadata": {},
   "outputs": [
    {
     "name": "stdout",
     "output_type": "stream",
     "text": [
      "Incorrect, you lost a life.\n",
      "You lost all your lives, you lost!\n"
     ]
    }
   ],
   "source": [
    "from random import choice\n",
    "from IPython.display import clear_output\n",
    "def checkGameCondition(lives, guesses, word):\n",
    "    if lives <= 0:\n",
    "        print('You lost all your lives, you lost!')\n",
    "        return True\n",
    "    elif word == ''.join(guesses):\n",
    "        print('Congratulations, you guessed it correctly!')\n",
    "        return True\n",
    "    return False\n",
    "def checkGuess(ans, word, guesses, guessed, lives):\n",
    "    game_over = False\n",
    "    if ans == 'quit':\n",
    "        print('Thanks for playing.')\n",
    "        game_over = True\n",
    "    elif ans in word and ans not in guessed:\n",
    "        print('You guessed correctly!')\n",
    "        # create a loop to change underscore to proper letter\n",
    "        for i in range(len(word)):\n",
    "            if word[i] == ans:\n",
    "                guesses[i] = ans\n",
    "    elif ans in guessed:\n",
    "        print('You already guessed that. Try again.')\n",
    "    else:                 # otherwise lose life\n",
    "        lives -= 1\n",
    "        print('Incorrect, you lost a life.')\n",
    "    if ans not in guessed:\n",
    "        guessed.append(ans)    # add guess to guessed list\n",
    "    return game_over, guesses, guessed, lives\n",
    "def outputGameInfo(guesses, guessed, lives):\n",
    "    hidden_word = ''.join(guesses)\n",
    "    print('Your guessed letters: {}'.format(guessed))\n",
    "    print('Word to guess: {}'.format(hidden_word))\n",
    "    print('Lives: {}'.format(lives))\n",
    "def gamePlay():\n",
    "    # declare game variables\n",
    "    words = ['tree', 'basket', 'chair', 'paper', 'python']\n",
    "    word = choice(words)\n",
    "    guessed, lives, game_over = [], 7, False\n",
    "    # create a list of underscores to the length of the word\n",
    "    guesses = ['_ '] * len(word)\n",
    "    # create main game loop\n",
    "    while not game_over:\n",
    "        # output game information\n",
    "        outputGameInfo(guesses, guessed, lives)\n",
    "        ans = input('Type quit or guess a letter: ').lower()\n",
    "        clear_output()     # clear all previous output\n",
    "        game_over, guesses, guessed, lives = checkGuess(ans, word, guesses, guessed, lives)\n",
    "        game_over = checkGameCondition(lives, guesses, word)\n",
    "gamePlay()"
   ]
  },
  {
   "cell_type": "code",
   "execution_count": 8,
   "metadata": {},
   "outputs": [
    {
     "name": "stdout",
     "output_type": "stream",
     "text": [
      "You guessed correctly!\n",
      "Your guessed letters: ['h', 'o', 'p']\n",
      "Word to guess: p_ p_ _ \n",
      "Lives: 5\n"
     ]
    },
    {
     "ename": "KeyboardInterrupt",
     "evalue": "Interrupted by user",
     "output_type": "error",
     "traceback": [
      "\u001b[0;31m---------------------------------------------------------------------------\u001b[0m",
      "\u001b[0;31mKeyboardInterrupt\u001b[0m                         Traceback (most recent call last)",
      "\u001b[0;32m<ipython-input-8-aabb5d95e89d>\u001b[0m in \u001b[0;36m<module>\u001b[0;34m\u001b[0m\n\u001b[1;32m     14\u001b[0m     \u001b[0mprint\u001b[0m\u001b[0;34m(\u001b[0m\u001b[0;34m'Word to guess: {}'\u001b[0m\u001b[0;34m.\u001b[0m\u001b[0mformat\u001b[0m\u001b[0;34m(\u001b[0m\u001b[0mhidden_word\u001b[0m\u001b[0;34m)\u001b[0m\u001b[0;34m)\u001b[0m\u001b[0;34m\u001b[0m\u001b[0;34m\u001b[0m\u001b[0m\n\u001b[1;32m     15\u001b[0m     \u001b[0mprint\u001b[0m\u001b[0;34m(\u001b[0m\u001b[0;34m'Lives: {}'\u001b[0m\u001b[0;34m.\u001b[0m\u001b[0mformat\u001b[0m\u001b[0;34m(\u001b[0m\u001b[0mlives\u001b[0m\u001b[0;34m)\u001b[0m\u001b[0;34m)\u001b[0m\u001b[0;34m\u001b[0m\u001b[0;34m\u001b[0m\u001b[0m\n\u001b[0;32m---> 16\u001b[0;31m     \u001b[0mans\u001b[0m \u001b[0;34m=\u001b[0m \u001b[0minput\u001b[0m\u001b[0;34m(\u001b[0m\u001b[0;34m'Type quit or guess a letter: '\u001b[0m\u001b[0;34m)\u001b[0m\u001b[0;34m.\u001b[0m\u001b[0mlower\u001b[0m\u001b[0;34m(\u001b[0m\u001b[0;34m)\u001b[0m\u001b[0;34m\u001b[0m\u001b[0;34m\u001b[0m\u001b[0m\n\u001b[0m\u001b[1;32m     17\u001b[0m     \u001b[0mclear_output\u001b[0m\u001b[0;34m(\u001b[0m\u001b[0;34m)\u001b[0m     \u001b[0;31m# clear all previous output\u001b[0m\u001b[0;34m\u001b[0m\u001b[0;34m\u001b[0m\u001b[0m\n\u001b[1;32m     18\u001b[0m     \u001b[0;32mif\u001b[0m \u001b[0mans\u001b[0m \u001b[0;34m==\u001b[0m \u001b[0;34m'quit'\u001b[0m\u001b[0;34m:\u001b[0m\u001b[0;34m\u001b[0m\u001b[0;34m\u001b[0m\u001b[0m\n",
      "\u001b[0;32m~/opt/anaconda3/lib/python3.8/site-packages/ipykernel/kernelbase.py\u001b[0m in \u001b[0;36mraw_input\u001b[0;34m(self, prompt)\u001b[0m\n\u001b[1;32m    858\u001b[0m                 \u001b[0;34m\"raw_input was called, but this frontend does not support input requests.\"\u001b[0m\u001b[0;34m\u001b[0m\u001b[0;34m\u001b[0m\u001b[0m\n\u001b[1;32m    859\u001b[0m             )\n\u001b[0;32m--> 860\u001b[0;31m         return self._input_request(str(prompt),\n\u001b[0m\u001b[1;32m    861\u001b[0m             \u001b[0mself\u001b[0m\u001b[0;34m.\u001b[0m\u001b[0m_parent_ident\u001b[0m\u001b[0;34m,\u001b[0m\u001b[0;34m\u001b[0m\u001b[0;34m\u001b[0m\u001b[0m\n\u001b[1;32m    862\u001b[0m             \u001b[0mself\u001b[0m\u001b[0;34m.\u001b[0m\u001b[0m_parent_header\u001b[0m\u001b[0;34m,\u001b[0m\u001b[0;34m\u001b[0m\u001b[0;34m\u001b[0m\u001b[0m\n",
      "\u001b[0;32m~/opt/anaconda3/lib/python3.8/site-packages/ipykernel/kernelbase.py\u001b[0m in \u001b[0;36m_input_request\u001b[0;34m(self, prompt, ident, parent, password)\u001b[0m\n\u001b[1;32m    902\u001b[0m             \u001b[0;32mexcept\u001b[0m \u001b[0mKeyboardInterrupt\u001b[0m\u001b[0;34m:\u001b[0m\u001b[0;34m\u001b[0m\u001b[0;34m\u001b[0m\u001b[0m\n\u001b[1;32m    903\u001b[0m                 \u001b[0;31m# re-raise KeyboardInterrupt, to truncate traceback\u001b[0m\u001b[0;34m\u001b[0m\u001b[0;34m\u001b[0m\u001b[0;34m\u001b[0m\u001b[0m\n\u001b[0;32m--> 904\u001b[0;31m                 \u001b[0;32mraise\u001b[0m \u001b[0mKeyboardInterrupt\u001b[0m\u001b[0;34m(\u001b[0m\u001b[0;34m\"Interrupted by user\"\u001b[0m\u001b[0;34m)\u001b[0m \u001b[0;32mfrom\u001b[0m \u001b[0;32mNone\u001b[0m\u001b[0;34m\u001b[0m\u001b[0;34m\u001b[0m\u001b[0m\n\u001b[0m\u001b[1;32m    905\u001b[0m             \u001b[0;32mexcept\u001b[0m \u001b[0mException\u001b[0m \u001b[0;32mas\u001b[0m \u001b[0me\u001b[0m\u001b[0;34m:\u001b[0m\u001b[0;34m\u001b[0m\u001b[0;34m\u001b[0m\u001b[0m\n\u001b[1;32m    906\u001b[0m                 \u001b[0mself\u001b[0m\u001b[0;34m.\u001b[0m\u001b[0mlog\u001b[0m\u001b[0;34m.\u001b[0m\u001b[0mwarning\u001b[0m\u001b[0;34m(\u001b[0m\u001b[0;34m\"Invalid Message:\"\u001b[0m\u001b[0;34m,\u001b[0m \u001b[0mexc_info\u001b[0m\u001b[0;34m=\u001b[0m\u001b[0;32mTrue\u001b[0m\u001b[0;34m)\u001b[0m\u001b[0;34m\u001b[0m\u001b[0;34m\u001b[0m\u001b[0m\n",
      "\u001b[0;31mKeyboardInterrupt\u001b[0m: Interrupted by user"
     ]
    }
   ],
   "source": [
    "from random import choice\n",
    "from IPython.display import clear_output\n",
    "# declare game variables\n",
    "words = ['tree', 'basket', 'chair', 'paper', 'python']\n",
    "word = choice(words)\n",
    "guessed, lives, game_over = [], 7, False\n",
    "# create a list of underscores to the length of the word\n",
    "guesses = ['_ '] * len(word)\n",
    "# create main game loop\n",
    "while not game_over:\n",
    "    # output game information\n",
    "    hidden_word = ''.join(guesses)\n",
    "    print('Your guessed letters: {}'.format(guessed))\n",
    "    print('Word to guess: {}'.format(hidden_word))\n",
    "    print('Lives: {}'.format(lives))\n",
    "    ans = input('Type quit or guess a letter: ').lower()\n",
    "    clear_output()     # clear all previous output\n",
    "    if ans == 'quit':\n",
    "        print('Thanks for playing.')\n",
    "        game_over = True\n",
    "    elif ans in word and ans not in guessed:\n",
    "        print('You guessed correctly!')\n",
    "        # create a loop to change underscore to proper letter\n",
    "        for i in range(len(word)):\n",
    "            if word[i] == ans:\n",
    "                guesses[i] = ans\n",
    "    elif ans in guessed:\n",
    "        print('You already guessed that. Try again.')\n",
    "    else:                 # otherwise lose life\n",
    "        lives -= 1\n",
    "        print('Incorrect, you lost a life.')\n",
    "    if ans not in guessed:\n",
    "        guessed.append(ans)    # add guess to guessed list\n",
    "    if lives <= 0:\n",
    "        print('You lost all your lives, you lost!')\n",
    "        game_over = True\n",
    "    elif word == ''.join(guesses):\n",
    "        print('Congratulations, you guessed it correctly!')\n",
    "        game_over = True"
   ]
  },
  {
   "cell_type": "markdown",
   "metadata": {},
   "source": [
    "# (OOP) Object Orinted  Programming"
   ]
  },
  {
   "cell_type": "raw",
   "metadata": {},
   "source": [
    "Object \n",
    "Valiable and function ( this two things are refered as behaviour of objects)\n",
    "\n",
    "``````````````````````````````````````\n",
    "car - object\n",
    "properties - color , model , price , brant  etc.\n",
    "\n",
    "properties /variables / functions/ behaviours - acceleration , slowing down , gear change etc.]\n",
    "\n",
    "\n",
    "\n",
    "dog -object\n",
    "variable /properties - color , brad/types , size, name etc.\n",
    "\n",
    "functions / behaviour - barking, playing , walking , reacting\n",
    "\n",
    "object - int\n",
    "variable - naturnal , small , large , positive \n"
   ]
  },
  {
   "cell_type": "raw",
   "metadata": {},
   "source": [
    "Concepts in Oops\n",
    "1. Class\n",
    "2. object\n",
    "3. method\n",
    "4. Inheritance\n",
    "5. Encapsulation\n",
    "6. Polymorphism\n",
    "7. Data abstraction\n",
    "\n",
    "\n",
    "\n"
   ]
  },
  {
   "cell_type": "raw",
   "metadata": {},
   "source": [
    "1.Class\n",
    "\n",
    "Class is the collection of object\n",
    "(class are the data structure that user define )\n",
    "(it's makes our code manageables"
   ]
  },
  {
   "cell_type": "code",
   "execution_count": 10,
   "metadata": {},
   "outputs": [],
   "source": [
    "class Shapes:\n",
    "    pass"
   ]
  },
  {
   "cell_type": "code",
   "execution_count": 12,
   "metadata": {},
   "outputs": [
    {
     "data": {
      "text/plain": [
       "<__main__.Shapes at 0x7fb6f73b9f40>"
      ]
     },
     "execution_count": 12,
     "metadata": {},
     "output_type": "execute_result"
    }
   ],
   "source": [
    "obj = Shapes()\n",
    "obj\n",
    "\n",
    "#Instantiatio\n",
    "\n",
    "# __main__ object instance\n",
    "#0x7f empty object"
   ]
  },
  {
   "cell_type": "raw",
   "metadata": {},
   "source": [
    "Class Constructor \n",
    "\n",
    "class car :\n",
    "def __init__ (self , name , color):\n",
    "   __init__ constructor method\n",
    "   self.name \n",
    "   self.color \n",
    "   (#self is the keyword #when we define the method we always self.)\n",
    "   # self is instance of class it is used in varialbe initialization\n",
    "   \n",
    "class car:\n",
    "    class type = \"sedan\" #class attribute (predefine attribute )\n",
    "    obj__ int__ (self, name , color):\n",
    "    self.name = name  #instance attribute \n",
    "    self.clor = color #instance attribute \n",
    "    self.type =type   #instance attribute "
   ]
  },
  {
   "cell_type": "code",
   "execution_count": 13,
   "metadata": {},
   "outputs": [
    {
     "ename": "SyntaxError",
     "evalue": "invalid syntax (<ipython-input-13-87814ba143c8>, line 2)",
     "output_type": "error",
     "traceback": [
      "\u001b[0;36m  File \u001b[0;32m\"<ipython-input-13-87814ba143c8>\"\u001b[0;36m, line \u001b[0;32m2\u001b[0m\n\u001b[0;31m    class type = \"sedan\" #class attribute (predefine attribute )\u001b[0m\n\u001b[0m               ^\u001b[0m\n\u001b[0;31mSyntaxError\u001b[0m\u001b[0;31m:\u001b[0m invalid syntax\n"
     ]
    }
   ],
   "source": [
    "class car:\n",
    "    class type = \"sedan\" #class attribute (predefine attribute )\n",
    "    obj__ int__ (self, name , color):\n",
    "    self.name = name  #instance attribute \n",
    "    self.color = color #instance attribute \n",
    "    self.type =type   #instance attribute "
   ]
  },
  {
   "cell_type": "code",
   "execution_count": 18,
   "metadata": {},
   "outputs": [],
   "source": [
    "class car:\n",
    "    car_type = \"seden\"\n",
    "    def __init__(self,name,color):\n",
    "        self.name = name\n",
    "        self.color = color\n",
    "    def description(self):\n",
    "        return f\"the {self.name} car is best in {self.color}\"\n"
   ]
  },
  {
   "cell_type": "code",
   "execution_count": 19,
   "metadata": {},
   "outputs": [],
   "source": [
    "obj = car(\"TOTORO\",\"Black\")\n"
   ]
  },
  {
   "cell_type": "code",
   "execution_count": 20,
   "metadata": {},
   "outputs": [
    {
     "name": "stdout",
     "output_type": "stream",
     "text": [
      "the TOTORO car is best in Black\n"
     ]
    }
   ],
   "source": [
    "print(obj.description())"
   ]
  },
  {
   "cell_type": "code",
   "execution_count": 29,
   "metadata": {},
   "outputs": [],
   "source": [
    "#name , color , milage ,speed\n",
    "#print name , color , mil. speed\n",
    "#print name , max. speed \n",
    "\n",
    "class car:\n",
    "    car_types = \"senden\"\n",
    "    def __init__(self,name,color,mil):\n",
    "        self.name = name\n",
    "        self.color =color \n",
    "        self.mil = mil\n",
    "    def description(self):\n",
    "        return f\"the {self.name} car in {self.color} color gives the mileage of {self.mil}km/l\"\n",
    "    def max_speed(self,speed):\n",
    "        return f\"the {self.name} car runs at maximum speed of {speed} km/h\"\n",
    "    "
   ]
  },
  {
   "cell_type": "code",
   "execution_count": 30,
   "metadata": {},
   "outputs": [],
   "source": [
    "obj = car (\"Raxix\",\"Black\",24)"
   ]
  },
  {
   "cell_type": "code",
   "execution_count": 31,
   "metadata": {},
   "outputs": [
    {
     "name": "stdout",
     "output_type": "stream",
     "text": [
      "the Raxix car in Black color gives the mileage of 24km/l\n",
      "the Raxix car runs at maximum speed of 150 km/h\n"
     ]
    }
   ],
   "source": [
    "print(obj.description())\n",
    "print(obj.max_speed(150))"
   ]
  },
  {
   "cell_type": "code",
   "execution_count": null,
   "metadata": {},
   "outputs": [],
   "source": [
    "class programming:\n",
    "    programming_language = \"Backend program\"\n",
    "    def __init__(self,name,time,cost):\n",
    "        self.name = name\n",
    "        self.time =time\n",
    "        self.cost =cost\n",
    "    def description (self):\n",
    "        return f\"the {self.name} program cost is {self.time} 2 months\"\n",
    "    def cost(self.cost):\n",
    "        return f\"the{self.name} program cost "
   ]
  },
  {
   "cell_type": "code",
   "execution_count": 34,
   "metadata": {},
   "outputs": [
    {
     "ename": "TypeError",
     "evalue": "__init__() missing 2 required positional arguments: 'color' and 'mil'",
     "output_type": "error",
     "traceback": [
      "\u001b[0;31m---------------------------------------------------------------------------\u001b[0m",
      "\u001b[0;31mTypeError\u001b[0m                                 Traceback (most recent call last)",
      "\u001b[0;32m<ipython-input-34-813e43cfb5ab>\u001b[0m in \u001b[0;36m<module>\u001b[0;34m\u001b[0m\n\u001b[0;32m----> 1\u001b[0;31m \u001b[0;32mclass\u001b[0m \u001b[0mcar\u001b[0m\u001b[0;34m:\u001b[0m\u001b[0;34m\u001b[0m\u001b[0;34m\u001b[0m\u001b[0m\n\u001b[0m\u001b[1;32m      2\u001b[0m     \u001b[0;32mdef\u001b[0m \u001b[0m__init__\u001b[0m\u001b[0;34m(\u001b[0m\u001b[0mself\u001b[0m\u001b[0;34m,\u001b[0m\u001b[0mname\u001b[0m\u001b[0;34m,\u001b[0m\u001b[0mcolor\u001b[0m\u001b[0;34m)\u001b[0m\u001b[0;34m:\u001b[0m\u001b[0;34m\u001b[0m\u001b[0;34m\u001b[0m\u001b[0m\n\u001b[1;32m      3\u001b[0m         \u001b[0mself\u001b[0m\u001b[0;34m.\u001b[0m\u001b[0mname\u001b[0m \u001b[0;34m=\u001b[0m \u001b[0mname\u001b[0m\u001b[0;34m\u001b[0m\u001b[0;34m\u001b[0m\u001b[0m\n\u001b[1;32m      4\u001b[0m         \u001b[0mself\u001b[0m\u001b[0;34m.\u001b[0m\u001b[0mcolor\u001b[0m \u001b[0;34m=\u001b[0m \u001b[0mname\u001b[0m\u001b[0;34m\u001b[0m\u001b[0;34m\u001b[0m\u001b[0m\n\u001b[1;32m      5\u001b[0m     \u001b[0mhonda\u001b[0m \u001b[0;34m=\u001b[0m \u001b[0mcar\u001b[0m \u001b[0;34m(\u001b[0m\u001b[0;34m\"hondacity\"\u001b[0m\u001b[0;34m)\u001b[0m\u001b[0;34m\u001b[0m\u001b[0;34m\u001b[0m\u001b[0m\n",
      "\u001b[0;32m<ipython-input-34-813e43cfb5ab>\u001b[0m in \u001b[0;36mcar\u001b[0;34m()\u001b[0m\n\u001b[1;32m      3\u001b[0m         \u001b[0mself\u001b[0m\u001b[0;34m.\u001b[0m\u001b[0mname\u001b[0m \u001b[0;34m=\u001b[0m \u001b[0mname\u001b[0m\u001b[0;34m\u001b[0m\u001b[0;34m\u001b[0m\u001b[0m\n\u001b[1;32m      4\u001b[0m         \u001b[0mself\u001b[0m\u001b[0;34m.\u001b[0m\u001b[0mcolor\u001b[0m \u001b[0;34m=\u001b[0m \u001b[0mname\u001b[0m\u001b[0;34m\u001b[0m\u001b[0;34m\u001b[0m\u001b[0m\n\u001b[0;32m----> 5\u001b[0;31m     \u001b[0mhonda\u001b[0m \u001b[0;34m=\u001b[0m \u001b[0mcar\u001b[0m \u001b[0;34m(\u001b[0m\u001b[0;34m\"hondacity\"\u001b[0m\u001b[0;34m)\u001b[0m\u001b[0;34m\u001b[0m\u001b[0;34m\u001b[0m\u001b[0m\n\u001b[0m\u001b[1;32m      6\u001b[0m \u001b[0mprint\u001b[0m\u001b[0;34m(\u001b[0m\u001b[0mhonda\u001b[0m\u001b[0;34m)\u001b[0m\u001b[0;34m\u001b[0m\u001b[0;34m\u001b[0m\u001b[0m\n",
      "\u001b[0;31mTypeError\u001b[0m: __init__() missing 2 required positional arguments: 'color' and 'mil'"
     ]
    }
   ],
   "source": [
    "class car:\n",
    "    def __init__(self,name,color):\n",
    "        self.name = name\n",
    "        self.color = name \n",
    "    honda = car (\"hondacity\")\n",
    "print(honda)"
   ]
  },
  {
   "cell_type": "code",
   "execution_count": null,
   "metadata": {},
   "outputs": [],
   "source": []
  }
 ],
 "metadata": {
  "kernelspec": {
   "display_name": "Python 3",
   "language": "python",
   "name": "python3"
  },
  "language_info": {
   "codemirror_mode": {
    "name": "ipython",
    "version": 3
   },
   "file_extension": ".py",
   "mimetype": "text/x-python",
   "name": "python",
   "nbconvert_exporter": "python",
   "pygments_lexer": "ipython3",
   "version": "3.8.5"
  }
 },
 "nbformat": 4,
 "nbformat_minor": 4
}
