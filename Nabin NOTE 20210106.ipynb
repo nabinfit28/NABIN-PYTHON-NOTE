{
 "cells": [
  {
   "cell_type": "markdown",
   "metadata": {},
   "source": [
    "# PYTHON NOTE\n",
    "「１」20210101\n",
    "「2」20210102\n",
    "「3」20210103\n",
    "「4」20210104\n",
    "「5」20210105\n",
    "「6」20200106\n",
    "\n",
    "\n"
   ]
  },
  {
   "cell_type": "markdown",
   "metadata": {},
   "source": [
    "# Python Syntax\n",
    "Python syntax can be executed by writing directly in the Command Line:\n",
    "#example"
   ]
  },
  {
   "cell_type": "code",
   "execution_count": 1,
   "metadata": {},
   "outputs": [
    {
     "name": "stdout",
     "output_type": "stream",
     "text": [
      "hello nabin\n"
     ]
    }
   ],
   "source": [
    "print(\"hello nabin\")"
   ]
  },
  {
   "cell_type": "markdown",
   "metadata": {},
   "source": [
    "# Python Indentation\n",
    "Indentation refers to the spaces at the beginning of a code line.\n",
    "\n",
    "Where in other programming languages the indentation in code is for readability only, the indentation in Python is very important.\n",
    "\n",
    "Python uses indentation to indicate a block of code.\n",
    "#Example"
   ]
  },
  {
   "cell_type": "code",
   "execution_count": 2,
   "metadata": {},
   "outputs": [
    {
     "name": "stdout",
     "output_type": "stream",
     "text": [
      "10 is greater than 6\n"
     ]
    }
   ],
   "source": [
    "if 10 >6:\n",
    "    print(\"10 is greater than 6\")"
   ]
  },
  {
   "cell_type": "code",
   "execution_count": 3,
   "metadata": {},
   "outputs": [
    {
     "ename": "IndentationError",
     "evalue": "expected an indented block (<ipython-input-3-2c5b7e6adefc>, line 3)",
     "output_type": "error",
     "traceback": [
      "\u001b[0;36m  File \u001b[0;32m\"<ipython-input-3-2c5b7e6adefc>\"\u001b[0;36m, line \u001b[0;32m3\u001b[0m\n\u001b[0;31m    print(\"10 is greater than 6\")\u001b[0m\n\u001b[0m    ^\u001b[0m\n\u001b[0;31mIndentationError\u001b[0m\u001b[0;31m:\u001b[0m expected an indented block\n"
     ]
    }
   ],
   "source": [
    "#Python will give you an error if you skip the indentation:\n",
    "if 10 > 6 :\n",
    "print(\"10 is greater than 6\")"
   ]
  },
  {
   "cell_type": "code",
   "execution_count": 10,
   "metadata": {},
   "outputs": [
    {
     "name": "stdout",
     "output_type": "stream",
     "text": [
      "10 is greater than six\n",
      "10 is greater than six\n"
     ]
    }
   ],
   "source": [
    "#The number of spaces is up to you as a programmer, but it has to be at least one.\n",
    "if 10 > 6:\n",
    " print(\"10 is greater than six\")\n",
    "if 10 > 6:\n",
    "          print(\"10 is greater than six\")"
   ]
  },
  {
   "cell_type": "code",
   "execution_count": 13,
   "metadata": {},
   "outputs": [
    {
     "ename": "IndentationError",
     "evalue": "unexpected indent (<ipython-input-13-324bfe604823>, line 4)",
     "output_type": "error",
     "traceback": [
      "\u001b[0;36m  File \u001b[0;32m\"<ipython-input-13-324bfe604823>\"\u001b[0;36m, line \u001b[0;32m4\u001b[0m\n\u001b[0;31m    print(\"10 is greater than six\")\u001b[0m\n\u001b[0m    ^\u001b[0m\n\u001b[0;31mIndentationError\u001b[0m\u001b[0;31m:\u001b[0m unexpected indent\n"
     ]
    }
   ],
   "source": [
    "#You have to use the same number of spaces in the same block of code, otherwise Python will give you an error:\n",
    "if 10 > 6:\n",
    "    print (\"10 is greater than six\")\n",
    "     print(\"10 is greater than six\")"
   ]
  },
  {
   "cell_type": "markdown",
   "metadata": {},
   "source": [
    "# Python Comments"
   ]
  },
  {
   "cell_type": "raw",
   "metadata": {},
   "source": [
    "Comments can be used to explain Python code.\n",
    "Comments can be used to make the code more readable.\n",
    "Comments can be used to prevent execution when testing code.\n",
    "\n",
    "#Creating a Comment\n",
    "Comments starts with a #, and Python will ignore them:\n",
    "Example"
   ]
  },
  {
   "cell_type": "code",
   "execution_count": 14,
   "metadata": {},
   "outputs": [
    {
     "name": "stdout",
     "output_type": "stream",
     "text": [
      "hello nabin\n"
     ]
    }
   ],
   "source": [
    "#this is a example \n",
    "print(\"hello nabin\")"
   ]
  },
  {
   "cell_type": "raw",
   "metadata": {},
   "source": [
    "#Comments can be placed at the end of a line, and Python will ignore the rest of the line:"
   ]
  },
  {
   "cell_type": "code",
   "execution_count": 15,
   "metadata": {},
   "outputs": [
    {
     "name": "stdout",
     "output_type": "stream",
     "text": [
      "hello nabin\n"
     ]
    }
   ],
   "source": [
    "print(\"hello nabin\") # this is comment"
   ]
  },
  {
   "cell_type": "raw",
   "metadata": {},
   "source": [
    "#Comments does not have to be text to explain the code, it can also be used to prevent Python from executing code:"
   ]
  },
  {
   "cell_type": "code",
   "execution_count": 17,
   "metadata": {},
   "outputs": [
    {
     "name": "stdout",
     "output_type": "stream",
     "text": [
      "hello nabin\n"
     ]
    }
   ],
   "source": [
    "#print(\"hello nabin\")\n",
    "print(\"hello nabin\")"
   ]
  },
  {
   "cell_type": "markdown",
   "metadata": {},
   "source": [
    "## Multi Line Comments\n",
    "Python does not really have a syntax for multi line comments.\n",
    "\n",
    "To add a multiline comment you could insert a # for each line:"
   ]
  },
  {
   "cell_type": "code",
   "execution_count": 18,
   "metadata": {},
   "outputs": [
    {
     "name": "stdout",
     "output_type": "stream",
     "text": [
      "hello nabin\n"
     ]
    }
   ],
   "source": [
    "#this is a comment\n",
    "#write in more line\n",
    "print(\"hello nabin\")"
   ]
  },
  {
   "cell_type": "raw",
   "metadata": {},
   "source": [
    "# Or, not quite as intended, you can use a multiline string.\n",
    "Since Python will ignore string literals that are not assigned to a variable, you can add a multiline string (triple quotes) in your code, and place your comment inside it:"
   ]
  },
  {
   "cell_type": "code",
   "execution_count": 19,
   "metadata": {},
   "outputs": [
    {
     "name": "stdout",
     "output_type": "stream",
     "text": [
      "hello nabin\n"
     ]
    }
   ],
   "source": [
    "\"\"\"this is the comments\n",
    "more then one line\n",
    "it's is straing by three quotes\"\"\"\n",
    "print(\"hello nabin\")"
   ]
  },
  {
   "cell_type": "raw",
   "metadata": {},
   "source": [
    "#As long as the string is not assigned to a variable, Python will read the code, but then ignore it, and you have made a multiline comment."
   ]
  },
  {
   "cell_type": "markdown",
   "metadata": {},
   "source": [
    "# Python Variables"
   ]
  },
  {
   "cell_type": "raw",
   "metadata": {},
   "source": [
    "#Variables\n",
    "Variables are containers for storing data values."
   ]
  },
  {
   "cell_type": "raw",
   "metadata": {},
   "source": [
    "#Creating Variables\n",
    "Python has no command for declaring a variable.\n",
    "\n",
    "A variable is created the moment you first assign a value to it."
   ]
  },
  {
   "cell_type": "code",
   "execution_count": 22,
   "metadata": {},
   "outputs": [
    {
     "name": "stdout",
     "output_type": "stream",
     "text": [
      "100 400\n",
      "40000\n",
      "500\n",
      "-300\n",
      "0.25\n",
      "0\n",
      "100\n",
      "nabin\n",
      "nabin\n"
     ]
    }
   ],
   "source": [
    "#Example\n",
    "x=100\n",
    "y=400\n",
    "z=\"nabin\"\n",
    "o='nabin'\n",
    "print(x,y)\n",
    "print(x*y)\n",
    "print(x+y)\n",
    "print(x-y)\n",
    "print(x/y)\n",
    "print(x//y)\n",
    "print(x%y)\n",
    "print(z)\n",
    "print(o)\n"
   ]
  },
  {
   "cell_type": "raw",
   "metadata": {},
   "source": [
    "#Variables do not need to be declared with any particular type, and can even change type after they have been set"
   ]
  },
  {
   "cell_type": "code",
   "execution_count": 25,
   "metadata": {},
   "outputs": [
    {
     "name": "stdout",
     "output_type": "stream",
     "text": [
      "nabin\n"
     ]
    }
   ],
   "source": [
    "a=5\n",
    "a=\"nabin\"\n",
    "print(a)"
   ]
  },
  {
   "cell_type": "code",
   "execution_count": 26,
   "metadata": {},
   "outputs": [
    {
     "name": "stdout",
     "output_type": "stream",
     "text": [
      "5\n"
     ]
    }
   ],
   "source": [
    "a=\"nabin\"\n",
    "a=5\n",
    "print(a)"
   ]
  },
  {
   "cell_type": "markdown",
   "metadata": {},
   "source": [
    "## Casting"
   ]
  },
  {
   "cell_type": "raw",
   "metadata": {},
   "source": [
    "#If you want to specify the data type of a variable, this can be done with casting."
   ]
  },
  {
   "cell_type": "raw",
   "metadata": {},
   "source": [
    "#Python Strings [str]\n",
    "\n",
    "https://www.programiz.com/python-programming/string\n",
    "\n",
    "Python has a built-in string class named \"str\" with many handy features (there is an older module named \"string\" which you should not use). String literals can be enclosed by either double or single quotes, although single quotes are more commonly used. Backslash escapes work the usual way within both single and double quoted literals -- e.g. \\n \\' \\\". A double quoted string literal can contain single quotes without any fuss (e.g. \"I didn't do it\") and likewise single quoted string can contain double quotes. A string literal can span multiple lines, but there must be a backslash \\ at the end of each line to escape the newline. String literals inside triple quotes, \"\"\" or ''', can span multiple lines of text."
   ]
  },
  {
   "cell_type": "raw",
   "metadata": {},
   "source": [
    "#How to create a string in Python?\n",
    "\n",
    "Strings can be created by enclosing characters inside a single quote or double-quotes. Even triple quotes can be used in Python but generally used to represent multiline strings and docstrings."
   ]
  },
  {
   "cell_type": "code",
   "execution_count": 29,
   "metadata": {},
   "outputs": [
    {
     "name": "stdout",
     "output_type": "stream",
     "text": [
      "hello nabin\n",
      "hello nabin\n",
      "hello nabin\n",
      "hello,welcome to the nabin python \n"
     ]
    }
   ],
   "source": [
    "#defining strings in python\n",
    "#all of the following are equivalent\n",
    "my_string=\"hello nabin\"\n",
    "print(my_string)\n",
    "\n",
    "my_string='hello nabin'\n",
    "print(my_string)\n",
    "\n",
    "my_sring='''hello nabin'''\n",
    "print(my_string)\n",
    "\n",
    "my_string=\"\"\"hello,welcome to the nabin python \"\"\"\n",
    "print(my_string)"
   ]
  },
  {
   "cell_type": "raw",
   "metadata": {},
   "source": [
    "#How to access characters in a string?\n",
    "\n",
    "We can access individual characters using indexing and a range of characters using slicing. Index starts from 0. Trying to access a character out of index range will raise an IndexError. The index must be an integer. We can't use floats or other types, this will result into TypeError.\n",
    "\n",
    "Python allows negative indexing for its sequences.\n",
    "\n",
    "The index of -1 refers to the last item, -2 to the second last item and so on. We can access a range of items in a string by using the slicing operator :(colon)."
   ]
  },
  {
   "cell_type": "code",
   "execution_count": 33,
   "metadata": {},
   "outputs": [
    {
     "name": "stdout",
     "output_type": "stream",
     "text": [
      "str= programiz\n",
      "str[0]= p\n",
      "str[-1]= z\n",
      "str[1:5]= rogr\n",
      "str[5:-2]= am\n"
     ]
    }
   ],
   "source": [
    "#Accessing string charaters in python\n",
    "str=\"programiz\"\n",
    "print(\"str=\",str)\n",
    "\n",
    "#first character\n",
    "print(\"str[0]=\",str[0])\n",
    "\n",
    "#last character\n",
    "print(\"str[-1]=\",str[-1])\n",
    "\n",
    "#slicing 2nd to 5th character\n",
    "print(\"str[1:5]=\",str[1:5])\n",
    "\n",
    "#slicing 6th to 2nd last character\n",
    "print(\"str[5:-2]=\",str[5:-2])"
   ]
  },
  {
   "cell_type": "raw",
   "metadata": {},
   "source": [
    "If we try to access an index out of the range or use numbers other than an integer, we will get errors."
   ]
  },
  {
   "cell_type": "code",
   "execution_count": 35,
   "metadata": {},
   "outputs": [
    {
     "ename": "TypeError",
     "evalue": "string indices must be integers",
     "output_type": "error",
     "traceback": [
      "\u001b[0;31m---------------------------------------------------------------------------\u001b[0m",
      "\u001b[0;31mTypeError\u001b[0m                                 Traceback (most recent call last)",
      "\u001b[0;32m<ipython-input-35-5d671ba6ff18>\u001b[0m in \u001b[0;36m<module>\u001b[0;34m\u001b[0m\n\u001b[1;32m      3\u001b[0m \u001b[0;34m\u001b[0m\u001b[0m\n\u001b[1;32m      4\u001b[0m \u001b[0;31m#index must be an integer\u001b[0m\u001b[0;34m\u001b[0m\u001b[0;34m\u001b[0m\u001b[0;34m\u001b[0m\u001b[0m\n\u001b[0;32m----> 5\u001b[0;31m \u001b[0mmy_string\u001b[0m\u001b[0;34m[\u001b[0m\u001b[0;36m1.5\u001b[0m\u001b[0;34m]\u001b[0m\u001b[0;34m\u001b[0m\u001b[0;34m\u001b[0m\u001b[0m\n\u001b[0m",
      "\u001b[0;31mTypeError\u001b[0m: string indices must be integers"
     ]
    }
   ],
   "source": [
    "#index must be in range\n",
    "my_string[15]\n",
    "\n",
    "#index must be an integer\n",
    "my_string[1.5]"
   ]
  },
  {
   "cell_type": "raw",
   "metadata": {},
   "source": [
    "Slicing can be best visualized by considering the index to be between the elements as shown below.\n",
    "\n",
    "If we want to access a range, we need the index that will slice the portion from the string."
   ]
  },
  {
   "cell_type": "raw",
   "metadata": {},
   "source": [
    "P   R   O   R   R   A   M   I   Z\n",
    "0   1   2   3   4   5   6   7   8  9\n",
    "-9 -8  -7  -6  -5  -4  -3  -2  -1"
   ]
  },
  {
   "cell_type": "raw",
   "metadata": {},
   "source": [
    "#How to change or delete a string?\n",
    "\n",
    "Strings are immutable. This means that elements of a string cannot be changed once they have been assigned. We can simply reassign different strings to the same name."
   ]
  },
  {
   "cell_type": "code",
   "execution_count": 36,
   "metadata": {},
   "outputs": [
    {
     "ename": "TypeError",
     "evalue": "'str' object does not support item assignment",
     "output_type": "error",
     "traceback": [
      "\u001b[0;31m---------------------------------------------------------------------------\u001b[0m",
      "\u001b[0;31mTypeError\u001b[0m                                 Traceback (most recent call last)",
      "\u001b[0;32m<ipython-input-36-f9708e5f161c>\u001b[0m in \u001b[0;36m<module>\u001b[0;34m\u001b[0m\n\u001b[1;32m      1\u001b[0m \u001b[0mmy_string\u001b[0m\u001b[0;34m=\u001b[0m\u001b[0;34m\"programiz\"\u001b[0m\u001b[0;34m\u001b[0m\u001b[0;34m\u001b[0m\u001b[0m\n\u001b[0;32m----> 2\u001b[0;31m \u001b[0mmy_string\u001b[0m\u001b[0;34m[\u001b[0m\u001b[0;36m5\u001b[0m\u001b[0;34m]\u001b[0m\u001b[0;34m=\u001b[0m\u001b[0;34m\"a\"\u001b[0m\u001b[0;34m\u001b[0m\u001b[0;34m\u001b[0m\u001b[0m\n\u001b[0m",
      "\u001b[0;31mTypeError\u001b[0m: 'str' object does not support item assignment"
     ]
    }
   ],
   "source": [
    "my_string=\"programiz\"\n",
    "my_string[5]=\"a\""
   ]
  },
  {
   "cell_type": "code",
   "execution_count": 37,
   "metadata": {},
   "outputs": [
    {
     "data": {
      "text/plain": [
       "'python'"
      ]
     },
     "execution_count": 37,
     "metadata": {},
     "output_type": "execute_result"
    }
   ],
   "source": [
    "my_string=\"python\"\n",
    "my_string"
   ]
  },
  {
   "cell_type": "raw",
   "metadata": {},
   "source": [
    "We cannot delete or remove characters from a string. But deleting the string entirely is possible using the del keyword."
   ]
  },
  {
   "cell_type": "code",
   "execution_count": 41,
   "metadata": {},
   "outputs": [
    {
     "ename": "NameError",
     "evalue": "name 'my_string' is not defined",
     "output_type": "error",
     "traceback": [
      "\u001b[0;31m---------------------------------------------------------------------------\u001b[0m",
      "\u001b[0;31mNameError\u001b[0m                                 Traceback (most recent call last)",
      "\u001b[0;32m<ipython-input-41-d6fdf108d0d3>\u001b[0m in \u001b[0;36m<module>\u001b[0;34m\u001b[0m\n\u001b[0;32m----> 1\u001b[0;31m \u001b[0;32mdel\u001b[0m \u001b[0mmy_string\u001b[0m\u001b[0;34m[\u001b[0m\u001b[0;36m1\u001b[0m\u001b[0;34m]\u001b[0m\u001b[0;34m\u001b[0m\u001b[0;34m\u001b[0m\u001b[0m\n\u001b[0m",
      "\u001b[0;31mNameError\u001b[0m: name 'my_string' is not defined"
     ]
    }
   ],
   "source": [
    "del my_string[1]"
   ]
  },
  {
   "cell_type": "raw",
   "metadata": {},
   "source": [
    "#Python String Operations\n",
    "\n",
    "There are many operations that can be performed with strings which makes it one of the most used data types in Python."
   ]
  },
  {
   "cell_type": "raw",
   "metadata": {},
   "source": [
    "#Concatenation of Two or More Strings\n",
    "\n",
    "Joining of two or more strings into a single one is called concatenation.\n",
    "\n",
    "The + operator does this in Python. Simply writing two string literals together also concatenates them.\n",
    "\n",
    "The * operator can be used to repeat the string for a given number of times."
   ]
  },
  {
   "cell_type": "code",
   "execution_count": 45,
   "metadata": {},
   "outputs": [
    {
     "name": "stdout",
     "output_type": "stream",
     "text": [
      "str1+str2= hellonabin\n",
      "str1*3= hellohellohello\n"
     ]
    }
   ],
   "source": [
    "#python string operations\n",
    "str1=\"hello\"\n",
    "str2=\"nabin\"\n",
    "\n",
    "#using +\n",
    "print(\"str1+str2=\",str1+str2)\n",
    "      \n",
    "#using *\n",
    "print(\"str1*3=\",str1*3)"
   ]
  },
  {
   "cell_type": "raw",
   "metadata": {},
   "source": [
    "#Writing two string literals together also concatenates them like + operator.\n",
    "\n",
    "#If we want to concatenate strings in different lines, we can use parentheses."
   ]
  },
  {
   "cell_type": "code",
   "execution_count": 48,
   "metadata": {},
   "outputs": [
    {
     "data": {
      "text/plain": [
       "'hellonabin'"
      ]
     },
     "execution_count": 48,
     "metadata": {},
     "output_type": "execute_result"
    }
   ],
   "source": [
    "#two string literals together\n",
    "\"hello 'nabin!''\"\n",
    "'hello nabin!'\n",
    "\n",
    "#using parentheses\n",
    "x=(\"hello\"\n",
    "  \"nabin\")\n",
    "x\n",
    "\"hello nabin\""
   ]
  },
  {
   "cell_type": "raw",
   "metadata": {},
   "source": [
    "#Iterating Through a string\n",
    "\n",
    "We can iterate through a string using a for loop. Here is an example to count the number of 'l's in a string."
   ]
  },
  {
   "cell_type": "code",
   "execution_count": 94,
   "metadata": {},
   "outputs": [
    {
     "name": "stdout",
     "output_type": "stream",
     "text": [
      "1 letters found\n"
     ]
    }
   ],
   "source": [
    "#iterating thought a sting \n",
    "count = 0\n",
    "for letter in \"hello world\":\n",
    "    if(letter == \"e\"):\n",
    "        count += 1\n",
    "print(count,\"letters found\")"
   ]
  },
  {
   "cell_type": "code",
   "execution_count": 92,
   "metadata": {},
   "outputs": [
    {
     "name": "stdout",
     "output_type": "stream",
     "text": [
      "3 letters found\n"
     ]
    }
   ],
   "source": [
    "# Iterating through a string\n",
    "count = 0\n",
    "for letter in 'Hello world':\n",
    "    if(letter == 'l'):\n",
    "        count += 1\n",
    "print(count,'letters found')"
   ]
  },
  {
   "cell_type": "code",
   "execution_count": 95,
   "metadata": {},
   "outputs": [
    {
     "name": "stdout",
     "output_type": "stream",
     "text": [
      "3 letters found\n"
     ]
    }
   ],
   "source": [
    "#iterating thought a stirng   \n",
    "count = 0\n",
    "for letter in 'nabin point':\n",
    "    if(letter == 'n'):\n",
    "        count += 1\n",
    "print(count,'letters found')"
   ]
  },
  {
   "cell_type": "raw",
   "metadata": {},
   "source": [
    "#String Membership Test\n",
    "\n",
    "We can test if a substring exists within a string or not, using the keyword in."
   ]
  },
  {
   "cell_type": "code",
   "execution_count": 100,
   "metadata": {},
   "outputs": [
    {
     "data": {
      "text/plain": [
       "True"
      ]
     },
     "execution_count": 100,
     "metadata": {},
     "output_type": "execute_result"
    }
   ],
   "source": [
    "\"p\" in \"program\"   # in function"
   ]
  },
  {
   "cell_type": "code",
   "execution_count": 101,
   "metadata": {},
   "outputs": [
    {
     "data": {
      "text/plain": [
       "False"
      ]
     },
     "execution_count": 101,
     "metadata": {},
     "output_type": "execute_result"
    }
   ],
   "source": [
    "\"at\" not in \"battle\" #not in function"
   ]
  },
  {
   "cell_type": "raw",
   "metadata": {},
   "source": [
    "#Built-in functions to Work with Python\n",
    "\n",
    "Various built-in functions that work with sequence work with strings as well.\n",
    "\n",
    "Some of the commonly used ones are enumerate() and len(). The enumerate() function returns an enumerate object. It contains the index and value of all the items in the string as pairs. This can be useful for iteration.\n",
    "\n",
    "Similarly, len() returns the length (number of characters) of the string."
   ]
  },
  {
   "cell_type": "code",
   "execution_count": 102,
   "metadata": {},
   "outputs": [
    {
     "name": "stdout",
     "output_type": "stream",
     "text": [
      "list(enumerate(str)= [(0, 'n'), (1, 'a'), (2, 'b'), (3, 'i'), (4, 'n')]\n",
      "len(str)= 5\n"
     ]
    }
   ],
   "source": [
    "str=\"nabin\"\n",
    "\n",
    "#enumerate()\n",
    "list_enumerate=list(enumerate(str))\n",
    "print(\"list(enumerate(str)=\",list_enumerate)\n",
    "\n",
    "#charater count\n",
    "print(\"len(str)=\",len(str))"
   ]
  },
  {
   "cell_type": "raw",
   "metadata": {},
   "source": [
    "#Python String Formatting"
   ]
  },
  {
   "cell_type": "raw",
   "metadata": {},
   "source": [
    "#Escape Sequence\n",
    "\n",
    "If we want to print a text like He said, \"What's there?\", we can neither use single quotes nor double quotes. This will result in a SyntaxError as the text itself contains both single and double quotes."
   ]
  },
  {
   "cell_type": "code",
   "execution_count": 103,
   "metadata": {},
   "outputs": [
    {
     "ename": "SyntaxError",
     "evalue": "invalid syntax (<ipython-input-103-2c5662488a14>, line 1)",
     "output_type": "error",
     "traceback": [
      "\u001b[0;36m  File \u001b[0;32m\"<ipython-input-103-2c5662488a14>\"\u001b[0;36m, line \u001b[0;32m1\u001b[0m\n\u001b[0;31m    print(\"He said,\"What`s there?\"\")\u001b[0m\n\u001b[0m                    ^\u001b[0m\n\u001b[0;31mSyntaxError\u001b[0m\u001b[0;31m:\u001b[0m invalid syntax\n"
     ]
    }
   ],
   "source": [
    "print(\"He said,\"What`s there?\"\")"
   ]
  },
  {
   "cell_type": "raw",
   "metadata": {},
   "source": [
    "#One way to get around this problem is to use triple quotes. Alternatively, we can use escape sequences.\n",
    "\n",
    "#An escape sequence starts with a backslash and is interpreted differently. If we use a single quote to represent a string, all the single quotes inside the string must be escaped. Similar is the case with double quotes. Here is how it can be done to represent the above text."
   ]
  },
  {
   "cell_type": "code",
   "execution_count": 109,
   "metadata": {},
   "outputs": [
    {
     "name": "stdout",
     "output_type": "stream",
     "text": [
      "He said, \"What's there?\"\n",
      "He said, \"What's there?\"\n",
      "He said, \"What's there?\"\n"
     ]
    }
   ],
   "source": [
    "# using triple quotes\n",
    "print('''He said, \"What's there?\"''')\n",
    "\n",
    "# escaping single quotes\n",
    "print('He said, \"What\\'s there?\"')\n",
    "\n",
    "# escaping double quotes\n",
    "print(\"He said, \\\"What's there?\\\"\")"
   ]
  },
  {
   "cell_type": "raw",
   "metadata": {},
   "source": [
    "#The format() Method for Formatting Strings\n",
    "\n",
    "#The format() method that is available with the string object is very versatile and powerful in formatting strings.\n",
    "\n",
    "#Format strings contain curly braces {} as placeholders or replacement fields which get replaced.\n",
    "\n",
    "We can use positional arguments or keyword arguments to specify the order."
   ]
  },
  {
   "cell_type": "code",
   "execution_count": 127,
   "metadata": {},
   "outputs": [
    {
     "name": "stdout",
     "output_type": "stream",
     "text": [
      "\n",
      "-----Defult order-----\n",
      "abin,veen,inea and Navina\n",
      "\n",
      "---Positional order---\n",
      "veen,abin and inea\n",
      "\n",
      "----Keyword_order----\n",
      "subedi,bedi & jelly\n"
     ]
    }
   ],
   "source": [
    "#python string format() menthod\n",
    "\n",
    "#defult(imlicit)order\n",
    "defult_order=\"{},{},{} and {}\".format(\"abin\",\"veen\",\"inea\",\"Navina\")\n",
    "print(\"\\n-----Defult order-----\")\n",
    "print(defult_order)\n",
    "\n",
    "#order using positional argument\n",
    "positional_order=\"{1},{0} and {2}\".format(\"abin\",\"veen\",\"inea\")\n",
    "print(\"\\n---Positional order---\")\n",
    "print(positional_order)\n",
    "\n",
    "\n",
    "#order using keyword argument\n",
    "keyword_order = \"{s},{b} & {j}\".format(s=\"subedi\",b=\"bedi\",j=\"jelly\")\n",
    "print(\"\\n----Keyword_order----\")\n",
    "print(keyword_order)\n",
    "\n",
    "#\"\\n break the paragraph"
   ]
  },
  {
   "cell_type": "raw",
   "metadata": {},
   "source": [
    "The format() method can have optional format specifications. They are separated from the field name using colon. For example, we can left-justify <, right-justify > or center ^ a string in the given space.\n",
    "\n",
    "We can also format integers as binary, hexadecimal, etc. and floats can be rounded or displayed in the exponent format. There are tons of formatting you can use. Visit here for all the string formatting available with the format() method.\n",
    "\n",
    "#in mathematics and digital electronics, a binary number is a number expressed in the base-2 numeral system or binary numeral system, which uses only two symbols: typically \"0\" (zero) and \"1\" (one)."
   ]
  },
  {
   "cell_type": "code",
   "execution_count": 137,
   "metadata": {},
   "outputs": [
    {
     "data": {
      "text/plain": [
       "'Binary representation of 142 is 10001110'"
      ]
     },
     "execution_count": 137,
     "metadata": {},
     "output_type": "execute_result"
    }
   ],
   "source": [
    "#formating integers\n",
    "\"Binary representation of {0} is {0:b}\".format(142)"
   ]
  },
  {
   "cell_type": "code",
   "execution_count": 150,
   "metadata": {},
   "outputs": [
    {
     "data": {
      "text/plain": [
       "'142 is 10001110'"
      ]
     },
     "execution_count": 150,
     "metadata": {},
     "output_type": "execute_result"
    }
   ],
   "source": [
    "\"{0} is {0:b}\".format(142)\n",
    "\n",
    "#b is the binary function"
   ]
  },
  {
   "cell_type": "code",
   "execution_count": 148,
   "metadata": {},
   "outputs": [
    {
     "data": {
      "text/plain": [
       "'Exponet representation:1.400000e+00'"
      ]
     },
     "execution_count": 148,
     "metadata": {},
     "output_type": "execute_result"
    }
   ],
   "source": [
    "#formatig floats\n",
    "\"Exponet representation:{0:e}\".format(1.4)"
   ]
  },
  {
   "cell_type": "code",
   "execution_count": 151,
   "metadata": {},
   "outputs": [
    {
     "data": {
      "text/plain": [
       "'one third is:0.333'"
      ]
     },
     "execution_count": 151,
     "metadata": {},
     "output_type": "execute_result"
    }
   ],
   "source": [
    "#round off\n",
    "\"one third is:{0:.3f}\".format(1/3)"
   ]
  },
  {
   "cell_type": "code",
   "execution_count": 155,
   "metadata": {},
   "outputs": [
    {
     "data": {
      "text/plain": [
       "'one third is:0.33333333'"
      ]
     },
     "execution_count": 155,
     "metadata": {},
     "output_type": "execute_result"
    }
   ],
   "source": [
    "#round off\n",
    "\"one third is:{0:.8f}\".format(1/3)"
   ]
  },
  {
   "cell_type": "code",
   "execution_count": 173,
   "metadata": {},
   "outputs": [
    {
     "data": {
      "text/plain": [
       "'nabin        ???   abin   Neveen'"
      ]
     },
     "execution_count": 173,
     "metadata": {},
     "output_type": "execute_result"
    }
   ],
   "source": [
    "#string aligment\n",
    "\"{:<13}???{:^10}{:<1}\".format(\"nabin\",\"abin\",\"Neveen\")"
   ]
  },
  {
   "cell_type": "code",
   "execution_count": 185,
   "metadata": {},
   "outputs": [
    {
     "data": {
      "text/plain": [
       "'nabin     subedi          Yaatra  point'"
      ]
     },
     "execution_count": 185,
     "metadata": {},
     "output_type": "execute_result"
    }
   ],
   "source": [
    "\"{:<10}{:^3}{:>16}{:>7}\".format(\"nabin\",\"subedi\",\"Yaatra\",\"point\")"
   ]
  },
  {
   "cell_type": "raw",
   "metadata": {},
   "source": [
    "#Common Python String Methods\n",
    "\n",
    "There are numerous methods available with the string object. The format() method that we mentioned above is one of them. Some of the commonly used methods are lower(), upper(), join(), split(), find(), replace() etc. \n"
   ]
  },
  {
   "cell_type": "code",
   "execution_count": 189,
   "metadata": {},
   "outputs": [
    {
     "data": {
      "text/plain": [
       "'nabin subedi'"
      ]
     },
     "execution_count": 189,
     "metadata": {},
     "output_type": "execute_result"
    }
   ],
   "source": [
    "\"Nabin SubEdi\".lower()"
   ]
  },
  {
   "cell_type": "code",
   "execution_count": 190,
   "metadata": {},
   "outputs": [
    {
     "data": {
      "text/plain": [
       "'NABIN SUBEDI'"
      ]
     },
     "execution_count": 190,
     "metadata": {},
     "output_type": "execute_result"
    }
   ],
   "source": [
    "\"nabin SuBeDi\".upper()"
   ]
  },
  {
   "cell_type": "code",
   "execution_count": 192,
   "metadata": {},
   "outputs": [
    {
     "data": {
      "text/plain": [
       "['this', 'will', 'split', 'all', 'the', 'words', 'into', 'a', 'list']"
      ]
     },
     "execution_count": 192,
     "metadata": {},
     "output_type": "execute_result"
    }
   ],
   "source": [
    "\"this will split all the words into a list\".split()"
   ]
  },
  {
   "cell_type": "code",
   "execution_count": 200,
   "metadata": {},
   "outputs": [
    {
     "data": {
      "text/plain": [
       "'ThiswillBEjoinalltheWords'"
      ]
     },
     "execution_count": 200,
     "metadata": {},
     "output_type": "execute_result"
    }
   ],
   "source": [
    "\"\".join([\"This\", \"will\", \"BE\", \"join\", \"all\", \"the\", \"Words\"])\n",
    "\n",
    "#Space is not in \"\" ❌\n"
   ]
  },
  {
   "cell_type": "code",
   "execution_count": 201,
   "metadata": {},
   "outputs": [
    {
     "data": {
      "text/plain": [
       "'This will join all words into a string'"
      ]
     },
     "execution_count": 201,
     "metadata": {},
     "output_type": "execute_result"
    }
   ],
   "source": [
    "##Space is not in \"\" ◯\n",
    "' '.join(['This', 'will', 'join', 'all', 'words', 'into', 'a', 'string'])"
   ]
  },
  {
   "cell_type": "markdown",
   "metadata": {},
   "source": [
    "# python integers  [int]\n",
    "\n",
    "int (signed integers) − They are often called just integers or ints. They are positive or negative whole numbers with no decimal point. Integers in Python 3 are of unlimited size. Python 2 has two integer types - int and long.\n",
    "\n",
    "The int() method returns an integer object from any number or string."
   ]
  },
  {
   "cell_type": "code",
   "execution_count": 205,
   "metadata": {},
   "outputs": [],
   "source": [
    "o=int(3) # o will be 3"
   ]
  },
  {
   "cell_type": "code",
   "execution_count": 208,
   "metadata": {},
   "outputs": [],
   "source": [
    "#The syntax of int() method is:\n",
    "int(x=0,base=10)"
   ]
  },
  {
   "cell_type": "raw",
   "metadata": {},
   "source": [
    "int() Parameters\n",
    "\n",
    "int() method takes two arguments:\n",
    "\n",
    "    .x - Number or string to be converted to integer object.\n",
    "        The default argument is zero.\n",
    "    .base - Base of the number in x.\n",
    "        Can be 0 (code literal) or 2-36.\n"
   ]
  },
  {
   "cell_type": "raw",
   "metadata": {},
   "source": [
    "Return value from int()\n",
    "\n",
    "int() method returns:\n",
    "\n",
    "        .an integer object from the given number or string treats \n",
    "            default base as 10\n",
    "        .(No parameters) returns 0\n",
    "        \n",
    "        .(If base given) treats the string in the given base\n",
    "            (0, 2, 8, 10, 16)"
   ]
  },
  {
   "cell_type": "raw",
   "metadata": {},
   "source": [
    "Example 1: How int() works in Python?"
   ]
  },
  {
   "cell_type": "code",
   "execution_count": 209,
   "metadata": {},
   "outputs": [
    {
     "name": "stdout",
     "output_type": "stream",
     "text": [
      "int(123)is: 123\n",
      "int(123.23)is: 123\n",
      "int('123')is: 123\n"
     ]
    }
   ],
   "source": [
    "#integer\n",
    "print(\"int(123)is:\",int(123))\n",
    "\n",
    "#float\n",
    "print(\"int(123.23)is:\",int(123.23))\n",
    "\n",
    "#string\n",
    "print(\"int('123')is:\",int('123'))"
   ]
  },
  {
   "cell_type": "raw",
   "metadata": {},
   "source": [
    "Example 2: How int() works for decimal, octal and hexadecimal?"
   ]
  },
  {
   "cell_type": "code",
   "execution_count": 232,
   "metadata": {},
   "outputs": [
    {
     "name": "stdout",
     "output_type": "stream",
     "text": [
      "For 1010,int is: 10\n",
      "For 0b1010,int is: 10\n",
      "For 12, int is: 10\n",
      "For 0o12, int is: 10\n",
      "For A, int is: 10\n",
      "for 0xA,int is: 10\n"
     ]
    }
   ],
   "source": [
    "#binary # Function ➡️Ob or OB\n",
    "print(\"For 1010,int is:\",int(\"1010\",2))\n",
    "print(\"For 0b1010,int is:\",int(\"0B1010\",2))\n",
    "\n",
    "#octal ＃Function ➡️0o or OO\n",
    "print(\"For 12, int is:\", int(\"12\",8))\n",
    "print(\"For 0o12, int is:\",int(\"0o12\",8))\n",
    "\n",
    "#hexadecimal　#function ➡️ 0xa or 0XA\n",
    "print(\"For A, int is:\",int(\"A\",16))\n",
    "print(\"for 0xA,int is:\",int(\"0xa\",16))"
   ]
  },
  {
   "cell_type": "raw",
   "metadata": {},
   "source": [
    "Example 3: int() for custom objects"
   ]
  },
  {
   "cell_type": "raw",
   "metadata": {},
   "source": [
    "Internally, int() method calls an object's __int__() method.\n",
    "\n",
    "So, even if an object isn't a number, you can convert the object into an integer object.\n",
    "\n",
    "You can do this by overriding __index__() and __int__() methods of the class to return a number.\n",
    "\n",
    "These two methods should return the same value as older versions of Python uses __int__(), while newer uses __index__() method."
   ]
  },
  {
   "cell_type": "code",
   "execution_count": 260,
   "metadata": {},
   "outputs": [
    {
     "name": "stdout",
     "output_type": "stream",
     "text": [
      "int(person) is: 68\n"
     ]
    }
   ],
   "source": [
    "class Person:\n",
    "    age = 68\n",
    "\n",
    "    def __index__(self):\n",
    "        return self.age\n",
    "    \n",
    "    def __int__(self):\n",
    "        return self.age\n",
    "\n",
    "person = Person()\n",
    "print('int(person) is:', int(person))"
   ]
  },
  {
   "cell_type": "markdown",
   "metadata": {},
   "source": [
    "# python float [float]\n",
    "\n",
    "The float() method returns a floating point number from a number or a string. ... Parameter Type, Usage ... if an argument is passed; 0.0 if no arguments passed; OverflowError exception if the argument is outside the range of Python float ..\n",
    "\n",
    "The syntax for float() is:"
   ]
  },
  {
   "cell_type": "code",
   "execution_count": 263,
   "metadata": {},
   "outputs": [
    {
     "name": "stdout",
     "output_type": "stream",
     "text": [
      "3.0\n"
     ]
    }
   ],
   "source": [
    "#Example\n",
    "z=float(3)   # z will be 3.0\n",
    "print(z)"
   ]
  },
  {
   "cell_type": "raw",
   "metadata": {},
   "source": [
    "float() Parameters\n",
    "\n",
    "The float() method takes a single parameter:\n",
    "\n",
    "x (Optional) - number or string that needs to be converted to floating point number\n",
    "If it's a string, the string should contain decimal points\n",
    "\n",
    "Different parameters with float()\n",
    "\n",
    "Parameter Type\tUsage\n",
    ".Float number\tUse as a floating number\n",
    ".Integer\t    Use as an integer\n",
    ".String\t        Must contain decimal numbers. Leading and trailing                   whitespaces are removed. Optional use of \"+\", \"-\" \n",
    "                  signs. Could contain NaN, Infinity, inf                             (lowercase or uppercase).\n",
    "\n"
   ]
  },
  {
   "cell_type": "raw",
   "metadata": {},
   "source": [
    "Return value from float()\n",
    "\n",
    "float() method returns:\n",
    "\n",
    "Equivalent floating point number if an argument is passed\n",
    "0.0 if no arguments passed\n",
    "OverflowError exception if the argument is outside the range of Python float"
   ]
  },
  {
   "cell_type": "raw",
   "metadata": {},
   "source": [
    "Example 1: How float() works in Python?"
   ]
  },
  {
   "cell_type": "code",
   "execution_count": 264,
   "metadata": {},
   "outputs": [
    {
     "name": "stdout",
     "output_type": "stream",
     "text": [
      "10.0\n",
      "12.22\n",
      "-12.22\n",
      "-22.45\n"
     ]
    },
    {
     "ename": "ValueError",
     "evalue": "could not convert string to float: 'nabin subedi'",
     "output_type": "error",
     "traceback": [
      "\u001b[0;31m---------------------------------------------------------------------------\u001b[0m",
      "\u001b[0;31mValueError\u001b[0m                                Traceback (most recent call last)",
      "\u001b[0;32m<ipython-input-264-e0b1d1cc8e22>\u001b[0m in \u001b[0;36m<module>\u001b[0;34m\u001b[0m\n\u001b[1;32m     12\u001b[0m \u001b[0;34m\u001b[0m\u001b[0m\n\u001b[1;32m     13\u001b[0m \u001b[0;31m#string float error\u001b[0m\u001b[0;34m\u001b[0m\u001b[0;34m\u001b[0m\u001b[0;34m\u001b[0m\u001b[0m\n\u001b[0;32m---> 14\u001b[0;31m \u001b[0mprint\u001b[0m\u001b[0;34m(\u001b[0m\u001b[0mfloat\u001b[0m\u001b[0;34m(\u001b[0m\u001b[0;34m\"nabin subedi\"\u001b[0m\u001b[0;34m)\u001b[0m\u001b[0;34m)\u001b[0m\u001b[0;34m\u001b[0m\u001b[0;34m\u001b[0m\u001b[0m\n\u001b[0m",
      "\u001b[0;31mValueError\u001b[0m: could not convert string to float: 'nabin subedi'"
     ]
    }
   ],
   "source": [
    "#for integers\n",
    "print(float(10))\n",
    "\n",
    "#for floats\n",
    "print(float(12.22))\n",
    "\n",
    "#for srting floats\n",
    "print(float(\"-12.22\"))\n",
    "\n",
    "#for string floats with whitespaces\n",
    "print(float(\"    -22.45\\n\"))  #Function➡️\\n\" gives the whitespace \n",
    "\n",
    "#string float error\n",
    "print(float(\"nabin subedi\"))"
   ]
  },
  {
   "cell_type": "raw",
   "metadata": {},
   "source": [
    "# Example 2: float() for infinity and Nan(Not a number)?"
   ]
  },
  {
   "cell_type": "code",
   "execution_count": 287,
   "metadata": {},
   "outputs": [
    {
     "name": "stdout",
     "output_type": "stream",
     "text": [
      "nan\n",
      "nan\n",
      "inf\n",
      "inf\n",
      "inf\n",
      "inf\n"
     ]
    }
   ],
   "source": [
    "#for NaN\n",
    "print(float(\"nan\"))\n",
    "print(float(\"NaN\"))\n",
    "\n",
    "#for Inf/infinity\n",
    "print(float(\"inf\"))\n",
    "print(float(\"InF\"))\n",
    "print(float(\"InFiNiTy\"))\n",
    "print(float(\"infinity\"))"
   ]
  },
  {
   "cell_type": "markdown",
   "metadata": {},
   "source": [
    "# Get the Type"
   ]
  },
  {
   "cell_type": "raw",
   "metadata": {},
   "source": [
    "The type() function either returns the type of the object or returns a new type object based on the arguments passed.\n",
    "\n",
    "You can get the data type of a variable with the type() function."
   ]
  },
  {
   "cell_type": "code",
   "execution_count": 288,
   "metadata": {},
   "outputs": [
    {
     "name": "stdout",
     "output_type": "stream",
     "text": [
      "<class 'int'>\n",
      "<class 'str'>\n"
     ]
    }
   ],
   "source": [
    "x=5\n",
    "y=\"nabin\"\n",
    "print(type(x))\n",
    "print(type(y))"
   ]
  },
  {
   "cell_type": "markdown",
   "metadata": {},
   "source": [
    "# Single or Double Quotes?"
   ]
  },
  {
   "cell_type": "raw",
   "metadata": {},
   "source": [
    "String variables can be declared either by using single or double quotes:"
   ]
  },
  {
   "cell_type": "code",
   "execution_count": 289,
   "metadata": {},
   "outputs": [],
   "source": [
    "x=\"nabin\"\n",
    "#is the same as\n",
    "x='nabin'"
   ]
  },
  {
   "cell_type": "code",
   "execution_count": 291,
   "metadata": {},
   "outputs": [
    {
     "name": "stdout",
     "output_type": "stream",
     "text": [
      "nabin\n"
     ]
    }
   ],
   "source": [
    "print(x)"
   ]
  },
  {
   "cell_type": "markdown",
   "metadata": {},
   "source": [
    "# Case-Sensitive"
   ]
  },
  {
   "cell_type": "raw",
   "metadata": {},
   "source": [
    "Variable names are case-sensitive."
   ]
  },
  {
   "cell_type": "code",
   "execution_count": 292,
   "metadata": {},
   "outputs": [],
   "source": [
    "#This will create two variables:\n",
    "\n",
    "a=4\n",
    "A=\"nabin\""
   ]
  },
  {
   "cell_type": "code",
   "execution_count": 294,
   "metadata": {},
   "outputs": [
    {
     "name": "stdout",
     "output_type": "stream",
     "text": [
      "4\n",
      "nabin\n"
     ]
    }
   ],
   "source": [
    "print(a)\n",
    "print(A)"
   ]
  },
  {
   "cell_type": "markdown",
   "metadata": {},
   "source": [
    "# Python - Variable Names"
   ]
  },
  {
   "cell_type": "raw",
   "metadata": {},
   "source": [
    "Variable Names\n",
    "\n",
    "A variable can have a short name (like x and y) or a more descriptive name (age, carname, total_volume). Rules for Python variables:\n",
    "\n",
    "➡️A variable name must start with a letter or the underscore character\n",
    "\n",
    "➡️A variable name cannot start with a number\n",
    "\n",
    "➡️A variable name can only contain alpha-numeric characters and underscores (A-z, 0-9, and _ )\n",
    "\n",
    "➡️Variable names are case-sensitive (age, Age and AGE are three different variables)"
   ]
  },
  {
   "cell_type": "code",
   "execution_count": 303,
   "metadata": {},
   "outputs": [
    {
     "name": "stdout",
     "output_type": "stream",
     "text": [
      "nabin\n",
      "nabin\n",
      "nabin\n",
      "nabin\n",
      "nabin\n",
      "nabin\n"
     ]
    }
   ],
   "source": [
    "#Legal variable names\n",
    "\n",
    "myname=\"nabin\"\n",
    "my_name=\"nabin\"\n",
    "_my_name=\"nabin\"\n",
    "myName=\"nabin\"\n",
    "MYNAE=\"nabin\"\n",
    "myname2=\"nabin\"\n",
    "\n",
    "print(myname)\n",
    "print(my_name)\n",
    "print(_my_name)\n",
    "print(myName)\n",
    "print(MYNAE)\n",
    "print(myname2)"
   ]
  },
  {
   "cell_type": "code",
   "execution_count": 304,
   "metadata": {},
   "outputs": [
    {
     "ename": "SyntaxError",
     "evalue": "invalid syntax (<ipython-input-304-e21d2ee3dcb8>, line 3)",
     "output_type": "error",
     "traceback": [
      "\u001b[0;36m  File \u001b[0;32m\"<ipython-input-304-e21d2ee3dcb8>\"\u001b[0;36m, line \u001b[0;32m3\u001b[0m\n\u001b[0;31m    2my_name=\"nabin\"\u001b[0m\n\u001b[0m     ^\u001b[0m\n\u001b[0;31mSyntaxError\u001b[0m\u001b[0;31m:\u001b[0m invalid syntax\n"
     ]
    }
   ],
   "source": [
    "#Illegal variable names\n",
    "\n",
    "2my_name=\"nabin\"\n",
    "my-name=\"nabin\"\n",
    "my name=\"nabin\"\n",
    "\n",
    "#Remember that variable names are case-sensitive"
   ]
  },
  {
   "cell_type": "markdown",
   "metadata": {},
   "source": [
    "# Multi Words Variable Names"
   ]
  },
  {
   "cell_type": "raw",
   "metadata": {},
   "source": [
    "Variable name with more than one words can be difficult to read.\n",
    "\n",
    "These are several techiques you can use to make them more readable"
   ]
  },
  {
   "cell_type": "raw",
   "metadata": {},
   "source": [
    "#Camel Case\n",
    "Each word , except the first, starts with a capital "
   ]
  },
  {
   "cell_type": "code",
   "execution_count": 306,
   "metadata": {},
   "outputs": [
    {
     "name": "stdout",
     "output_type": "stream",
     "text": [
      "Nabin\n"
     ]
    }
   ],
   "source": [
    "myVariableName=\"Nabin\"\n",
    "print(myVariableName)"
   ]
  },
  {
   "cell_type": "raw",
   "metadata": {},
   "source": [
    "#Pascal Case\n",
    "Ecch word starts with a capital letter:"
   ]
  },
  {
   "cell_type": "code",
   "execution_count": 307,
   "metadata": {},
   "outputs": [
    {
     "name": "stdout",
     "output_type": "stream",
     "text": [
      "Nabin\n"
     ]
    }
   ],
   "source": [
    "MyVariableName=\"Nabin\"\n",
    "print(MyVariableName)"
   ]
  },
  {
   "cell_type": "raw",
   "metadata": {},
   "source": [
    "#Snake Case\n",
    "Each word is seprated by an underscore character"
   ]
  },
  {
   "cell_type": "code",
   "execution_count": 309,
   "metadata": {},
   "outputs": [
    {
     "name": "stdout",
     "output_type": "stream",
     "text": [
      "nabin\n"
     ]
    }
   ],
   "source": [
    "my_varibale_name=\"nabin\"\n",
    "print(my_varibale_name)"
   ]
  },
  {
   "cell_type": "markdown",
   "metadata": {},
   "source": [
    "# Python Variables-Assign Multiple Values"
   ]
  },
  {
   "cell_type": "raw",
   "metadata": {},
   "source": [
    "#Many Values to Multiple Variables\n",
    "Python allows you to assign value to multiple variables in on line"
   ]
  },
  {
   "cell_type": "code",
   "execution_count": 312,
   "metadata": {},
   "outputs": [
    {
     "name": "stdout",
     "output_type": "stream",
     "text": [
      "nabin\n",
      "subedi\n",
      "python's student\n"
     ]
    }
   ],
   "source": [
    "x,y,z=\"nabin\",\"subedi\",\"python's student\"\n",
    "print(x)\n",
    "print(y)\n",
    "print(z)"
   ]
  },
  {
   "cell_type": "raw",
   "metadata": {},
   "source": [
    "#Note: Make sure the number of variables matches the number of values, or else you will get an error."
   ]
  },
  {
   "cell_type": "raw",
   "metadata": {},
   "source": [
    "#One Value to Multiple Variables\n",
    ".And you can assign the same value to multiple variables in one line:"
   ]
  },
  {
   "cell_type": "code",
   "execution_count": 313,
   "metadata": {},
   "outputs": [
    {
     "name": "stdout",
     "output_type": "stream",
     "text": [
      "Nabin,python's student\n",
      "Nabin,python's student\n",
      "Nabin,python's student\n"
     ]
    }
   ],
   "source": [
    "x=y=z=\"Nabin,python's student\"\n",
    "print(x)\n",
    "print(y)\n",
    "print(z)"
   ]
  },
  {
   "cell_type": "raw",
   "metadata": {},
   "source": [
    "#Unpack a Collection\n",
    "\n",
    "if You have a collection of values in a list, tuple etc. Python allows you extract the value into variables.This is called unpacking."
   ]
  },
  {
   "cell_type": "code",
   "execution_count": 314,
   "metadata": {},
   "outputs": [
    {
     "name": "stdout",
     "output_type": "stream",
     "text": [
      "python\n",
      "Java\n",
      "c++\n",
      "SQL\n"
     ]
    }
   ],
   "source": [
    "#unpack a list\n",
    "Students=[\"python\",\"Java\",\"c++\",\"SQL\"]\n",
    "a,b,c,d=Students\n",
    "print(a)\n",
    "print(b)\n",
    "print(c)\n",
    "print(d)"
   ]
  },
  {
   "cell_type": "raw",
   "metadata": {},
   "source": [
    "#unpacking a Tuple\n",
    "When we create a tuple, we normally assign values to it. This is called \"packing \"a tuple:"
   ]
  },
  {
   "cell_type": "code",
   "execution_count": 318,
   "metadata": {},
   "outputs": [
    {
     "name": "stdout",
     "output_type": "stream",
     "text": [
      "('python', 'Java', 'C++', 'SQL')\n"
     ]
    }
   ],
   "source": [
    "#packing a truples\n",
    "students=(\"python\",\"Java\",\"C++\",\"SQL\")\n",
    "print(students)"
   ]
  },
  {
   "cell_type": "raw",
   "metadata": {},
   "source": [
    "But, in python, we are also allowed to extract the values back into variables.This is called \"unpacking\":"
   ]
  },
  {
   "cell_type": "code",
   "execution_count": 322,
   "metadata": {},
   "outputs": [
    {
     "name": "stdout",
     "output_type": "stream",
     "text": [
      "python\n",
      "JAVA\n",
      "C++\n",
      "SQL\n"
     ]
    }
   ],
   "source": [
    "#unpacking a tuple:\n",
    "\n",
    "students=(\"python\",\"JAVA\",\"C++\",\"SQL\")\n",
    "(first,second,third,forth)=students\n",
    "\n",
    "print(first)\n",
    "print(second)\n",
    "print(third)\n",
    "print(forth)\n"
   ]
  },
  {
   "cell_type": "raw",
   "metadata": {},
   "source": [
    "#Using Asterix*\n",
    "If the number of variables is less than the number of values, you can add an* to the variable name and the value will be assigned to the bariable as a list:"
   ]
  },
  {
   "cell_type": "code",
   "execution_count": null,
   "metadata": {},
   "outputs": [],
   "source": [
    "#Assign the rest of the values as a list called \"forth\""
   ]
  },
  {
   "cell_type": "code",
   "execution_count": 323,
   "metadata": {},
   "outputs": [
    {
     "name": "stdout",
     "output_type": "stream",
     "text": [
      "python\n",
      "Java\n",
      "['C++', 'SQL']\n"
     ]
    }
   ],
   "source": [
    "students=(\"python\",\"Java\",\"C++\",\"SQL\")\n",
    "(first,second,*third)=students\n",
    "print(first)\n",
    "print(second)\n",
    "print(third)"
   ]
  },
  {
   "cell_type": "raw",
   "metadata": {},
   "source": [
    "If the asterix is added to another variable name than the last,python will assign values to the variable until the number of values left matches the number of variables left."
   ]
  },
  {
   "cell_type": "code",
   "execution_count": 324,
   "metadata": {},
   "outputs": [
    {
     "name": "stdout",
     "output_type": "stream",
     "text": [
      "python\n",
      "['Java', 'C++']\n",
      "SQL\n"
     ]
    }
   ],
   "source": [
    "#Add a list of values the \"second\"variable\n",
    "students=(\"python\",\"Java\",\"C++\",\"SQL\")\n",
    "(first,*second,third)=students\n",
    "print(first)\n",
    "print(second)\n",
    "print(third)\n"
   ]
  },
  {
   "cell_type": "markdown",
   "metadata": {},
   "source": [
    "# Python - Output Variables"
   ]
  },
  {
   "cell_type": "raw",
   "metadata": {},
   "source": [
    "The python print statement is often used to output variables.\n",
    "To combine both text and a variable,python uses the +character:"
   ]
  },
  {
   "cell_type": "code",
   "execution_count": 331,
   "metadata": {},
   "outputs": [
    {
     "name": "stdout",
     "output_type": "stream",
     "text": [
      "Python and Nabin\n"
     ]
    }
   ],
   "source": [
    "x = \"Nabin\"\n",
    "print(\"Python and \" + x)\n",
    "\n",
    "#\"Python and \" ⬅️　◯◯”　Space➡️◯◯"
   ]
  },
  {
   "cell_type": "code",
   "execution_count": 329,
   "metadata": {},
   "outputs": [
    {
     "name": "stdout",
     "output_type": "stream",
     "text": [
      "Python is awesome\n"
     ]
    }
   ],
   "source": [
    "x = \"awesome\"\n",
    "print(\"Python is \" + x)"
   ]
  },
  {
   "cell_type": "raw",
   "metadata": {},
   "source": [
    "＃You can also use the + character to add a variable to another variable."
   ]
  },
  {
   "cell_type": "code",
   "execution_count": 336,
   "metadata": {},
   "outputs": [
    {
     "name": "stdout",
     "output_type": "stream",
     "text": [
      "Nabin and python\n"
     ]
    }
   ],
   "source": [
    "x=\"Nabin\"\n",
    "y=\" and python\"\n",
    "z=x+y\n",
    "print(z)"
   ]
  },
  {
   "cell_type": "raw",
   "metadata": {},
   "source": [
    "#For the number, the + charactet works as a mathematical oprator:"
   ]
  },
  {
   "cell_type": "code",
   "execution_count": 339,
   "metadata": {},
   "outputs": [
    {
     "name": "stdout",
     "output_type": "stream",
     "text": [
      "300\n"
     ]
    }
   ],
   "source": [
    "x=100\n",
    "y=200\n",
    "print(x + y)"
   ]
  },
  {
   "cell_type": "raw",
   "metadata": {},
   "source": [
    "#If you try to combine a string and a number, Python will give you an error:"
   ]
  },
  {
   "cell_type": "code",
   "execution_count": 340,
   "metadata": {},
   "outputs": [
    {
     "ename": "TypeError",
     "evalue": "can only concatenate str (not \"int\") to str",
     "output_type": "error",
     "traceback": [
      "\u001b[0;31m---------------------------------------------------------------------------\u001b[0m",
      "\u001b[0;31mTypeError\u001b[0m                                 Traceback (most recent call last)",
      "\u001b[0;32m<ipython-input-340-58550469a3d8>\u001b[0m in \u001b[0;36m<module>\u001b[0;34m\u001b[0m\n\u001b[1;32m      1\u001b[0m \u001b[0mx\u001b[0m\u001b[0;34m=\u001b[0m\u001b[0;34m\"nabin\"\u001b[0m\u001b[0;34m\u001b[0m\u001b[0;34m\u001b[0m\u001b[0m\n\u001b[1;32m      2\u001b[0m \u001b[0my\u001b[0m\u001b[0;34m=\u001b[0m\u001b[0;36m100\u001b[0m\u001b[0;34m\u001b[0m\u001b[0;34m\u001b[0m\u001b[0m\n\u001b[0;32m----> 3\u001b[0;31m \u001b[0mprint\u001b[0m\u001b[0;34m(\u001b[0m\u001b[0mx\u001b[0m\u001b[0;34m+\u001b[0m\u001b[0my\u001b[0m\u001b[0;34m)\u001b[0m\u001b[0;34m\u001b[0m\u001b[0;34m\u001b[0m\u001b[0m\n\u001b[0m",
      "\u001b[0;31mTypeError\u001b[0m: can only concatenate str (not \"int\") to str"
     ]
    }
   ],
   "source": [
    "x=\"nabin\"\n",
    "y=100\n",
    "print(x+y)"
   ]
  },
  {
   "cell_type": "code",
   "execution_count": 342,
   "metadata": {},
   "outputs": [
    {
     "name": "stdout",
     "output_type": "stream",
     "text": [
      "nabin 100\n"
     ]
    }
   ],
   "source": [
    "x=\"nabin\"\n",
    "y=\" 100\"\n",
    "print(x+y)"
   ]
  },
  {
   "cell_type": "markdown",
   "metadata": {},
   "source": [
    "# Python - Global Variables"
   ]
  },
  {
   "cell_type": "raw",
   "metadata": {},
   "source": [
    "Global Variables\n",
    "\n",
    ".Variables that are created outside of a function (as in all of the example above)are know as global variables.\n",
    "\n",
    "Global variables can be used by everyone, both inside of functiond and outside"
   ]
  },
  {
   "cell_type": "code",
   "execution_count": 343,
   "metadata": {},
   "outputs": [
    {
     "name": "stdout",
     "output_type": "stream",
     "text": [
      "Python and Nabin subedi\n"
     ]
    }
   ],
   "source": [
    "#Create a varibale outside of a function, and use it inside the funciton\n",
    "\n",
    "x=\"Nabin subedi\"\n",
    "\n",
    "def myfunc():\n",
    "    print(\"Python and \" + x)\n",
    "    \n",
    "myfunc()"
   ]
  },
  {
   "cell_type": "raw",
   "metadata": {},
   "source": [
    "# if you create a variable with the same name inside a function, this variable will be local, and can only be used inside the function.The global variable with the same name will remain as it was, global and wiht the orginal value."
   ]
  },
  {
   "cell_type": "code",
   "execution_count": 353,
   "metadata": {},
   "outputs": [
    {
     "name": "stdout",
     "output_type": "stream",
     "text": [
      "Yes Nabin and python\n",
      "and python Nabin\n"
     ]
    }
   ],
   "source": [
    "#create a variabel inside a function,with the same name as the global variable.\n",
    "x=\"Nabin\"\n",
    "\n",
    "def myfunc():\n",
    "    x=\" Nabin and python\"\n",
    "    print(\"Yes\"+x)\n",
    "myfunc()\n",
    "print(\"and python \"+x)"
   ]
  },
  {
   "cell_type": "raw",
   "metadata": {},
   "source": [
    "The global keyword\n",
    "Normally, when you create a varibale inside a functioin, that variable is loval and can only be sued inside that function.\n",
    "\n",
    "To create global variable inside a funciton , you can use the global keyword."
   ]
  },
  {
   "cell_type": "code",
   "execution_count": 354,
   "metadata": {},
   "outputs": [
    {
     "name": "stdout",
     "output_type": "stream",
     "text": [
      "Python and Nabin\n"
     ]
    }
   ],
   "source": [
    "#if you use the global keyword, the variable belongs to the globel scope\n",
    "def myfunc():\n",
    "    global x\n",
    "    x= \"Nabin\"\n",
    "myfunc()\n",
    "print(\"Python and \"+x)"
   ]
  },
  {
   "cell_type": "raw",
   "metadata": {},
   "source": [
    "Also, use the global keyword if you want to change a global variable inside a funcition."
   ]
  },
  {
   "cell_type": "code",
   "execution_count": 362,
   "metadata": {},
   "outputs": [
    {
     "name": "stdout",
     "output_type": "stream",
     "text": [
      "Student and nabin\n"
     ]
    }
   ],
   "source": [
    "#To change the value of a global variable inside a funciton,refer to the variable by using the global keyword.\n",
    "\n",
    "x=\"Python and\"\n",
    "def myfunc():\n",
    "    global x\n",
    "    x=\"nabin\"\n",
    "\n",
    "myfunc()\n",
    "print(\"Student and \" + x)"
   ]
  },
  {
   "cell_type": "code",
   "execution_count": 367,
   "metadata": {},
   "outputs": [
    {
     "name": "stdout",
     "output_type": "stream",
     "text": [
      "Point and Fit\n"
     ]
    }
   ],
   "source": [
    "a=\"Nabin\"\n",
    "def myfunc():\n",
    "    global x\n",
    "    x=\"Fit\"\n",
    "    \n",
    "myfunc()\n",
    "print(\"Point and \"+x)"
   ]
  },
  {
   "cell_type": "markdown",
   "metadata": {},
   "source": [
    "# Python Data Types"
   ]
  },
  {
   "cell_type": "raw",
   "metadata": {},
   "source": [
    "Built-in Data Types\n",
    "\n",
    "In programming, data types is an important concept.\n",
    "\n",
    "Variables can stote data of different types, and different types can do different things.\n",
    "\n",
    "Python has the following data types built-in by defult, in these categories\n",
    "\n",
    "\n",
    "Text Type:         str\n",
    "Numeric Types:     int,float,complex\n",
    "Mapping type:      dict\n",
    "Set Tyoes;         Set, frozenset\n",
    "Boolen Types:      Bool\n",
    "Binary Types:      bytes,bytearray,Memoryview"
   ]
  },
  {
   "cell_type": "raw",
   "metadata": {},
   "source": [
    "Getting the Data type\n",
    "\n",
    "You can get the data type of any object by using the type()function:"
   ]
  },
  {
   "cell_type": "code",
   "execution_count": 369,
   "metadata": {},
   "outputs": [
    {
     "name": "stdout",
     "output_type": "stream",
     "text": [
      "<class 'int'>\n"
     ]
    }
   ],
   "source": [
    "#print the data type of the variable x:\n",
    "\n",
    "x=5\n",
    "print(type(x))"
   ]
  },
  {
   "cell_type": "raw",
   "metadata": {},
   "source": [
    "Setting the Data Type\n",
    "\n",
    "in python, the data type is set when you assign a balue to a variable:"
   ]
  },
  {
   "cell_type": "code",
   "execution_count": 380,
   "metadata": {},
   "outputs": [
    {
     "name": "stdout",
     "output_type": "stream",
     "text": [
      "hello nabin and pyhion\n",
      "<class 'str'>\n"
     ]
    }
   ],
   "source": [
    "a=\"hello nabin and pyhion\"        #Str\n",
    "print(a)\n",
    "print(type(a))\n",
    "\n"
   ]
  },
  {
   "cell_type": "code",
   "execution_count": 381,
   "metadata": {},
   "outputs": [
    {
     "name": "stdout",
     "output_type": "stream",
     "text": [
      "20\n",
      "<class 'int'>\n"
     ]
    }
   ],
   "source": [
    "b=20                              #int\n",
    "print(b)\n",
    "print(type(b))"
   ]
  },
  {
   "cell_type": "code",
   "execution_count": 382,
   "metadata": {},
   "outputs": [
    {
     "name": "stdout",
     "output_type": "stream",
     "text": [
      "20.5\n",
      "<class 'float'>\n"
     ]
    }
   ],
   "source": [
    "c=20.5                            #float\n",
    "print(c)\n",
    "print(type(c))\n"
   ]
  },
  {
   "cell_type": "code",
   "execution_count": 385,
   "metadata": {},
   "outputs": [
    {
     "name": "stdout",
     "output_type": "stream",
     "text": [
      "1j\n",
      "<class 'complex'>\n"
     ]
    }
   ],
   "source": [
    "d=1j                              #complex\n",
    "print(d)\n",
    "print(type(d))"
   ]
  },
  {
   "cell_type": "code",
   "execution_count": 386,
   "metadata": {},
   "outputs": [
    {
     "name": "stdout",
     "output_type": "stream",
     "text": [
      "['python', 'C++', 'Java', 'PHP']\n",
      "<class 'list'>\n"
     ]
    }
   ],
   "source": [
    "e=[\"python\",\"C++\",\"Java\",\"PHP\"]   #List\n",
    "print(e)\n",
    "print(type(e))"
   ]
  },
  {
   "cell_type": "code",
   "execution_count": 387,
   "metadata": {},
   "outputs": [
    {
     "name": "stdout",
     "output_type": "stream",
     "text": [
      "['python', 'C++', 'Java', 'PHP']\n",
      "<class 'list'>\n"
     ]
    }
   ],
   "source": [
    "f=(\"python\",\"C++\",\"Java\",\"PHP\")   #tuple\n",
    "print(e)\n",
    "print(type(e))"
   ]
  },
  {
   "cell_type": "code",
   "execution_count": 388,
   "metadata": {},
   "outputs": [
    {
     "name": "stdout",
     "output_type": "stream",
     "text": [
      "range(0, 6)\n",
      "<class 'range'>\n"
     ]
    }
   ],
   "source": [
    "g=range(6)                        #range\n",
    "print(g)\n",
    "print(type(g))"
   ]
  },
  {
   "cell_type": "code",
   "execution_count": 389,
   "metadata": {},
   "outputs": [
    {
     "name": "stdout",
     "output_type": "stream",
     "text": [
      "{'python', 'JAVA', 'PHP', 'C++'}\n",
      "<class 'set'>\n"
     ]
    }
   ],
   "source": [
    "h={\"python\",\"C++\",\"JAVA\",\"PHP\"}   #dict\n",
    "print(h)\n",
    "print(type(h))"
   ]
  },
  {
   "cell_type": "code",
   "execution_count": 390,
   "metadata": {},
   "outputs": [
    {
     "name": "stdout",
     "output_type": "stream",
     "text": [
      "{'python', 'JAVA', 'PHP', 'C++'}\n",
      "<class 'set'>\n"
     ]
    }
   ],
   "source": [
    "i={\"python\",\"C++\",\"JAVA\",\"PHP\"}   #set\n",
    "print(i)\n",
    "print(type(i))"
   ]
  },
  {
   "cell_type": "code",
   "execution_count": 395,
   "metadata": {},
   "outputs": [
    {
     "name": "stdout",
     "output_type": "stream",
     "text": [
      "frozenset({'python', 'C++JAVA', 'PHP'})\n",
      "<class 'frozenset'>\n"
     ]
    }
   ],
   "source": [
    "j=frozenset({\"python\",\"C++\"\"JAVA\",\n",
    "\"PHP\"})   #Frozenset\n",
    "print(j)\n",
    "print(type(j))"
   ]
  },
  {
   "cell_type": "code",
   "execution_count": 397,
   "metadata": {},
   "outputs": [
    {
     "name": "stdout",
     "output_type": "stream",
     "text": [
      "True\n",
      "<class 'bool'>\n"
     ]
    }
   ],
   "source": [
    "k=True\n",
    "print(k)\n",
    "print(type(k))"
   ]
  },
  {
   "cell_type": "code",
   "execution_count": 398,
   "metadata": {},
   "outputs": [
    {
     "name": "stdout",
     "output_type": "stream",
     "text": [
      "b'Nabin'\n",
      "<class 'bytes'>\n"
     ]
    }
   ],
   "source": [
    "l=b\"Nabin\"\n",
    "print(l)\n",
    "print(type(l))"
   ]
  },
  {
   "cell_type": "code",
   "execution_count": 400,
   "metadata": {},
   "outputs": [
    {
     "name": "stdout",
     "output_type": "stream",
     "text": [
      "bytearray(b'\\x00\\x00\\x00\\x00\\x00\\x00')\n",
      "<class 'bytearray'>\n"
     ]
    }
   ],
   "source": [
    "m=bytearray(6)\n",
    "print(m)\n",
    "print(type(m))\n"
   ]
  },
  {
   "cell_type": "code",
   "execution_count": 401,
   "metadata": {},
   "outputs": [
    {
     "name": "stdout",
     "output_type": "stream",
     "text": [
      "<memory at 0x7fc63bb1dc40>\n",
      "<class 'memoryview'>\n"
     ]
    }
   ],
   "source": [
    "n=memoryview(bytes(6))\n",
    "print(n)\n",
    "print(type(n))"
   ]
  },
  {
   "cell_type": "raw",
   "metadata": {},
   "source": [
    "#Setting the Specific Data Type\n",
    "\n",
    "if you want to specify the data type, you can use the following constructor functions:"
   ]
  },
  {
   "cell_type": "code",
   "execution_count": 422,
   "metadata": {},
   "outputs": [
    {
     "ename": "TypeError",
     "evalue": "'str' object is not callable",
     "output_type": "error",
     "traceback": [
      "\u001b[0;31m---------------------------------------------------------------------------\u001b[0m",
      "\u001b[0;31mTypeError\u001b[0m                                 Traceback (most recent call last)",
      "\u001b[0;32m<ipython-input-422-238e0528fda2>\u001b[0m in \u001b[0;36m<module>\u001b[0;34m\u001b[0m\n\u001b[0;32m----> 1\u001b[0;31m \u001b[0ma\u001b[0m \u001b[0;34m=\u001b[0m \u001b[0mstr\u001b[0m\u001b[0;34m(\u001b[0m\u001b[0;34m\"python and  nabin\"\u001b[0m\u001b[0;34m)\u001b[0m\u001b[0;34m\u001b[0m\u001b[0;34m\u001b[0m\u001b[0m\n\u001b[0m\u001b[1;32m      2\u001b[0m \u001b[0;31m#display a:\u001b[0m\u001b[0;34m\u001b[0m\u001b[0;34m\u001b[0m\u001b[0;34m\u001b[0m\u001b[0m\n\u001b[1;32m      3\u001b[0m \u001b[0mprint\u001b[0m\u001b[0;34m(\u001b[0m\u001b[0ma\u001b[0m\u001b[0;34m)\u001b[0m\u001b[0;34m\u001b[0m\u001b[0;34m\u001b[0m\u001b[0m\n\u001b[1;32m      4\u001b[0m \u001b[0;34m\u001b[0m\u001b[0m\n\u001b[1;32m      5\u001b[0m \u001b[0;31m#display the data type of a:\u001b[0m\u001b[0;34m\u001b[0m\u001b[0;34m\u001b[0m\u001b[0;34m\u001b[0m\u001b[0m\n",
      "\u001b[0;31mTypeError\u001b[0m: 'str' object is not callable"
     ]
    }
   ],
   "source": [
    "a = str(\"python and  nabin\")\n",
    "#display a:\n",
    "print(a)\n",
    "\n",
    "#display the data type of a:\n",
    "print(type(a))"
   ]
  },
  {
   "cell_type": "code",
   "execution_count": 412,
   "metadata": {},
   "outputs": [
    {
     "name": "stdout",
     "output_type": "stream",
     "text": [
      "20\n",
      "<class 'int'>\n"
     ]
    }
   ],
   "source": [
    "b=int(20)\n",
    "print(b)\n",
    "print(type(b))"
   ]
  },
  {
   "cell_type": "code",
   "execution_count": 413,
   "metadata": {},
   "outputs": [
    {
     "name": "stdout",
     "output_type": "stream",
     "text": [
      "12.8\n",
      "<class 'float'>\n"
     ]
    }
   ],
   "source": [
    "c=float(12.8)\n",
    "print(c)\n",
    "print(type(c))"
   ]
  },
  {
   "cell_type": "code",
   "execution_count": 421,
   "metadata": {},
   "outputs": [
    {
     "name": "stdout",
     "output_type": "stream",
     "text": [
      "7j\n",
      "<class 'complex'>\n"
     ]
    }
   ],
   "source": [
    "d=complex(7j)   #function key ➡️j\n",
    "print(d)\n",
    "print(type(d))"
   ]
  },
  {
   "cell_type": "code",
   "execution_count": 424,
   "metadata": {},
   "outputs": [
    {
     "name": "stdout",
     "output_type": "stream",
     "text": [
      "['python', 'Java', 'C++', 'PHP']\n",
      "<class 'list'>\n"
     ]
    }
   ],
   "source": [
    "e=list((\"python\",\"Java\",\"C++\",\"PHP\"))\n",
    "print(e)\n",
    "print(type(e))"
   ]
  },
  {
   "cell_type": "code",
   "execution_count": 425,
   "metadata": {},
   "outputs": [
    {
     "name": "stdout",
     "output_type": "stream",
     "text": [
      "<memory at 0x7fc63bb1d940>\n",
      "<class 'memoryview'>\n"
     ]
    }
   ],
   "source": [
    "n=memoryview(bytes(6))\n",
    "print(n)\n",
    "print(type(n))"
   ]
  },
  {
   "cell_type": "markdown",
   "metadata": {},
   "source": [
    "# Python Numbers"
   ]
  },
  {
   "cell_type": "raw",
   "metadata": {},
   "source": [
    "There are three numberic types in python:\n",
    ".int\n",
    ".float\n",
    ".complex\n",
    "\n",
    "Variable of numeric types are created when you assign a value of them:"
   ]
  },
  {
   "cell_type": "code",
   "execution_count": null,
   "metadata": {},
   "outputs": [],
   "source": [
    "x=1\n",
    "y=3.5\n",
    "z=1j"
   ]
  },
  {
   "cell_type": "raw",
   "metadata": {},
   "source": [
    "# to verify the types of any object in python, use the type()function:"
   ]
  },
  {
   "cell_type": "code",
   "execution_count": 426,
   "metadata": {},
   "outputs": [
    {
     "name": "stdout",
     "output_type": "stream",
     "text": [
      "<class 'complex'>\n",
      "<class 'str'>\n",
      "<class 'str'>\n"
     ]
    }
   ],
   "source": [
    "print(type(x))\n",
    "print(type(y))\n",
    "print(type(z))"
   ]
  },
  {
   "cell_type": "markdown",
   "metadata": {},
   "source": [
    "# Python Casting"
   ]
  },
  {
   "cell_type": "raw",
   "metadata": {},
   "source": [
    "Specify a Variable Types"
   ]
  },
  {
   "cell_type": "raw",
   "metadata": {},
   "source": [
    "There may be times when you want to specify a type on to a variable. This can be done with casting. Python is an object-orientated language, and as such it uses classes to define data types, including its primitive types.\n",
    "\n",
    "Casting in python is therefore done using constructor funciton.\n",
    "\n",
    "➡️int() -Constructs an integer number from an integer literal, a float literal (by rounding down to the previous whole numer), or a string literal (providing the string represents a whole number)\n",
    "\n",
    "➡️float() -constructs a float number form a integer literal, a float literal or a string literal (Providing the string represents a float or an integer)\n",
    "\n",
    "➡️str() -constructs a string from a wide variety of data types , including srings integer literals and float literals."
   ]
  },
  {
   "cell_type": "code",
   "execution_count": 427,
   "metadata": {},
   "outputs": [
    {
     "name": "stdout",
     "output_type": "stream",
     "text": [
      "5\n",
      "6\n",
      "6\n"
     ]
    }
   ],
   "source": [
    "#Integers:\n",
    "x=int(5)     #x will be 5\n",
    "y=int(6.8)   #Y will be 6\n",
    "z=int(\"6\")  #z will be 6\n",
    "\n",
    "print(x)\n",
    "print(y)\n",
    "print(z)"
   ]
  },
  {
   "cell_type": "code",
   "execution_count": 428,
   "metadata": {},
   "outputs": [
    {
     "name": "stdout",
     "output_type": "stream",
     "text": [
      "5.0\n",
      "6.8\n",
      "5.0\n",
      "5.6\n"
     ]
    }
   ],
   "source": [
    "#Floats:\n",
    "x=float(5)\n",
    "y=float(6.8)\n",
    "z=float(\"5\")\n",
    "o=float(\"5.6\")\n",
    "\n",
    "print(x)\n",
    "print(y)\n",
    "print(z)\n",
    "print(o)"
   ]
  },
  {
   "cell_type": "code",
   "execution_count": 439,
   "metadata": {},
   "outputs": [
    {
     "ename": "TypeError",
     "evalue": "'str' object is not callable",
     "output_type": "error",
     "traceback": [
      "\u001b[0;31m---------------------------------------------------------------------------\u001b[0m",
      "\u001b[0;31mTypeError\u001b[0m                                 Traceback (most recent call last)",
      "\u001b[0;32m<ipython-input-439-7fd84c404231>\u001b[0m in \u001b[0;36m<module>\u001b[0;34m\u001b[0m\n\u001b[1;32m      1\u001b[0m \u001b[0;31m#Strings:\u001b[0m\u001b[0;34m\u001b[0m\u001b[0;34m\u001b[0m\u001b[0;34m\u001b[0m\u001b[0m\n\u001b[0;32m----> 2\u001b[0;31m \u001b[0mx\u001b[0m\u001b[0;34m=\u001b[0m\u001b[0mstr\u001b[0m\u001b[0;34m(\u001b[0m\u001b[0;34m\"5n\"\u001b[0m\u001b[0;34m)\u001b[0m\u001b[0;34m\u001b[0m\u001b[0;34m\u001b[0m\u001b[0m\n\u001b[0m\u001b[1;32m      3\u001b[0m \u001b[0my\u001b[0m\u001b[0;34m=\u001b[0m\u001b[0mstr\u001b[0m\u001b[0;34m(\u001b[0m\u001b[0;36m2\u001b[0m\u001b[0;34m)\u001b[0m\u001b[0;34m\u001b[0m\u001b[0;34m\u001b[0m\u001b[0m\n\u001b[1;32m      4\u001b[0m \u001b[0mz\u001b[0m\u001b[0;34m=\u001b[0m\u001b[0mstr\u001b[0m\u001b[0;34m(\u001b[0m\u001b[0;36m6.0\u001b[0m\u001b[0;34m)\u001b[0m\u001b[0;34m\u001b[0m\u001b[0;34m\u001b[0m\u001b[0m\n\u001b[1;32m      5\u001b[0m \u001b[0;34m\u001b[0m\u001b[0m\n",
      "\u001b[0;31mTypeError\u001b[0m: 'str' object is not callable"
     ]
    }
   ],
   "source": [
    "#Strings:   ??????\n",
    "x=str(\"5n\")\n",
    "y=str(2)\n",
    "z=str(6.0)\n",
    "\n",
    "print(x)\n",
    "print(y)\n",
    "print(z)"
   ]
  },
  {
   "cell_type": "markdown",
   "metadata": {},
   "source": [
    "# Python Strings"
   ]
  },
  {
   "cell_type": "raw",
   "metadata": {},
   "source": [
    "✍️\n",
    "Strings\n",
    "\n",
    "Strings in python are surrounded by either single quotation marks, or double quotation marks.\n",
    "\n",
    "'Nabin' is the same as \"Nabin\"\n",
    "\n",
    "You can display a string literal with the print() function"
   ]
  },
  {
   "cell_type": "code",
   "execution_count": 440,
   "metadata": {},
   "outputs": [
    {
     "name": "stdout",
     "output_type": "stream",
     "text": [
      "nabin and python\n",
      "nabin and python\n"
     ]
    }
   ],
   "source": [
    "print('nabin and python')\n",
    "print(\"nabin and python\")"
   ]
  },
  {
   "cell_type": "raw",
   "metadata": {},
   "source": [
    "Assign string to a variable\n",
    "\n",
    "Assigning a string to a variable is done with the variable name followed by an equal sign and the string:"
   ]
  },
  {
   "cell_type": "code",
   "execution_count": 441,
   "metadata": {},
   "outputs": [
    {
     "name": "stdout",
     "output_type": "stream",
     "text": [
      "nabin and python\n"
     ]
    }
   ],
   "source": [
    "x=\"nabin and python\"\n",
    "print(x)"
   ]
  },
  {
   "cell_type": "raw",
   "metadata": {},
   "source": [
    "✍️\n",
    "Multiline strings\n",
    "\n",
    "You can assign a multiline string to a variable by using three quotes:"
   ]
  },
  {
   "cell_type": "code",
   "execution_count": 442,
   "metadata": {},
   "outputs": [
    {
     "name": "stdout",
     "output_type": "stream",
     "text": [
      "Nabin and python ,\n",
      "Python and student,\n",
      "doing by learning\n"
     ]
    }
   ],
   "source": [
    "#You can use three double quotes:\n",
    "\n",
    "x=\"\"\"Nabin and python ,\n",
    "Python and student,\n",
    "doing by learning\"\"\"\n",
    "print(x)\n",
    "\n"
   ]
  },
  {
   "cell_type": "code",
   "execution_count": 443,
   "metadata": {},
   "outputs": [
    {
     "name": "stdout",
     "output_type": "stream",
     "text": [
      "Nabin and python,\n",
      "Python and student,\n",
      "doing by learning\n"
     ]
    }
   ],
   "source": [
    "#or three single quotes\n",
    "\n",
    "x='''Nabin and python,\n",
    "Python and student,\n",
    "doing by learning'''\n",
    "print(x)"
   ]
  },
  {
   "cell_type": "raw",
   "metadata": {},
   "source": [
    "Note* in the result , the line breaks are inserted at the same position as in the code."
   ]
  },
  {
   "cell_type": "raw",
   "metadata": {},
   "source": [
    "✍️\n",
    "Srings are Arrays\n",
    "\n",
    "Line many other popular programming language, strings in python are arrays of bytes representing unicode characters.\n",
    "\n",
    "However,python does not have a character data type, a single character is simply a string with a length of 1\n",
    "\n",
    "⭕️square brackets can be used otoaccess elements of the string.✅[]"
   ]
  },
  {
   "cell_type": "raw",
   "metadata": {},
   "source": [
    "＃Get the character at position 1 (rebember that the ✅first character has the position 0):"
   ]
  },
  {
   "cell_type": "code",
   "execution_count": 453,
   "metadata": {},
   "outputs": [
    {
     "name": "stdout",
     "output_type": "stream",
     "text": [
      "N\n",
      "a\n",
      "b\n",
      "i\n",
      "n\n",
      " \n",
      "a\n",
      "n\n",
      "d\n",
      " \n",
      "p\n",
      "n\n",
      "o\n"
     ]
    }
   ],
   "source": [
    "a=\"Nabin and python\"\n",
    "print(a[0])  \n",
    "print(a[1])\n",
    "print(a[2])\n",
    "print(a[3])\n",
    "print(a[4])\n",
    "print(a[5])\n",
    "print(a[6])\n",
    "print(a[7])\n",
    "print(a[8])\n",
    "print(a[9])\n",
    "print(a[10])\n",
    "\n",
    "print(a[-1])\n",
    "print(a[-2])"
   ]
  },
  {
   "cell_type": "markdown",
   "metadata": {},
   "source": [
    "# Looping Thought a string"
   ]
  },
  {
   "cell_type": "raw",
   "metadata": {},
   "source": [
    "⭕️Since strings are arrays , we can loop throught the characters in a string, with a ✅for loop\n",
    "\n",
    "A for loop is used fro iterating over a sequence (that is either a list, a tuple, a dictionary, a set, or a string.)\n",
    "\n",
    "This is less like the for key in other programming languages, and works more like an iterator method as found in other object-orientated programming languages.\n",
    "\n",
    "with the for loop we can execute a set of statemnts, once for each item in a list, tuple , set etc.\n",
    "\n",
    "\n",
    "✅Coding Function\n",
    "\n",
    "XXXX=[\"Xx\",\"yy\",\"zz\",\"aa\",\"bb\"]\n",
    "for x in XXXX:\n",
    "    print(x)"
   ]
  },
  {
   "cell_type": "code",
   "execution_count": 461,
   "metadata": {},
   "outputs": [
    {
     "name": "stdout",
     "output_type": "stream",
     "text": [
      "nabin\n",
      "nabina\n",
      "abin\n",
      "neveen\n"
     ]
    }
   ],
   "source": [
    "#print every students name  list in the studnets name list\n",
    "\n",
    "students=[\"nabin\",\"nabina\",\"abin\",\"neveen\"]\n",
    "for x in students:\n",
    "    print(x)\n"
   ]
  },
  {
   "cell_type": "raw",
   "metadata": {},
   "source": [
    "➡️the ⭕️for loop does not require an indexing variable to set beforehand. "
   ]
  },
  {
   "cell_type": "raw",
   "metadata": {},
   "source": [
    "✍️\n",
    "Looping Through a string\n",
    "\n",
    "Even strings are iterable objects, they contation a sequences of characters:"
   ]
  },
  {
   "cell_type": "code",
   "execution_count": 464,
   "metadata": {},
   "outputs": [
    {
     "name": "stdout",
     "output_type": "stream",
     "text": [
      "n\n",
      "a\n",
      "b\n",
      "i\n",
      "n\n"
     ]
    }
   ],
   "source": [
    "#loop through the letter in the word \"nabin\"\n",
    "\n",
    "for x in \"nabin\":\n",
    "    print(x)"
   ]
  },
  {
   "cell_type": "raw",
   "metadata": {},
   "source": [
    "✍️\n",
    "The break statement\n",
    "\n",
    "With the ⭕️break statement we can stop the loop before it has looped through all the items:\n",
    "\n",
    "✅ coding function\n",
    "\n",
    "XXX=[\"aa\",\"bb\",\"cc\",\"dd\"]\n",
    "for x in XXXX:\n",
    "       print(x)\n",
    "       if x == \"　\":\n",
    "           break"
   ]
  },
  {
   "cell_type": "code",
   "execution_count": 466,
   "metadata": {},
   "outputs": [
    {
     "name": "stdout",
     "output_type": "stream",
     "text": [
      "nabin\n",
      "naveen\n",
      "abin\n"
     ]
    }
   ],
   "source": [
    "#Exit the loop when x is \"nabin\"\n",
    "\n",
    "students=[\"nabin\",\"naveen\",\"abin\",\"nabina\"]\n",
    "for x in students:\n",
    "    print(x)\n",
    "    if x == \"abin\":\n",
    "        break\n"
   ]
  },
  {
   "cell_type": "code",
   "execution_count": 467,
   "metadata": {},
   "outputs": [
    {
     "name": "stdout",
     "output_type": "stream",
     "text": [
      "nabin\n",
      "naveen\n"
     ]
    }
   ],
   "source": [
    "#Exit the loop when x is \"nabin\"\n",
    "\n",
    "students=[\"nabin\",\"naveen\",\"abin\",\"nabina\"]\n",
    "for x in students:\n",
    "    print(x)\n",
    "    if x == \"naveen\":\n",
    "        break"
   ]
  },
  {
   "cell_type": "code",
   "execution_count": 469,
   "metadata": {},
   "outputs": [
    {
     "name": "stdout",
     "output_type": "stream",
     "text": [
      "nabin\n",
      "naveen\n",
      "abin\n",
      "nabina\n"
     ]
    }
   ],
   "source": [
    "students=[\"nabin\",\"naveen\",\"abin\",\"nabina\",\"malik\"]\n",
    "for x in students:\n",
    "    print(x)\n",
    "    if x == \"nabina\":\n",
    "        break"
   ]
  },
  {
   "cell_type": "code",
   "execution_count": 471,
   "metadata": {},
   "outputs": [
    {
     "name": "stdout",
     "output_type": "stream",
     "text": [
      "nabin\n",
      "naveen\n",
      "abin\n"
     ]
    }
   ],
   "source": [
    "#Exit the loop when x is \"nabin\", \n",
    "#but this time the break comes before the print:\n",
    "\n",
    "students=[\"nabin\",\"naveen\",\"abin\",\"nabina\",\"malik\"]\n",
    "for x in students:\n",
    "    if x == \"nabina\":\n",
    "        break\n",
    "    print(x) #the break comes before the print"
   ]
  },
  {
   "cell_type": "raw",
   "metadata": {},
   "source": [
    "✍️\n",
    "The Continue Statement\n",
    "\n",
    "with the continue statement we can stop the current iteration of the loop, and continue with the next:"
   ]
  },
  {
   "cell_type": "code",
   "execution_count": 476,
   "metadata": {},
   "outputs": [
    {
     "name": "stdout",
     "output_type": "stream",
     "text": [
      "nabin\n",
      "naveen\n",
      "nabina\n",
      "malik\n"
     ]
    }
   ],
   "source": [
    "students= [\"nabin\",\"naveen\",\"abin\",\"nabina\",\"malik\"]\n",
    "for x in students:\n",
    "    if x == \"abin\":\n",
    "        continue\n",
    "    print(x)"
   ]
  },
  {
   "cell_type": "code",
   "execution_count": 475,
   "metadata": {},
   "outputs": [
    {
     "name": "stdout",
     "output_type": "stream",
     "text": [
      "apple\n",
      "cherry\n"
     ]
    }
   ],
   "source": [
    "fruits = [\"apple\", \"banana\", \"cherry\"]\n",
    "for x in fruits:\n",
    "  if x == \"banana\":\n",
    "    continue\n",
    "  print(x)"
   ]
  },
  {
   "cell_type": "raw",
   "metadata": {},
   "source": [
    "✍️\n",
    "The range() Function\n",
    "\n",
    "To loop through a set of code a specified number of times, we can use the range() function,\n",
    "\n",
    "The range() function returns a sequence of numbers,starting from 0 by default,and increments by 1 (by default), and ends at a specified number.\n",
    "\n",
    "✅Coding function\n",
    "for x in range(XXX):\n",
    "    print(x)"
   ]
  },
  {
   "cell_type": "code",
   "execution_count": 477,
   "metadata": {},
   "outputs": [
    {
     "name": "stdout",
     "output_type": "stream",
     "text": [
      "0\n",
      "1\n",
      "2\n",
      "3\n",
      "4\n",
      "5\n"
     ]
    }
   ],
   "source": [
    "#Using the range() function:\n",
    "\n",
    "for x in range(6):\n",
    "    print(x)"
   ]
  },
  {
   "cell_type": "raw",
   "metadata": {},
   "source": [
    "#Note that range(6) is not the values of 0 to 6, but the values 0 to 5."
   ]
  },
  {
   "cell_type": "raw",
   "metadata": {},
   "source": [
    "The range() function defults to 0 as a strating value,however it is possible to specify the starting value by adding a parameter: range(2,6), whick means values from 2 to 6(but not including 6):\n",
    "\n",
    "✅Coding Function\n",
    "for x in range(aa,bb):\n",
    "    print(aa)"
   ]
  },
  {
   "cell_type": "code",
   "execution_count": 478,
   "metadata": {},
   "outputs": [
    {
     "name": "stdout",
     "output_type": "stream",
     "text": [
      "2\n",
      "3\n",
      "4\n",
      "5\n"
     ]
    }
   ],
   "source": [
    "#Using the start parameter:\n",
    "for x in range(2,6):\n",
    "    print(x)"
   ]
  },
  {
   "cell_type": "raw",
   "metadata": {},
   "source": [
    "The range() function defaults to increment the sequence by1 , however it is possible to specify the increment value by adding a third parameter:(2,30,4):\n",
    "\n",
    "✅Coding Function\n",
    "for x in range(start,range,parameter):"
   ]
  },
  {
   "cell_type": "code",
   "execution_count": 481,
   "metadata": {},
   "outputs": [
    {
     "name": "stdout",
     "output_type": "stream",
     "text": [
      "2\n",
      "6\n",
      "10\n",
      "14\n",
      "18\n",
      "22\n",
      "26\n"
     ]
    }
   ],
   "source": [
    "#increment the sequence with 4 (defaults is 1):\n",
    "for x in range(2,30,4):\n",
    "    print(x)"
   ]
  },
  {
   "cell_type": "code",
   "execution_count": 485,
   "metadata": {},
   "outputs": [
    {
     "name": "stdout",
     "output_type": "stream",
     "text": [
      "2\n",
      "5\n"
     ]
    }
   ],
   "source": [
    "for x in range(2,6,3):\n",
    "    print(x)"
   ]
  },
  {
   "cell_type": "raw",
   "metadata": {},
   "source": [
    "✍️\n",
    "Else in For Loop\n",
    "\n",
    "The else key in a for loop specifies a block of code to be executed when the loop is finished:\n",
    "\n",
    "✅coding function\n",
    "\n",
    "for x in range(XXX):\n",
    "    print(x)\n",
    "else:\n",
    "    print(\"Message\")"
   ]
  },
  {
   "cell_type": "code",
   "execution_count": 488,
   "metadata": {},
   "outputs": [
    {
     "name": "stdout",
     "output_type": "stream",
     "text": [
      "0\n",
      "1\n",
      "2\n",
      "3\n",
      "4\n",
      "5\n",
      "6\n",
      "7\n",
      "8\n",
      "9\n",
      "finally finished\n"
     ]
    }
   ],
   "source": [
    "#print all number from 0 to 10, and print a message wihen the loop has ended:\n",
    "\n",
    "for x in range(10):\n",
    "    print(x)\n",
    "else:\n",
    "    print(\"finally finished\")"
   ]
  },
  {
   "cell_type": "raw",
   "metadata": {},
   "source": [
    "⭕️Note: The else block will not be executed if the loop is stopped by a break statement."
   ]
  },
  {
   "cell_type": "code",
   "execution_count": 497,
   "metadata": {},
   "outputs": [
    {
     "name": "stdout",
     "output_type": "stream",
     "text": [
      "0\n",
      "1\n",
      "2\n",
      "3\n",
      "4\n",
      "5\n"
     ]
    }
   ],
   "source": [
    "#Break the loop when x is 10, \n",
    "#and see what happens with the else block:\n",
    "\n",
    "for x in range(10):\n",
    "    if x == 6:\n",
    "        break    \n",
    "    print(x)\n",
    "else:\n",
    "    print(\"Finally finished\")"
   ]
  },
  {
   "cell_type": "raw",
   "metadata": {},
   "source": [
    "✍️\n",
    "Nested Loops\n",
    "\n",
    "A nested loop is a loop inside a loop.\n",
    "\n",
    "The \"inner loop\" will be executed one time for each iteration of the \"outer loop\"."
   ]
  },
  {
   "cell_type": "code",
   "execution_count": 499,
   "metadata": {},
   "outputs": [
    {
     "name": "stdout",
     "output_type": "stream",
     "text": [
      "Python and nabin\n",
      "Python and abin\n",
      "Python and neveen\n",
      "Python and nabina\n",
      "PHP and nabin\n",
      "PHP and abin\n",
      "PHP and neveen\n",
      "PHP and nabina\n",
      "JAVA and nabin\n",
      "JAVA and abin\n",
      "JAVA and neveen\n",
      "JAVA and nabina\n",
      "C++ and nabin\n",
      "C++ and abin\n",
      "C++ and neveen\n",
      "C++ and nabina\n"
     ]
    }
   ],
   "source": [
    "#print each program for every students:\n",
    "\n",
    "program=[\"Python\",\"PHP\",\"JAVA\",\"C++\"]\n",
    "students=[\"nabin\",\"abin\",\"neveen\",\"nabina\"]\n",
    "\n",
    "for x in program:\n",
    "    for y in students:\n",
    "        print(x,\"and\",y)"
   ]
  },
  {
   "cell_type": "raw",
   "metadata": {},
   "source": [
    "✍️\n",
    "The Pass Statement\n",
    "\n",
    "for loops cannot be empty, but if you for some reason have a for loop wiht no content , put in the pass statement to avoid getting an error.\n",
    "\n",
    "\n",
    "resule:\n",
    "# having an empty for loop like this, would raise an error without the pass statement"
   ]
  },
  {
   "cell_type": "code",
   "execution_count": 501,
   "metadata": {},
   "outputs": [],
   "source": [
    "for x in (10,20,30):\n",
    "    pass"
   ]
  },
  {
   "cell_type": "markdown",
   "metadata": {},
   "source": [
    "# String Length"
   ]
  },
  {
   "cell_type": "raw",
   "metadata": {},
   "source": [
    "To get the length of a string , use the ⭕️len() function \n",
    "\n",
    "✅code function\n",
    "x=\"XXXXXXX\"\n",
    "print(len(x))"
   ]
  },
  {
   "cell_type": "code",
   "execution_count": 502,
   "metadata": {},
   "outputs": [
    {
     "name": "stdout",
     "output_type": "stream",
     "text": [
      "16\n"
     ]
    }
   ],
   "source": [
    "x=\"Nabin and python\"\n",
    "print(len(x))"
   ]
  },
  {
   "cell_type": "markdown",
   "metadata": {},
   "source": [
    "# Check string"
   ]
  },
  {
   "cell_type": "raw",
   "metadata": {},
   "source": [
    "To check if a certain pharae or character i present in a string, we an use the key⭕️ in.\n",
    "\n",
    "✅code function\n",
    "X=\"XXXXXXXX XXXXX XXXX\"\n",
    "print(\"XXXXX\" in x)"
   ]
  },
  {
   "cell_type": "code",
   "execution_count": 504,
   "metadata": {},
   "outputs": [
    {
     "name": "stdout",
     "output_type": "stream",
     "text": [
      "True\n"
     ]
    }
   ],
   "source": [
    "#check if \"nabin\" is presen in the following text:\n",
    "txt=\" Nabin and python programming\"\n",
    "print(\"Nabin\" in txt)"
   ]
  },
  {
   "cell_type": "code",
   "execution_count": 505,
   "metadata": {},
   "outputs": [
    {
     "name": "stdout",
     "output_type": "stream",
     "text": [
      "False\n"
     ]
    }
   ],
   "source": [
    "#check if \"nabin\" is presen in the following text:\n",
    "txt=\" Nabin and python programming\"\n",
    "print(\"nabin\" in txt)"
   ]
  },
  {
   "cell_type": "raw",
   "metadata": {},
   "source": [
    "⭕️Use it is an if statement\n",
    "\n",
    "✅code function\n",
    "x=\"XXXX XXX XXXx XXX\"\n",
    "if \"XXXX\"in x:\n",
    "    print(\"comment)"
   ]
  },
  {
   "cell_type": "code",
   "execution_count": 515,
   "metadata": {},
   "outputs": [
    {
     "name": "stdout",
     "output_type": "stream",
     "text": [
      "yes,'Nabin' is present\n"
     ]
    }
   ],
   "source": [
    "#print only if \"Nabin\" is present\n",
    "txt=\"Nabin and python programming\"\n",
    "if \"Nabin\"in txt:\n",
    "    print(\"yes,'Nabin' is present\")"
   ]
  },
  {
   "cell_type": "code",
   "execution_count": 517,
   "metadata": {},
   "outputs": [
    {
     "name": "stdout",
     "output_type": "stream",
     "text": [
      "Nabin, is not present\n"
     ]
    }
   ],
   "source": [
    "#print only if \"Nabin\" is present\n",
    "txt=\"Nabin and python programming\"\n",
    "if \"Nbin\"in txt:\n",
    "    print(\"yes,'Nabin' is present\")\n",
    "else:\n",
    "    print(\"Nabin, is not present\")"
   ]
  },
  {
   "cell_type": "raw",
   "metadata": {},
   "source": [
    "✍️\n",
    "Check if NOT\n",
    "\n",
    "To check if a certain phrase or character is NOT present in a string, we can use the keyword ⭕️not in."
   ]
  },
  {
   "cell_type": "code",
   "execution_count": 519,
   "metadata": {},
   "outputs": [
    {
     "name": "stdout",
     "output_type": "stream",
     "text": [
      "True\n"
     ]
    }
   ],
   "source": [
    "# check if \"nabin\" is not present in the folling text:\n",
    "\n",
    "txt=\"nabin and python programming\"\n",
    "print(\"nain\" not in txt)"
   ]
  },
  {
   "cell_type": "raw",
   "metadata": {},
   "source": [
    "Use it in an ⭕️if statement:"
   ]
  },
  {
   "cell_type": "code",
   "execution_count": 523,
   "metadata": {},
   "outputs": [
    {
     "name": "stdout",
     "output_type": "stream",
     "text": [
      "Yes,'Nabin'is NOT present\n"
     ]
    }
   ],
   "source": [
    "#print only if \" Nabin\" is NOT present\n",
    "txt=\"Nain and python programming\"\n",
    "if \"Nabin\" not in txt:\n",
    "    print(\"Yes,'Nabin'is NOT present\")"
   ]
  },
  {
   "cell_type": "markdown",
   "metadata": {},
   "source": [
    "# Python-Slicing Strings"
   ]
  },
  {
   "cell_type": "raw",
   "metadata": {},
   "source": [
    "✍️\n",
    "Slicing\n",
    "You can return a range of characters by using the slice syntax.\n",
    "\n",
    "Specify the start index and the end index, seprated by a colon, to return a part of the string.\n"
   ]
  },
  {
   "cell_type": "code",
   "execution_count": 528,
   "metadata": {},
   "outputs": [
    {
     "name": "stdout",
     "output_type": "stream",
     "text": [
      "hon pro\n"
     ]
    }
   ],
   "source": [
    "#Get the characters from position 6 to position 10 (not included)\n",
    "\n",
    "x=\"Nabin and python programming\"\n",
    "print(x[13:20])"
   ]
  },
  {
   "cell_type": "raw",
   "metadata": {},
   "source": [
    "➡️Note:The first character has index⭕️ 0."
   ]
  },
  {
   "cell_type": "raw",
   "metadata": {},
   "source": [
    "✍️\n",
    "Slice from the Start\n",
    "\n",
    "By leaving out the start index, ⭕️the range will start at the first character:"
   ]
  },
  {
   "cell_type": "code",
   "execution_count": 532,
   "metadata": {},
   "outputs": [
    {
     "name": "stdout",
     "output_type": "stream",
     "text": [
      "Nabin and \n"
     ]
    }
   ],
   "source": [
    "#Get the characters from the start to position 10 (not included):\n",
    "\n",
    "x=\"Nabin and python programming\"\n",
    "print(x[:10])"
   ]
  },
  {
   "cell_type": "raw",
   "metadata": {},
   "source": [
    "✍️\n",
    "Slice To the End\n",
    "\n",
    "By leaving out the end index, ⭕️the range will go to the end:"
   ]
  },
  {
   "cell_type": "raw",
   "metadata": {},
   "source": [
    "# Get the characters from position 4, and all the way to the end:\n",
    "x=\"Nabin and python programming\"\n",
    "print(x[4:])"
   ]
  },
  {
   "cell_type": "raw",
   "metadata": {},
   "source": [
    "✍️\n",
    "Negative indexing\n",
    "\n",
    "⭕️Use negative indexes to start the slice from the end of the string:"
   ]
  },
  {
   "cell_type": "code",
   "execution_count": 537,
   "metadata": {},
   "outputs": [
    {
     "name": "stdout",
     "output_type": "stream",
     "text": [
      "yth\n"
     ]
    }
   ],
   "source": [
    "#Get the characters:\n",
    "#From:\"y\" in \"Python\"(position -5)\n",
    "#to, but not included:\"0\" in \"python\"(position -2):   \n",
    "x=\"Nabin & Python\"\n",
    "print(x[-5:-2])"
   ]
  },
  {
   "cell_type": "markdown",
   "metadata": {},
   "source": [
    "# PYTHON NOTE 「2」20210102"
   ]
  },
  {
   "cell_type": "markdown",
   "metadata": {},
   "source": [
    "# Python - Modify Strings"
   ]
  },
  {
   "cell_type": "markdown",
   "metadata": {},
   "source": [
    "# Python-Modify Strings"
   ]
  },
  {
   "cell_type": "raw",
   "metadata": {},
   "source": [
    "Python has a set of built-in methods that you can use on strings."
   ]
  },
  {
   "cell_type": "raw",
   "metadata": {},
   "source": [
    "✍️\n",
    "Upper Case\n",
    "\n",
    "The ⭕️upper() method returns the string in upper case:\n",
    "\n",
    "✅coding function\n",
    "x=\"XXXX XXXXXX XXXX\"\n",
    "print(x.upper())"
   ]
  },
  {
   "cell_type": "code",
   "execution_count": 1,
   "metadata": {},
   "outputs": [
    {
     "name": "stdout",
     "output_type": "stream",
     "text": [
      "NABIN AND PYTHON\n"
     ]
    }
   ],
   "source": [
    "#The upper() method returns the string in upper case:\n",
    "\n",
    "x=\"Nabin and python\"\n",
    "print(x.upper())"
   ]
  },
  {
   "cell_type": "raw",
   "metadata": {},
   "source": [
    "✍️\n",
    "Lower Case\n",
    "\n",
    "The ⭕️lower() method returns the string in lower case:\n",
    "\n",
    "✅coding function\n",
    "X=\"XXXX XXX XXXX\"\n",
    "print(x.lower())"
   ]
  },
  {
   "cell_type": "code",
   "execution_count": 2,
   "metadata": {},
   "outputs": [
    {
     "name": "stdout",
     "output_type": "stream",
     "text": [
      "nabin and python\n"
     ]
    }
   ],
   "source": [
    "#The lower() method returns the string in lower case:\n",
    "\n",
    "x=\"Nabin and PYthon\"\n",
    "print(x.lower())"
   ]
  },
  {
   "cell_type": "raw",
   "metadata": {},
   "source": [
    "✍️\n",
    "Remove Whitespace\n",
    "\n",
    "whitespace is the space before and/or after the actual text, and very often, you want to remove this space.\n",
    "\n",
    "✅Code function\n",
    "x=\"XXXX XXXX XXX\"\n",
    "print(x.strinp())"
   ]
  },
  {
   "cell_type": "code",
   "execution_count": 8,
   "metadata": {},
   "outputs": [
    {
     "name": "stdout",
     "output_type": "stream",
     "text": [
      "Nabin and python programming!\n"
     ]
    }
   ],
   "source": [
    "#The ⭕️strip() method removes any whitespace \n",
    "#form the beginning or the end:\n",
    "\n",
    "x=\"    Nabin and python programming!    \"\n",
    "print(x.strip())"
   ]
  },
  {
   "cell_type": "code",
   "execution_count": 12,
   "metadata": {},
   "outputs": [
    {
     "name": "stdout",
     "output_type": "stream",
     "text": [
      "     Nabin and python programming!    \n",
      "Nabin and python programming!\n"
     ]
    }
   ],
   "source": [
    "x=\"     Nabin and python programming!    \"\n",
    "print(x)\n",
    "print(x.strip())"
   ]
  },
  {
   "cell_type": "raw",
   "metadata": {},
   "source": [
    "✍️\n",
    "Replace Sting\n",
    "\n",
    "✅Code Function\n",
    "x=\"XXX XX XXXX XXX\"\n",
    "print(x.replace(\"XX\",\"YY\"))"
   ]
  },
  {
   "cell_type": "code",
   "execution_count": 19,
   "metadata": {},
   "outputs": [
    {
     "name": "stdout",
     "output_type": "stream",
     "text": [
      "Aabin and python programming\n"
     ]
    }
   ],
   "source": [
    "#The　⭕️replace() method replace a string with another string:\n",
    "\n",
    "x=\"Nabin and python programming\"\n",
    "print(x.replace(\"N\",\"A\"))"
   ]
  },
  {
   "cell_type": "code",
   "execution_count": 30,
   "metadata": {},
   "outputs": [
    {
     "name": "stdout",
     "output_type": "stream",
     "text": [
      "nabin and Lython Lrogramming\n",
      "AabiA aAd pythoA programmiAg\n"
     ]
    }
   ],
   "source": [
    "x=\"nabin and python programming\"\n",
    "print(x.replace(\"p\",\"L\"))\n",
    "print(x.replace(\"n\",\"A\"))"
   ]
  },
  {
   "cell_type": "raw",
   "metadata": {},
   "source": [
    "✍️\n",
    "Split String\n",
    "\n",
    "The ⭕️split() method returns a list wheere the text between the specified separator becomes the list items.\n",
    "\n",
    "✅coding function\n",
    "x=\"XXXX XXX XX XXXX\"\n",
    "print(x.split(\",\")"
   ]
  },
  {
   "cell_type": "code",
   "execution_count": 32,
   "metadata": {},
   "outputs": [
    {
     "name": "stdout",
     "output_type": "stream",
     "text": [
      "['Nabin and python programming']\n"
     ]
    }
   ],
   "source": [
    "#The split() method splits the sting into substrings\n",
    "#if it finds instanes of the seprator:\n",
    "\n",
    "x=\"Nabin and python programming\"\n",
    "print(x.split(\",\"))"
   ]
  },
  {
   "cell_type": "code",
   "execution_count": 37,
   "metadata": {},
   "outputs": [
    {
     "name": "stdout",
     "output_type": "stream",
     "text": [
      "['Nabin and python programming']\n"
     ]
    }
   ],
   "source": [
    "x='Nabin and python programming'\n",
    "print(x.split(','))"
   ]
  },
  {
   "cell_type": "raw",
   "metadata": {},
   "source": [
    "✍️\n",
    "String Methods\n",
    "\n",
    "Python has a set of build-in methods that you can use on strings\n",
    "\n",
    "➡️Note:All string methods returns new values. They do not change the orginal string."
   ]
  },
  {
   "cell_type": "markdown",
   "metadata": {},
   "source": [
    "# Python-String Concantenation"
   ]
  },
  {
   "cell_type": "raw",
   "metadata": {},
   "source": [
    "To concatenate, or combine, two strings you can use the + operator."
   ]
  },
  {
   "cell_type": "code",
   "execution_count": 39,
   "metadata": {},
   "outputs": [
    {
     "name": "stdout",
     "output_type": "stream",
     "text": [
      "NabinPython\n"
     ]
    }
   ],
   "source": [
    "#Merge variable x with the variable y into variable c:\n",
    "\n",
    "x=\"Nabin\"\n",
    "y=\"Python\"\n",
    "z=x+y\n",
    "print(z)"
   ]
  },
  {
   "cell_type": "code",
   "execution_count": 43,
   "metadata": {},
   "outputs": [
    {
     "name": "stdout",
     "output_type": "stream",
     "text": [
      "nabin python\n"
     ]
    }
   ],
   "source": [
    "# to add a space between them , add a ⭕️\"\":\n",
    "x=\"nabin\"\n",
    "y=\"python\"\n",
    "z= x + \" \" + y\n",
    "print(z)"
   ]
  },
  {
   "cell_type": "markdown",
   "metadata": {},
   "source": [
    "# Python-Format-Strings"
   ]
  },
  {
   "cell_type": "raw",
   "metadata": {},
   "source": [
    "As we learned in the python variables chapther, we cannot combine strings and numbers like this:"
   ]
  },
  {
   "cell_type": "code",
   "execution_count": 44,
   "metadata": {},
   "outputs": [
    {
     "ename": "TypeError",
     "evalue": "can only concatenate str (not \"int\") to str",
     "output_type": "error",
     "traceback": [
      "\u001b[0;31m---------------------------------------------------------------------------\u001b[0m",
      "\u001b[0;31mTypeError\u001b[0m                                 Traceback (most recent call last)",
      "\u001b[0;32m<ipython-input-44-5988d360a1fd>\u001b[0m in \u001b[0;36m<module>\u001b[0;34m\u001b[0m\n\u001b[1;32m      1\u001b[0m \u001b[0mtime\u001b[0m\u001b[0;34m=\u001b[0m\u001b[0;36m45\u001b[0m\u001b[0;34m\u001b[0m\u001b[0;34m\u001b[0m\u001b[0m\n\u001b[0;32m----> 2\u001b[0;31m \u001b[0mcourse\u001b[0m\u001b[0;34m=\u001b[0m\u001b[0;34m\"Nabin and python programming\"\u001b[0m \u001b[0;34m+\u001b[0m \u001b[0mtime\u001b[0m\u001b[0;34m\u001b[0m\u001b[0;34m\u001b[0m\u001b[0m\n\u001b[0m\u001b[1;32m      3\u001b[0m \u001b[0mprint\u001b[0m\u001b[0;34m(\u001b[0m\u001b[0mcourse\u001b[0m\u001b[0;34m)\u001b[0m\u001b[0;34m\u001b[0m\u001b[0;34m\u001b[0m\u001b[0m\n",
      "\u001b[0;31mTypeError\u001b[0m: can only concatenate str (not \"int\") to str"
     ]
    }
   ],
   "source": [
    "time=45\n",
    "course=\"Nabin and python programming\" + time\n",
    "print(course)"
   ]
  },
  {
   "cell_type": "raw",
   "metadata": {},
   "source": [
    "But we can combine strings and numbers by sing the ⭕️format() method!\n",
    "\n",
    "The ⭕️format() method takes the passed arguments, formats them , and places them in the string where the placehonders ⭕️{} are:\n",
    "\n",
    "✅Coding function\n",
    "\n",
    "x=number\n",
    "y=\"XXXXX XXX XXX {} \"\n",
    "print(y.format(x))\n"
   ]
  },
  {
   "cell_type": "code",
   "execution_count": 47,
   "metadata": {},
   "outputs": [
    {
     "name": "stdout",
     "output_type": "stream",
     "text": [
      "Nabin and python programming 45\n"
     ]
    }
   ],
   "source": [
    "#Use the format() method to insert numbers into strings:\n",
    "\n",
    "time=45\n",
    "course=\"Nabin and python programming {}\"\n",
    "print(course.format(time))"
   ]
  },
  {
   "cell_type": "raw",
   "metadata": {},
   "source": [
    "➡️The format()method takes unlimited number of arguments, and are placed into the respective placeholders:"
   ]
  },
  {
   "cell_type": "code",
   "execution_count": 52,
   "metadata": {},
   "outputs": [
    {
     "name": "stdout",
     "output_type": "stream",
     "text": [
      "Salary1 550 * Salary2 440 *  Salary3 410 * Salary4 420.5 = my salary. \n"
     ]
    }
   ],
   "source": [
    "python=550\n",
    "Java=440\n",
    "PHP=410\n",
    "HTML=420.50\n",
    "\n",
    "my_income=\"Salary1 {} * Salary2 {} *  Salary3 {} * Salary4 {} = my salary. \"\n",
    "print(my_income.format(python,Java,PHP,HTML))\n"
   ]
  },
  {
   "cell_type": "raw",
   "metadata": {},
   "source": [
    "➡️You can use index numbers⭕️ {0} to be sure the arguments are placed in the correct placeholders:"
   ]
  },
  {
   "cell_type": "code",
   "execution_count": 63,
   "metadata": {},
   "outputs": [
    {
     "name": "stdout",
     "output_type": "stream",
     "text": [
      "salary1 420.5  salary2 550  salary3 410  salary4 440\n"
     ]
    }
   ],
   "source": [
    "python=550\n",
    "Java=440\n",
    "PHP=410\n",
    "HTML=420.50\n",
    "\n",
    "my_income=\"salary1 {3}  salary2 {0}  salary3 {2}  salary4 {1}\"\n",
    "print(my_income.format(python,Java,PHP,HTML))"
   ]
  },
  {
   "cell_type": "markdown",
   "metadata": {},
   "source": [
    "# Python-Excape Character"
   ]
  },
  {
   "cell_type": "raw",
   "metadata": {},
   "source": [
    "#Escape Character\n",
    "\n",
    "To insert character that are illegal in a string, use an escape character.\n",
    "\n",
    "An escape character is a ⭕️backslash \\ followed by the haracter you want to insert.\n",
    "\n",
    "An example of an illegal character is a double quote inside a string that is surrounded by double quotes:\n"
   ]
  },
  {
   "cell_type": "raw",
   "metadata": {},
   "source": [
    "➡️You will get an error if you use double quotes inside a string that is surrounded by double quotes:"
   ]
  },
  {
   "cell_type": "code",
   "execution_count": 66,
   "metadata": {},
   "outputs": [
    {
     "ename": "SyntaxError",
     "evalue": "invalid syntax (<ipython-input-66-244afb6a53c3>, line 1)",
     "output_type": "error",
     "traceback": [
      "\u001b[0;36m  File \u001b[0;32m\"<ipython-input-66-244afb6a53c3>\"\u001b[0;36m, line \u001b[0;32m1\u001b[0m\n\u001b[0;31m    my_txt=\"Python and nabin \"programming\" project. \"\u001b[0m\n\u001b[0m                              ^\u001b[0m\n\u001b[0;31mSyntaxError\u001b[0m\u001b[0;31m:\u001b[0m invalid syntax\n"
     ]
    }
   ],
   "source": [
    "my_txt=\"Python and nabin \"programming\" project. \"\n",
    "print(my_txt)"
   ]
  },
  {
   "cell_type": "raw",
   "metadata": {},
   "source": [
    "To fix this problem, use the escape character\\\":"
   ]
  },
  {
   "cell_type": "raw",
   "metadata": {},
   "source": [
    "The escape character allows you to use douvle quotes when you normally would not be allowed:"
   ]
  },
  {
   "cell_type": "code",
   "execution_count": 69,
   "metadata": {},
   "outputs": [
    {
     "name": "stdout",
     "output_type": "stream",
     "text": [
      " python and nabin \"programming\" project.\n"
     ]
    }
   ],
   "source": [
    "my_txt=\" python and nabin \\\"programming\\\" project.\"\n",
    "print(my_txt)\n"
   ]
  },
  {
   "cell_type": "raw",
   "metadata": {},
   "source": [
    "✍️\n",
    "Excape Characters\n",
    "\n",
    "Others escape characters used in pyhon:"
   ]
  },
  {
   "cell_type": "raw",
   "metadata": {},
   "source": [
    "✍️\n",
    "Single Quote ⭕️'"
   ]
  },
  {
   "cell_type": "code",
   "execution_count": 71,
   "metadata": {},
   "outputs": [
    {
     "name": "stdout",
     "output_type": "stream",
     "text": [
      "It's new project\n"
     ]
    }
   ],
   "source": [
    "nbn='It\\'s new project'     \n",
    "print(nbn)"
   ]
  },
  {
   "cell_type": "raw",
   "metadata": {},
   "source": [
    "✍️\n",
    "Backslash ⭕️\\\\ "
   ]
  },
  {
   "cell_type": "code",
   "execution_count": 79,
   "metadata": {},
   "outputs": [
    {
     "name": "stdout",
     "output_type": "stream",
     "text": [
      "It's a new project \\ by Nabin.\n"
     ]
    }
   ],
   "source": [
    "nbn=\"It\\'s a new project \\\\ by Nabin.\"\n",
    "print(nbn)"
   ]
  },
  {
   "cell_type": "raw",
   "metadata": {},
   "source": [
    "✍️\n",
    "New line ⭕️\\n"
   ]
  },
  {
   "cell_type": "code",
   "execution_count": 80,
   "metadata": {},
   "outputs": [
    {
     "name": "stdout",
     "output_type": "stream",
     "text": [
      "It's  a new project \\ by nabin \n",
      "2021 target\n"
     ]
    }
   ],
   "source": [
    "nbn=\"It\\'s  a new project \\\\ by nabin \\n2021 target\"\n",
    "print(nbn)"
   ]
  },
  {
   "cell_type": "raw",
   "metadata": {},
   "source": [
    "✍️\n",
    "Carriage Return ⭕️\\r"
   ]
  },
  {
   "cell_type": "code",
   "execution_count": 96,
   "metadata": {},
   "outputs": [
    {
     "name": "stdout",
     "output_type": "stream",
     "text": [
      "nabin\r",
      "Python\n"
     ]
    }
   ],
   "source": [
    "nbn=\"nabin\\rPython\"\n",
    "print(nbn)"
   ]
  },
  {
   "cell_type": "raw",
   "metadata": {},
   "source": [
    "✍️\n",
    "Tab  ⭕️\\t"
   ]
  },
  {
   "cell_type": "code",
   "execution_count": 100,
   "metadata": {},
   "outputs": [
    {
     "name": "stdout",
     "output_type": "stream",
     "text": [
      "Nabin\tPython\n"
     ]
    }
   ],
   "source": [
    "nbn=\"Nabin\\tPython\"\n",
    "print(nbn)"
   ]
  },
  {
   "cell_type": "raw",
   "metadata": {},
   "source": [
    "✍️\n",
    "Backspace　⭕️\\b"
   ]
  },
  {
   "cell_type": "code",
   "execution_count": 101,
   "metadata": {},
   "outputs": [
    {
     "name": "stdout",
     "output_type": "stream",
     "text": [
      "Nabin \bPython\n"
     ]
    }
   ],
   "source": [
    "nbn=\"Nabin \\bPython\"\n",
    "print(nbn)"
   ]
  },
  {
   "cell_type": "raw",
   "metadata": {},
   "source": [
    "✍️\n",
    "Form Feed　⭕️\\f"
   ]
  },
  {
   "cell_type": "code",
   "execution_count": 111,
   "metadata": {},
   "outputs": [
    {
     "name": "stdout",
     "output_type": "stream",
     "text": [
      "Nabin \f",
      "Python\n"
     ]
    }
   ],
   "source": [
    "nbn=\"Nabin \\fPython\"\n",
    "print(nbn)"
   ]
  },
  {
   "cell_type": "raw",
   "metadata": {},
   "source": [
    "✍️\n",
    "Octal Value ⭕️\\OOO\n",
    "\n",
    "Octal stands for eight. Right, octal contains eight digits. And instead of bin() or hex(), we use oct() to convert numbers to octal in Python. We prefix octal numbers with a zero followed by a lowercase o, like '0o'."
   ]
  },
  {
   "cell_type": "code",
   "execution_count": 126,
   "metadata": {},
   "outputs": [
    {
     "name": "stdout",
     "output_type": "stream",
     "text": [
      "XZV\n"
     ]
    }
   ],
   "source": [
    "nbn=\"\\130\\132\\126\"\n",
    "print(nbn)"
   ]
  },
  {
   "cell_type": "raw",
   "metadata": {},
   "source": [
    "✍️\n",
    "Hex Value\n",
    "\n",
    "Each hexadencimal digit represents four bits(binary digits), also known as a nibble (or nybble), which is half a bytes. for example, a single byte can have values ranging from 00000000 t0 11111111 in binary form, which can be convenicntly represented as 00 to FF in hexadecimal."
   ]
  },
  {
   "cell_type": "code",
   "execution_count": 130,
   "metadata": {},
   "outputs": [
    {
     "name": "stdout",
     "output_type": "stream",
     "text": [
      "E41#\n"
     ]
    }
   ],
   "source": [
    "nbn=\"\\x45\\x34\\x31\\x23\"\n",
    "print(nbn)"
   ]
  },
  {
   "cell_type": "markdown",
   "metadata": {},
   "source": [
    "# Python-String Methonds"
   ]
  },
  {
   "cell_type": "raw",
   "metadata": {},
   "source": [
    "Python has a set of built-in methods that you can use on strings."
   ]
  },
  {
   "cell_type": "raw",
   "metadata": {},
   "source": [
    "⭕️Note: All string methods returns new values. They do not change the orginal string."
   ]
  },
  {
   "cell_type": "raw",
   "metadata": {},
   "source": [
    ".capitalize()   Convetts the first charcter to upper case\n",
    ".casefold()     Converts string into lower case\n",
    ".center()       Returns a centered string\n",
    ".count()        Returns the numbers of times a specified value occurs in strings\n",
    ".encode()       Returns an encoded version of the string\n",
    ".endswith()     Returns true if the string ends with the specified value\n",
    ".expandtabs()   Sets the tab size of the string\n",
    ".find()         Searches the string of a specified value and returns the position of where it was found\n",
    ".format()       Formats specified values in a string\n",
    ".format_map()   Formats specified values n a string\n",
    "index()         Searches the string for a specified value and returns the position of where eit was found\n",
    ".isalum()       Return True if all characters in the string are in the alphabet\n",
    ".isalpha()      Returns True if all characters in the string are in the alphabet\n",
    ".isdecimal()    Returns True if all characters in the string are decimals\n",
    ".isdigit()     Returns True if all characters in the stirng are decimals\n",
    ".isidentifier() Returns True if the string is an idenfifier\n",
    ".islower()     Return True if all characters in the string are lower case\n",
    ".isnumeric()  Returns True if all characters in the string are numeric\n",
    ".isprintable() Returns True if all character in the string are whitespaces\n",
    ".istitle()     Return True if the string follows the rules of a title\n",
    ".isupper()    Returns True if all characters in the string are upper case\n",
    ".join()       Joins the elements of an iterable to the end of the string\n",
    ".ljust()     Returns a lift trim version of the string\n",
    ".maketrans() Returns a translation table to be used in translations\n",
    ".partition() Returns a tuple where the string is parted into three parts\n",
    ".replace()   Returns a string where specified value is replaced with a specified value\n",
    ".rfind()     Searches the string for a specified value and returns the last positon of where it was found\n",
    ".rindex()    Searches the string for a specified value and returns the last position of where it was found\n",
    ".rjust()     Returns a right justified versioin of the string\n",
    ".rpartition() Returns a tupple where the sting is parted into three parts\n",
    ".rsplit()     Splits the string at tge soecified separator , and returs a list\n",
    ".rstrip()     Retrun a right trim version of the string\n",
    ".split()      Splits the string at hte specified seprator, and returns a list\n",
    ".splitines() Splits the string at line breaks and returns a list\n",
    ".startswith() Returns true if the string starts with the specified value\n",
    ".strip()    Returns a trimmed version of the string\n",
    ".swapcase()  swaps case , lower case becomes upper case and vice versa\n",
    ".title)     converts the first character of each word to upper case\n",
    ".translate() Returns a translated string\n",
    ".upper()     Converts a string tinto upper case\n",
    ".zfill()    Fills the string with a specified number of 0 values at the beginning\n"
   ]
  },
  {
   "cell_type": "markdown",
   "metadata": {},
   "source": [
    "# Python Booleans"
   ]
  },
  {
   "cell_type": "raw",
   "metadata": {},
   "source": [
    "Booleans represent one of two values :⭕️True or False"
   ]
  },
  {
   "cell_type": "raw",
   "metadata": {},
   "source": [
    "✍️\n",
    "Boolean Values\n",
    "\n",
    "In Programming you often need to know if an expression is ⭕️True or False.\n",
    "\n",
    "You can evulate any expression in python , and ⭕️get one of two answer, True or False.\n",
    "\n",
    "When you compare two values, the expression is evulated and python returns the Boolean answer."
   ]
  },
  {
   "cell_type": "code",
   "execution_count": 135,
   "metadata": {},
   "outputs": [
    {
     "name": "stdout",
     "output_type": "stream",
     "text": [
      "True\n",
      "False\n",
      "True\n"
     ]
    }
   ],
   "source": [
    "print(20>13)\n",
    "print(15==16)\n",
    "print(1<5)"
   ]
  },
  {
   "cell_type": "raw",
   "metadata": {},
   "source": [
    "When you run a condition in an ⭕️if statment ,python returns True or False:\n",
    "\n",
    "✅Code function\n",
    "if:\n",
    "  True \n",
    "else:\n",
    "  False\n"
   ]
  },
  {
   "cell_type": "code",
   "execution_count": 136,
   "metadata": {},
   "outputs": [
    {
     "name": "stdout",
     "output_type": "stream",
     "text": [
      "x is greater than y\n"
     ]
    }
   ],
   "source": [
    "#Print a message based on whether the condition is True or False\n",
    "\n",
    "x=30\n",
    "y=24\n",
    "\n",
    "if x > y :\n",
    "    print(\"x is greater than y\")\n",
    "else:\n",
    "    print(\"x is less than y\")"
   ]
  },
  {
   "cell_type": "raw",
   "metadata": {},
   "source": [
    "✍️\n",
    "Evaluate Values and Variables\n",
    "\n",
    "The ⭕️bool() Function allows you to evaluate any value and give you ⭕️True or False in return,\n",
    "\n",
    "✅code function\n",
    "print(bool())"
   ]
  },
  {
   "cell_type": "code",
   "execution_count": 137,
   "metadata": {},
   "outputs": [
    {
     "name": "stdout",
     "output_type": "stream",
     "text": [
      "True\n",
      "True\n"
     ]
    }
   ],
   "source": [
    "#Evaluate a string and a number:\n",
    "\n",
    "print(bool(\"Nabi and Python\"))\n",
    "print(bool(600))"
   ]
  },
  {
   "cell_type": "code",
   "execution_count": 138,
   "metadata": {},
   "outputs": [
    {
     "name": "stdout",
     "output_type": "stream",
     "text": [
      "True\n",
      "True\n"
     ]
    }
   ],
   "source": [
    "#Evaluate two variables:\n",
    "x=\"Nabin and Python\"\n",
    "y=600\n",
    "\n",
    "print(bool(x))\n",
    "print(bool(y))"
   ]
  },
  {
   "cell_type": "raw",
   "metadata": {},
   "source": [
    "✍️\n",
    "Most values are True\n",
    "\n",
    "Almost any value is evaluated to True if it has some sort of content.\n",
    "\n",
    "Any string is True, except empty strings.\n",
    "\n",
    "Any number is True, except 0.\n",
    "\n",
    "⭕️Any list, tuple , set , and dictionary are True , except empty ones."
   ]
  },
  {
   "cell_type": "code",
   "execution_count": 139,
   "metadata": {},
   "outputs": [
    {
     "data": {
      "text/plain": [
       "True"
      ]
     },
     "execution_count": 139,
     "metadata": {},
     "output_type": "execute_result"
    }
   ],
   "source": [
    "#The Following will return True:\n",
    "\n",
    "bool(\"Nabin\")\n",
    "bool(600)\n",
    "bool([\"nabin\",\"Python\",\"Target\"])"
   ]
  },
  {
   "cell_type": "raw",
   "metadata": {},
   "source": [
    "✍️\n",
    "Some Values are False\n",
    "\n",
    "in fact , there are not many values that evulate to False, except empth values, such as (),{},[],\"\", the number 0, and the value None . And of course the value False evaluate to False."
   ]
  },
  {
   "cell_type": "code",
   "execution_count": 145,
   "metadata": {},
   "outputs": [
    {
     "name": "stdout",
     "output_type": "stream",
     "text": [
      "False\n",
      "False\n",
      "False\n",
      "False\n",
      "False\n",
      "False\n",
      "False\n"
     ]
    }
   ],
   "source": [
    "#The following will return false\n",
    "\n",
    "print(bool(False))\n",
    "print(bool(None))\n",
    "print(bool(0))\n",
    "print(bool(\"\"))\n",
    "print(bool(()))\n",
    "print(bool([]))\n",
    "print(bool({}))\n"
   ]
  },
  {
   "cell_type": "raw",
   "metadata": {},
   "source": [
    "One more value , or object in this case, evaluates to False , and that is if you have an object that is made from a class with a _len_ function that returns 0 or False:"
   ]
  },
  {
   "cell_type": "code",
   "execution_count": 1,
   "metadata": {},
   "outputs": [
    {
     "name": "stdout",
     "output_type": "stream",
     "text": [
      "True\n"
     ]
    }
   ],
   "source": [
    "class myclass():\n",
    "    def _len_(self):\n",
    "        return 0\n",
    "myobj = myclass()\n",
    "\n",
    "print (bool(myobj))"
   ]
  },
  {
   "cell_type": "code",
   "execution_count": 6,
   "metadata": {},
   "outputs": [
    {
     "name": "stdout",
     "output_type": "stream",
     "text": [
      "nabn and programming\n"
     ]
    }
   ],
   "source": [
    "if True:\n",
    "    print(\"nabn and programming\")"
   ]
  },
  {
   "cell_type": "code",
   "execution_count": 10,
   "metadata": {},
   "outputs": [
    {
     "name": "stdout",
     "output_type": "stream",
     "text": [
      "x is lessthan y\n"
     ]
    }
   ],
   "source": [
    "x=200\n",
    "y=300\n",
    "\n",
    "if x < y:\n",
    "    print(\"x is lessthan y\" )"
   ]
  },
  {
   "cell_type": "code",
   "execution_count": 11,
   "metadata": {},
   "outputs": [
    {
     "name": "stdout",
     "output_type": "stream",
     "text": [
      "x is less than y\n"
     ]
    }
   ],
   "source": [
    "if True:\n",
    "    print(\"x is less than y\")"
   ]
  },
  {
   "cell_type": "code",
   "execution_count": 13,
   "metadata": {},
   "outputs": [
    {
     "name": "stdout",
     "output_type": "stream",
     "text": [
      "True\n"
     ]
    }
   ],
   "source": [
    "boolean_value=x<y\n",
    "print(boolean_value)"
   ]
  },
  {
   "cell_type": "code",
   "execution_count": 19,
   "metadata": {},
   "outputs": [],
   "source": [
    "✍️\n",
    "Functions can Return a Boolean\n",
    "\n",
    "⭕️You can create functions that returns a Boolean Value:"
   ]
  },
  {
   "cell_type": "code",
   "execution_count": 26,
   "metadata": {},
   "outputs": [
    {
     "name": "stdout",
     "output_type": "stream",
     "text": [
      "True\n"
     ]
    }
   ],
   "source": [
    "#print the answer of a function\n",
    "\n",
    "def my_target():\n",
    "    return True\n",
    "\n",
    "print(my_target())"
   ]
  },
  {
   "cell_type": "raw",
   "metadata": {},
   "source": [
    "⭕️You can execute code based on the boolean answer of a function:"
   ]
  },
  {
   "cell_type": "code",
   "execution_count": 38,
   "metadata": {},
   "outputs": [
    {
     "name": "stdout",
     "output_type": "stream",
     "text": [
      "PYTHON\n"
     ]
    }
   ],
   "source": [
    "#Print \"  \" if the function returns True, otherwiese print \"  \":\n",
    "\n",
    "def my_target():\n",
    "    return True\n",
    "\n",
    "if my_target():\n",
    "    print(\"PYTHON\")\n",
    "\n",
    "else:\n",
    "    print(\"I will Try my Best\")"
   ]
  },
  {
   "cell_type": "code",
   "execution_count": 39,
   "metadata": {},
   "outputs": [
    {
     "name": "stdout",
     "output_type": "stream",
     "text": [
      "I will Try my Best\n"
     ]
    }
   ],
   "source": [
    "#Print \"  \" if the function returns True, otherwiese print \"  \":\n",
    "\n",
    "def my_target():\n",
    "    return False\n",
    "\n",
    "if my_target():\n",
    "    print(\"PYTHON\")\n",
    "\n",
    "else:\n",
    "    print(\"I will Try my Best\")"
   ]
  },
  {
   "cell_type": "raw",
   "metadata": {},
   "source": [
    "Python also has may built-in functions that return a boolean value,like the ⭕️isintance()　function,which can be used to determine if an object is of a certain data types:"
   ]
  },
  {
   "cell_type": "code",
   "execution_count": 41,
   "metadata": {},
   "outputs": [
    {
     "name": "stdout",
     "output_type": "stream",
     "text": [
      "True\n"
     ]
    }
   ],
   "source": [
    "#check if an object is an integer or not:\n",
    "x=1000\n",
    "print(isinstance(x,int))"
   ]
  },
  {
   "cell_type": "markdown",
   "metadata": {},
   "source": [
    "# PYTHON NOTE 「3」20210103"
   ]
  },
  {
   "cell_type": "markdown",
   "metadata": {},
   "source": [
    "# Python Operators"
   ]
  },
  {
   "cell_type": "raw",
   "metadata": {},
   "source": [
    "Operators are used to perform operations on varialbe and calues.\n",
    "In the example below, we use the⭕️ + operator to add together two values:"
   ]
  },
  {
   "cell_type": "code",
   "execution_count": 42,
   "metadata": {},
   "outputs": [
    {
     "name": "stdout",
     "output_type": "stream",
     "text": [
      "500\n"
     ]
    }
   ],
   "source": [
    "print(200+300)"
   ]
  },
  {
   "cell_type": "code",
   "execution_count": null,
   "metadata": {},
   "outputs": [],
   "source": [
    "➡️Python divides the operators in the following groups:\n",
    "    .Arithmetic operators\n",
    "    .Assignment operators\n",
    "    .Comparison operators\n",
    "    .Logical operators\n",
    "    .Identity operators\n",
    "    .Membership operators\n",
    "    .Bitwise operators"
   ]
  },
  {
   "cell_type": "raw",
   "metadata": {},
   "source": [
    "✍️\n",
    "Python Arithmetic Operators\n",
    "\n",
    "Arithmetic operators are used with numeric values to perform common mathematical operations:\n",
    "\n",
    "operator        Name             Example\n",
    "+               Addition         x+y\n",
    "-               Subraction       x-y\n",
    "*               Multiplication   x*y\n",
    "/               Division         x/y\n",
    "%               Modulus          x%y\n",
    "**              Exponention      x**y\n",
    "//              Floor Division   x//y"
   ]
  },
  {
   "cell_type": "raw",
   "metadata": {},
   "source": [
    "✍️\n",
    "Python Assigment Operator"
   ]
  },
  {
   "cell_type": "code",
   "execution_count": 47,
   "metadata": {},
   "outputs": [
    {
     "name": "stdout",
     "output_type": "stream",
     "text": [
      "100\n"
     ]
    }
   ],
   "source": [
    "#⭕️＝\n",
    "\n",
    "x=100\n",
    "print(x)"
   ]
  },
  {
   "cell_type": "code",
   "execution_count": 49,
   "metadata": {},
   "outputs": [
    {
     "name": "stdout",
     "output_type": "stream",
     "text": [
      "300\n"
     ]
    }
   ],
   "source": [
    "#⭕️+=\n",
    "\n",
    "x=200\n",
    "x+=100\n",
    "print(x)"
   ]
  },
  {
   "cell_type": "code",
   "execution_count": 52,
   "metadata": {},
   "outputs": [
    {
     "name": "stdout",
     "output_type": "stream",
     "text": [
      "200\n"
     ]
    }
   ],
   "source": [
    "#⭕️-=\n",
    "\n",
    "x=500\n",
    "x-=300\n",
    "print(x)"
   ]
  },
  {
   "cell_type": "code",
   "execution_count": 54,
   "metadata": {},
   "outputs": [
    {
     "name": "stdout",
     "output_type": "stream",
     "text": [
      "1000\n"
     ]
    }
   ],
   "source": [
    "#⭕️*=\n",
    "\n",
    "x=500\n",
    "x*=2\n",
    "print(x)"
   ]
  },
  {
   "cell_type": "code",
   "execution_count": 57,
   "metadata": {},
   "outputs": [
    {
     "name": "stdout",
     "output_type": "stream",
     "text": [
      "250.0\n"
     ]
    }
   ],
   "source": [
    "#⭕️/=\n",
    "\n",
    "x=500\n",
    "x/=2\n",
    "print(x)"
   ]
  },
  {
   "cell_type": "code",
   "execution_count": 62,
   "metadata": {},
   "outputs": [
    {
     "name": "stdout",
     "output_type": "stream",
     "text": [
      "2\n"
     ]
    }
   ],
   "source": [
    "#⭕️%=\n",
    "\n",
    "x=500\n",
    "x%=3\n",
    "print(x)"
   ]
  },
  {
   "cell_type": "code",
   "execution_count": 63,
   "metadata": {},
   "outputs": [
    {
     "name": "stdout",
     "output_type": "stream",
     "text": [
      "166\n"
     ]
    }
   ],
   "source": [
    "#⭕️//=\n",
    "\n",
    "x=500\n",
    "x//=3\n",
    "print(x)"
   ]
  },
  {
   "cell_type": "code",
   "execution_count": 64,
   "metadata": {},
   "outputs": [
    {
     "name": "stdout",
     "output_type": "stream",
     "text": [
      "250000\n"
     ]
    }
   ],
   "source": [
    "#⭕️**=\n",
    "\n",
    "x=500\n",
    "x**=2\n",
    "print(x)"
   ]
  },
  {
   "cell_type": "code",
   "execution_count": 74,
   "metadata": {},
   "outputs": [
    {
     "name": "stdout",
     "output_type": "stream",
     "text": [
      "2\n"
     ]
    }
   ],
   "source": [
    "#⭕️&=　　　　　　？？なぜ？？\n",
    "\n",
    "x=10\n",
    "x &=3\n",
    "print(x)"
   ]
  },
  {
   "cell_type": "code",
   "execution_count": 82,
   "metadata": {},
   "outputs": [
    {
     "name": "stdout",
     "output_type": "stream",
     "text": [
      "510\n"
     ]
    }
   ],
   "source": [
    "#⭕️|=           ？？なぜ？？\n",
    "\n",
    "x=500\n",
    "x|=90\n",
    "print(x)"
   ]
  },
  {
   "cell_type": "code",
   "execution_count": 84,
   "metadata": {},
   "outputs": [
    {
     "name": "stdout",
     "output_type": "stream",
     "text": [
      "505\n"
     ]
    }
   ],
   "source": [
    "#⭕️^=           ？？なぜ？？\n",
    "\n",
    "x=500\n",
    "x^=13\n",
    "print(x)"
   ]
  },
  {
   "cell_type": "code",
   "execution_count": 87,
   "metadata": {},
   "outputs": [
    {
     "name": "stdout",
     "output_type": "stream",
     "text": [
      "62\n"
     ]
    }
   ],
   "source": [
    "#⭕️>>=         ？？なぜ？？       \n",
    "\n",
    "x=500\n",
    "x>>=3\n",
    "print(x)"
   ]
  },
  {
   "cell_type": "code",
   "execution_count": 90,
   "metadata": {},
   "outputs": [
    {
     "name": "stdout",
     "output_type": "stream",
     "text": [
      "8000\n"
     ]
    }
   ],
   "source": [
    "#⭕️<<=          ？？なぜ？？\n",
    "\n",
    "x=500\n",
    "x<<=4\n",
    "print(x)"
   ]
  },
  {
   "cell_type": "raw",
   "metadata": {},
   "source": [
    "✍️Python Comparsion Opertions\n",
    "\n",
    "Comparsion operations are used to compapare two values:"
   ]
  },
  {
   "cell_type": "code",
   "execution_count": 91,
   "metadata": {},
   "outputs": [
    {
     "name": "stdout",
     "output_type": "stream",
     "text": [
      "False\n"
     ]
    }
   ],
   "source": [
    "#⭕️ == (Equal)\n",
    "\n",
    "x=2\n",
    "y=3\n",
    "print(x==y)"
   ]
  },
  {
   "cell_type": "code",
   "execution_count": 92,
   "metadata": {},
   "outputs": [
    {
     "name": "stdout",
     "output_type": "stream",
     "text": [
      "True\n"
     ]
    }
   ],
   "source": [
    "#⭕️ !=   (Not equal)\n",
    "\n",
    "x=2\n",
    "y=3\n",
    "print(x!=y)"
   ]
  },
  {
   "cell_type": "code",
   "execution_count": 93,
   "metadata": {},
   "outputs": [
    {
     "name": "stdout",
     "output_type": "stream",
     "text": [
      "True\n"
     ]
    }
   ],
   "source": [
    "#⭕️ >  (Greater Than)\n",
    "\n",
    "x=3\n",
    "y=2\n",
    "print(x>y)"
   ]
  },
  {
   "cell_type": "code",
   "execution_count": 94,
   "metadata": {},
   "outputs": [
    {
     "name": "stdout",
     "output_type": "stream",
     "text": [
      "True\n"
     ]
    }
   ],
   "source": [
    "#⭕️  >= (Greater than or equal to)\n",
    "\n",
    "x=3\n",
    "y=2\n",
    "\n",
    "print(x>=2)"
   ]
  },
  {
   "cell_type": "code",
   "execution_count": 96,
   "metadata": {},
   "outputs": [
    {
     "name": "stdout",
     "output_type": "stream",
     "text": [
      "True\n"
     ]
    }
   ],
   "source": [
    "#⭕️   < (Less than)\n",
    "\n",
    "x=2\n",
    "y=3\n",
    "\n",
    "print(x<y)"
   ]
  },
  {
   "cell_type": "code",
   "execution_count": 98,
   "metadata": {},
   "outputs": [
    {
     "name": "stdout",
     "output_type": "stream",
     "text": [
      "True\n"
     ]
    }
   ],
   "source": [
    "#⭕️   <=  (Less than or equal to )\n",
    "\n",
    "x=3\n",
    "y=4\n",
    "\n",
    "print(x<=y)\n"
   ]
  },
  {
   "cell_type": "raw",
   "metadata": {},
   "source": [
    "✍️\n",
    "Python Logical Operators\n",
    "\n",
    "Logical operators are used to combine conditional statements:"
   ]
  },
  {
   "cell_type": "raw",
   "metadata": {},
   "source": [
    "➡️ ⭕️and　Return Truth if both statements are true "
   ]
  },
  {
   "cell_type": "code",
   "execution_count": 101,
   "metadata": {},
   "outputs": [
    {
     "name": "stdout",
     "output_type": "stream",
     "text": [
      "False\n"
     ]
    }
   ],
   "source": [
    "x=3\n",
    "y=5\n",
    "\n",
    "print(x<y and y<x)"
   ]
  },
  {
   "cell_type": "code",
   "execution_count": 103,
   "metadata": {},
   "outputs": [
    {
     "name": "stdout",
     "output_type": "stream",
     "text": [
      "True\n"
     ]
    }
   ],
   "source": [
    "x=3\n",
    "y=5\n",
    "\n",
    "print(x<y and y>x)"
   ]
  },
  {
   "cell_type": "code",
   "execution_count": 105,
   "metadata": {},
   "outputs": [
    {
     "name": "stdout",
     "output_type": "stream",
     "text": [
      "False\n"
     ]
    }
   ],
   "source": [
    "x=3\n",
    "y=5\n",
    "\n",
    "print(x>y  and y<x)"
   ]
  },
  {
   "cell_type": "raw",
   "metadata": {},
   "source": [
    "➡️ ⭕️or Return True if one of the statemants is true"
   ]
  },
  {
   "cell_type": "code",
   "execution_count": 110,
   "metadata": {},
   "outputs": [
    {
     "name": "stdout",
     "output_type": "stream",
     "text": [
      "False\n"
     ]
    }
   ],
   "source": [
    "x=3\n",
    "y=5\n",
    "\n",
    "print(x>y or x>y)"
   ]
  },
  {
   "cell_type": "code",
   "execution_count": 108,
   "metadata": {},
   "outputs": [
    {
     "name": "stdout",
     "output_type": "stream",
     "text": [
      "True\n"
     ]
    }
   ],
   "source": [
    "x=3\n",
    "y=5\n",
    "print(x>y or y>x)"
   ]
  },
  {
   "cell_type": "code",
   "execution_count": 111,
   "metadata": {},
   "outputs": [
    {
     "name": "stdout",
     "output_type": "stream",
     "text": [
      "True\n"
     ]
    }
   ],
   "source": [
    "x=3\n",
    "y=5\n",
    "print(x<y or y>x)"
   ]
  },
  {
   "cell_type": "raw",
   "metadata": {},
   "source": [
    "➡️⭕️ not Reverse the result , returns False if the retult is true"
   ]
  },
  {
   "cell_type": "code",
   "execution_count": 112,
   "metadata": {},
   "outputs": [
    {
     "name": "stdout",
     "output_type": "stream",
     "text": [
      "False\n"
     ]
    }
   ],
   "source": [
    "x=5\n",
    "y=3\n",
    "\n",
    "print(not(x>y and y<x))"
   ]
  },
  {
   "cell_type": "code",
   "execution_count": 116,
   "metadata": {},
   "outputs": [
    {
     "name": "stdout",
     "output_type": "stream",
     "text": [
      "True\n"
     ]
    }
   ],
   "source": [
    "print(x>y and y<x)"
   ]
  },
  {
   "cell_type": "raw",
   "metadata": {},
   "source": [
    "✍️\n",
    "Python identity Operators\n",
    "\n",
    "Identity operators are used to compare the objects , not if they are equeal, but if they are actually the same object, with the same memory location:\n",
    "\n",
    "Operator     Description\n",
    "⭕️in           Returns True if a sequence with the specified value is present in the object                x in y\n",
    "⭕️not in       Returns True if a sequence with the specified value is not present in the object            x not in y\n",
    "\n",
    "\n"
   ]
  },
  {
   "cell_type": "code",
   "execution_count": 117,
   "metadata": {},
   "outputs": [
    {
     "name": "stdout",
     "output_type": "stream",
     "text": [
      "True\n",
      "False\n",
      "False\n"
     ]
    }
   ],
   "source": [
    "x = [\"nabin\", \"python\"]\n",
    "y = [\"python\", \"nabin\"]\n",
    "z = x\n",
    "\n",
    "print(x is z)\n",
    "\n",
    "# returns True because z is the same object as x\n",
    "\n",
    "print(x is y)\n",
    "\n",
    "# returns False because x is not the same object as y, even if they have the same content\n",
    "\n",
    "print(x == y)\n",
    "\n",
    "# to demonstrate the difference betweeen \"is\" and \"==\": this comparison returns True because x is equal to y\n"
   ]
  },
  {
   "cell_type": "raw",
   "metadata": {},
   "source": [
    "✍️\n",
    "Python Bit Operators\n",
    "\n",
    "Bitwise operators are used to compare (binary) numbers\n",
    "\n",
    "⭕️Operator   Name       Description\n",
    "&            AND        Sets each bit to 1 if both bits are 1\n",
    "|            OR         Sets each bit to 1 if one of two bits is 1\n",
    "^            XOR        Sets each bit to 1 if only one of two bits is 1\n",
    "~            Not        Inverts all the bits\n",
    "<<           Zero fill left shift    Shift left by pushing zeros in from the right and let the leftmost bits fall off\n",
    ">>           Signed right shift      Shi ritht by pushing copies of the left most bit in from the left , and the rightmost bits fall off."
   ]
  },
  {
   "cell_type": "markdown",
   "metadata": {},
   "source": [
    "# PYTHON NOTE 「4」20210104"
   ]
  },
  {
   "cell_type": "markdown",
   "metadata": {},
   "source": [
    "# Python List"
   ]
  },
  {
   "cell_type": "code",
   "execution_count": null,
   "metadata": {},
   "outputs": [],
   "source": [
    "My_list=[\"nabin\",\"python\",\"mission\",\"success\"]"
   ]
  },
  {
   "cell_type": "raw",
   "metadata": {},
   "source": [
    "✍️\n",
    "List　[]\n",
    "Lists are used to store multiple items in a single Variable.\n",
    "\n",
    "Lists are one of 4 build-in data types in python used to store collections of data , the other 3 Tuple , Set and Dictionary, all with different qualities and usage.\n",
    "\n",
    "Lists are created using ⭕️[]square brackets:"
   ]
  },
  {
   "cell_type": "code",
   "execution_count": 2,
   "metadata": {},
   "outputs": [
    {
     "name": "stdout",
     "output_type": "stream",
     "text": [
      "['nabin', 'python', 'mission', 'success']\n"
     ]
    }
   ],
   "source": [
    "My_list=[\"nabin\",\"python\",\"mission\",\"success\"]\n",
    "print(My_list)"
   ]
  },
  {
   "cell_type": "raw",
   "metadata": {},
   "source": [
    "✍️\n",
    "List Iteams\n",
    "\n",
    "➡️List items are ordered,changeable , and allow duplicate values.\n",
    "\n",
    "List items are indexed, the first item has index ⭕️[0],the second item has index ⭕️[1]etc."
   ]
  },
  {
   "cell_type": "raw",
   "metadata": {},
   "source": [
    "✍️\n",
    "Ordered \n",
    "\n",
    "⭕️When we say that lists are ordered , it means that the items have a difined order, and that order will not change.\n",
    "\n",
    "⭕️If you add new items to a list, the new items will be placed at the end of the list.\n",
    "\n",
    "Note:⭕️\n",
    "There are some List methods that will change the order, but in general: the order of the items will not change."
   ]
  },
  {
   "cell_type": "raw",
   "metadata": {},
   "source": [
    "✍️\n",
    "Changealbe\n",
    "\n",
    "The list is changealbe,meaning that we can change, add , and remove items in a list after it has been created."
   ]
  },
  {
   "cell_type": "raw",
   "metadata": {},
   "source": [
    "✍️\n",
    "Allow Duplicates\n",
    "\n",
    "Since lists are indexed,lists can have items with the same value:"
   ]
  },
  {
   "cell_type": "markdown",
   "metadata": {},
   "source": [
    "# PYTHON NOTE 「5」20210105"
   ]
  },
  {
   "cell_type": "markdown",
   "metadata": {},
   "source": [
    "# Python Lists**"
   ]
  },
  {
   "cell_type": "code",
   "execution_count": 1,
   "metadata": {},
   "outputs": [
    {
     "name": "stdout",
     "output_type": "stream",
     "text": [
      "['python', 'Mission', 'target', 'enjoyment']\n"
     ]
    }
   ],
   "source": [
    "#Lists allow duplicate values:\n",
    "\n",
    "my_list=[\"python\",\"Mission\",\"target\",\"enjoyment\"]\n",
    "print(my_list)"
   ]
  },
  {
   "cell_type": "raw",
   "metadata": {},
   "source": [
    "✍️\n",
    "List Items -Data Types\n",
    "\n",
    "List items can be of any data type:"
   ]
  },
  {
   "cell_type": "code",
   "execution_count": 2,
   "metadata": {},
   "outputs": [
    {
     "name": "stdout",
     "output_type": "stream",
     "text": [
      "['python', 'nabin', 'target', 'Mission']\n",
      "[1, 2, 3, 4, 5]\n",
      "[True, False, False]\n"
     ]
    }
   ],
   "source": [
    "#String, int and boolean data types\n",
    "\n",
    "nbn1=[\"python\",\"nabin\",\"target\",\"Mission\"]\n",
    "nbn2=[1,2,3,4,5]\n",
    "nbn3=[True,False,False]\n",
    "\n",
    "print(nbn1)\n",
    "print(nbn2)\n",
    "print(nbn3)"
   ]
  },
  {
   "cell_type": "raw",
   "metadata": {},
   "source": [
    "✍️\n",
    "⭕️A list can contaiton different data types"
   ]
  },
  {
   "cell_type": "code",
   "execution_count": 3,
   "metadata": {},
   "outputs": [
    {
     "name": "stdout",
     "output_type": "stream",
     "text": [
      "['nabin', 'python', 'salary', '9000$', True, 1, 'Yes']\n"
     ]
    }
   ],
   "source": [
    "#a list with strings , integer and boolean values:\n",
    "\n",
    "nbn_list=[\"nabin\",\"python\",\"salary\",\"9000$\",True,1,\"Yes\"]\n",
    "print(nbn_list)"
   ]
  },
  {
   "cell_type": "raw",
   "metadata": {},
   "source": [
    "✍️\n",
    "From python's perspective, lists are difined as objects with the data types\"list\":\n",
    "⭕️<class'list'>"
   ]
  },
  {
   "cell_type": "raw",
   "metadata": {},
   "source": [
    "What is the data types of lists??"
   ]
  },
  {
   "cell_type": "code",
   "execution_count": 5,
   "metadata": {},
   "outputs": [
    {
     "name": "stdout",
     "output_type": "stream",
     "text": [
      "<class 'list'>\n"
     ]
    }
   ],
   "source": [
    "nbn_list=[\"nabin\",\"mission\",\"python\",\"Positive\"]\n",
    "print(type(nbn_list))"
   ]
  },
  {
   "cell_type": "raw",
   "metadata": {},
   "source": [
    "The list() Constructor\n",
    "\n",
    "It is aslo possible to use the ⭕️list() constructor when creating a new list."
   ]
  },
  {
   "cell_type": "raw",
   "metadata": {},
   "source": [
    "➡️Using the ⭕️list() constructor to make a list:"
   ]
  },
  {
   "cell_type": "code",
   "execution_count": 8,
   "metadata": {},
   "outputs": [
    {
     "name": "stdout",
     "output_type": "stream",
     "text": [
      "['nabin', 'python', 'mission', 'positive']\n"
     ]
    }
   ],
   "source": [
    "nbn_list=list((\"nabin\",\"python\",\"mission\",\"positive\"))\n",
    "\n",
    "#Note the double round-brackets\n",
    "\n",
    "print(nbn_list)"
   ]
  },
  {
   "cell_type": "markdown",
   "metadata": {},
   "source": [
    "# Python Collection (Arrays)"
   ]
  },
  {
   "cell_type": "raw",
   "metadata": {},
   "source": [
    "There are four collectio data types in the Python programming Language:\n",
    "\n",
    "✍️\n",
    "List:\n",
    "List is a collection which is ordered and changeable. Allows duplicate members.\n",
    "\n",
    "✍️\n",
    "Tuple:\n",
    "Tuple is a collection which is ordered and unchangeable. Allows duplicate members.\n",
    "\n",
    "✍️\n",
    "Set:\n",
    "Set is a collection which is unordered and unindexed.No duplicate members.\n",
    "\n",
    "✍️\n",
    "Dictionary is a collectiion which is unordered and changeable. No duplicate members.\n",
    "\n",
    "When chossing a collection type, it is useful to understand the properties of that type. Choosing the right type for a particular data set could mean retention of meaning, and , t could mean an increase in efficiency or security.\n"
   ]
  },
  {
   "cell_type": "markdown",
   "metadata": {},
   "source": [
    "# Python-Access List Item"
   ]
  },
  {
   "cell_type": "raw",
   "metadata": {},
   "source": [
    "✍️\n",
    "Access Items\n",
    "\n",
    "List items are indexed and yu can access them by referrig to the index number:"
   ]
  },
  {
   "cell_type": "code",
   "execution_count": 9,
   "metadata": {},
   "outputs": [
    {
     "name": "stdout",
     "output_type": "stream",
     "text": [
      "Python\n"
     ]
    }
   ],
   "source": [
    "#print the second item of the list:\n",
    "\n",
    "nbn_list=[\"Nabin\",\"Python\",\"Mission\"]\n",
    "print(nbn_list[1])"
   ]
  },
  {
   "cell_type": "raw",
   "metadata": {},
   "source": [
    "➡️Note:The first item has index 0."
   ]
  },
  {
   "cell_type": "raw",
   "metadata": {},
   "source": [
    "✍️\n",
    "Negative Indexing\n",
    "\n",
    "⭕️Negative indexing means start from the end\n",
    "\n",
    "✅code function\n",
    "-1 refers to shte last item, -2 refers to the second last item etc."
   ]
  },
  {
   "cell_type": "raw",
   "metadata": {},
   "source": [
    "✍️\n",
    "Range of Indexes\n",
    "\n",
    "You can specify a range of indexes by specifying where to start and where to end the range.\n",
    "\n",
    "When specifying a range , the return value will be a new list with the specified items."
   ]
  },
  {
   "cell_type": "code",
   "execution_count": 10,
   "metadata": {},
   "outputs": [
    {
     "name": "stdout",
     "output_type": "stream",
     "text": [
      "['nabin', 'target', 'success']\n"
     ]
    }
   ],
   "source": [
    "#Return the third, fourth, and fifth item:\n",
    "\n",
    "nbn_list=[\"python\",\"mission\",\"nabin\",\"target\",\"success\",\"YES!\"]\n",
    "print(nbn_list[2:5])"
   ]
  },
  {
   "cell_type": "raw",
   "metadata": {},
   "source": [
    "Note:\n",
    "\n",
    "✅Coding Function:\n",
    "⭕️The search will start a index 2 (included) and end at index 5 (not included)."
   ]
  },
  {
   "cell_type": "raw",
   "metadata": {},
   "source": [
    "⭕️Remember that the first item has index 0"
   ]
  },
  {
   "cell_type": "raw",
   "metadata": {},
   "source": [
    "By leaving out the start value , the range will start at the first item:"
   ]
  },
  {
   "cell_type": "code",
   "execution_count": 12,
   "metadata": {},
   "outputs": [
    {
     "name": "stdout",
     "output_type": "stream",
     "text": [
      "['nabin', 'Python', 'challenge', 'Success']\n"
     ]
    }
   ],
   "source": [
    "#This example returs the item from the begining to ,\n",
    "#but NOT including , \"nbn\":\n",
    "\n",
    "nbn_list=[\"nabin\",\"Python\",\"challenge\",\"Success\",\"nbn\",\"Yes!\"]\n",
    "print(nbn_list[:4])"
   ]
  },
  {
   "cell_type": "code",
   "execution_count": 13,
   "metadata": {},
   "outputs": [
    {
     "name": "stdout",
     "output_type": "stream",
     "text": [
      "['challenge', 'Success', 'nbn', 'Yes!']\n"
     ]
    }
   ],
   "source": [
    "#This example returns the items form \"challenge\" to end:\n",
    "\n",
    "nbn_list=[\"nabin\",\"Python\",\"challenge\",\"Success\",\"nbn\",\"Yes!\"]\n",
    "print(nbn_list[2:])"
   ]
  },
  {
   "cell_type": "raw",
   "metadata": {},
   "source": [
    "✍️\n",
    "Range of Negative Indexes\n",
    "\n",
    "Specify negative indexes if you want to start the search from the end of the list:"
   ]
  },
  {
   "cell_type": "raw",
   "metadata": {},
   "source": [
    "# This example returns items from \"success\"(-4)to , but NOT including \"YES!\"(-1):"
   ]
  },
  {
   "cell_type": "code",
   "execution_count": 14,
   "metadata": {},
   "outputs": [
    {
     "name": "stdout",
     "output_type": "stream",
     "text": [
      "['challenge', 'Success', 'nbn']\n"
     ]
    }
   ],
   "source": [
    "nbn_list=nbn_list=[\"nabin\",\"Python\",\"challenge\",\"Success\",\"nbn\",\"Yes!\"]\n",
    "print(nbn_list[-4:-1])"
   ]
  },
  {
   "cell_type": "raw",
   "metadata": {},
   "source": [
    "✍️\n",
    "Check if Item Exists\n",
    "\n",
    "To determine if a specified item is present in a list use the in keyword:"
   ]
  },
  {
   "cell_type": "code",
   "execution_count": 15,
   "metadata": {},
   "outputs": [
    {
     "name": "stdout",
     "output_type": "stream",
     "text": [
      " Yes!, i will win\n"
     ]
    }
   ],
   "source": [
    "#Chec if \"apple\" is present in the list:\n",
    "\n",
    "nbn_list=nbn_list=[\"nabin\",\"Python\",\"challenge\",\"Success\",\"nbn\",\"Yes!\"]\n",
    "if \"nabin\" in nbn_list:\n",
    "    print(\" Yes!, i will win\")"
   ]
  },
  {
   "cell_type": "markdown",
   "metadata": {},
   "source": [
    "# PYTHON NOTE 「6」20210106"
   ]
  },
  {
   "cell_type": "markdown",
   "metadata": {},
   "source": [
    "# Change Item Value\n",
    "To change the value of a specific item, refer to the index number:"
   ]
  },
  {
   "cell_type": "code",
   "execution_count": 19,
   "metadata": {},
   "outputs": [
    {
     "name": "stdout",
     "output_type": "stream",
     "text": [
      "['nabin', 'python', 'success ', 'yes']\n"
     ]
    }
   ],
   "source": [
    "#Change the second item:\n",
    "\n",
    "nbn_list=[\"nabin\",\"python\",\"success \",\"yes\"]\n",
    "nbn_list[1]=\"python\"\n",
    "print(nbn_list)"
   ]
  },
  {
   "cell_type": "raw",
   "metadata": {},
   "source": [
    "✍️\n",
    "Change a Range of Item Values\n",
    "\n",
    "To change the value of items within a specific range, define a list wiht the new values, and refer to the range of index numbers where you want to insert the new values:\n"
   ]
  },
  {
   "cell_type": "raw",
   "metadata": {},
   "source": [
    "Change the values \"python\" and \"success\" with the value \"target\" and \"YOU CAN WIN\""
   ]
  },
  {
   "cell_type": "code",
   "execution_count": 20,
   "metadata": {},
   "outputs": [
    {
     "name": "stdout",
     "output_type": "stream",
     "text": [
      "['nabin', 'target', 'YOU CAN WIN', 'yes']\n"
     ]
    }
   ],
   "source": [
    "nbn_list=[\"nabin\",\"python\",\"success \",\"yes\"]\n",
    "nbn_list[1:3]=[\"target\",\"YOU CAN WIN\"]\n",
    "print(nbn_list)"
   ]
  },
  {
   "cell_type": "raw",
   "metadata": {},
   "source": [
    "If you insert more items than you replace , the new items will be inserted where you specified, and the remaining items will move accordingly:"
   ]
  },
  {
   "cell_type": "code",
   "execution_count": 23,
   "metadata": {},
   "outputs": [
    {
     "name": "stdout",
     "output_type": "stream",
     "text": [
      "['nabin', 'target', 'you can win', 'success', 'Yes']\n"
     ]
    }
   ],
   "source": [
    "#Change the second value by replacing it with two new values:\n",
    "\n",
    "nbn_list=[\"nabin\",\"Python\",\"success\",\"Yes\"]\n",
    "nbn_list[1:2]=[\"target\",\"you can win\"]\n",
    "print(nbn_list)"
   ]
  },
  {
   "cell_type": "raw",
   "metadata": {},
   "source": [
    "➡️\n",
    "⭕️Note; The length of the list will change when the number of items inserted does not match the number of items replaced"
   ]
  },
  {
   "cell_type": "raw",
   "metadata": {},
   "source": [
    "If you insert less items then you replace, the new items will be inserted where you specified, and the remaining items will move accordingly:"
   ]
  },
  {
   "cell_type": "raw",
   "metadata": {},
   "source": [
    "➡️Change the second and third value by replacing it with one value:"
   ]
  },
  {
   "cell_type": "code",
   "execution_count": 25,
   "metadata": {},
   "outputs": [
    {
     "name": "stdout",
     "output_type": "stream",
     "text": [
      "['nabin', 'I got the point', 'success', 'Yes']\n",
      "second and third Value byreplacing with one value ['nabin', 'I got the point', 'Yes']\n"
     ]
    }
   ],
   "source": [
    "print(nbn_list)\n",
    "nbn_list[1:3]=[\"I got the point\"]\n",
    "print(\"second and third Value byreplacing with one value\",nbn_list)"
   ]
  },
  {
   "cell_type": "raw",
   "metadata": {},
   "source": [
    "✍️\n",
    "Insert Items\n",
    "To insert a new list item, without replacing any of the existing values, we can sue the insert() method.\n",
    "\n",
    "The insert () method inserts an item at the specified index:\n"
   ]
  },
  {
   "cell_type": "code",
   "execution_count": 26,
   "metadata": {},
   "outputs": [
    {
     "name": "stdout",
     "output_type": "stream",
     "text": [
      "['nabin', 'I got the point', 'My success', 'Yes']\n"
     ]
    }
   ],
   "source": [
    "#insert \"My success\" as the third item:\n",
    "\n",
    "nbn_list.insert(2,\"My success\")\n",
    "print(nbn_list)"
   ]
  },
  {
   "cell_type": "raw",
   "metadata": {},
   "source": [
    "Note:As a result of the example above , the list will now contain 4 items."
   ]
  },
  {
   "cell_type": "markdown",
   "metadata": {},
   "source": [
    "# Add List items"
   ]
  },
  {
   "cell_type": "raw",
   "metadata": {},
   "source": [
    "✍️\n",
    "Append items\n",
    "\n",
    "To add an item to the end of the list,use the append()method:"
   ]
  },
  {
   "cell_type": "code",
   "execution_count": 27,
   "metadata": {},
   "outputs": [
    {
     "name": "stdout",
     "output_type": "stream",
     "text": [
      "['nabin', 'I got the point', 'My success', 'Yes', 'Success is on your hand']\n"
     ]
    }
   ],
   "source": [
    "#Using the append()method to append an item:\n",
    "\n",
    "nbn_list.append(\"Success is on your hand\")\n",
    "print(nbn_list)"
   ]
  },
  {
   "cell_type": "markdown",
   "metadata": {},
   "source": [
    "# Insert Items"
   ]
  },
  {
   "cell_type": "raw",
   "metadata": {},
   "source": [
    "To insert a list item at a specified index,use the ⭕️insert() method.\n",
    "The ⭕️insert() method inserts an item at the specified index:"
   ]
  },
  {
   "cell_type": "code",
   "execution_count": 30,
   "metadata": {},
   "outputs": [
    {
     "name": "stdout",
     "output_type": "stream",
     "text": [
      "['nabin', 'be active', 'Python', 'success', 'Yes']\n"
     ]
    }
   ],
   "source": [
    "#insert an item as the second position:\n",
    "\n",
    "nbn_list=[\"nabin\",\"Python\",\"success\",\"Yes\"]\n",
    "nbn_list.insert(1,\"be active\")\n",
    "print(nbn_list)"
   ]
  },
  {
   "cell_type": "raw",
   "metadata": {},
   "source": [
    "➡️\n",
    "As a result of the examples above , the lists will now contaion 4 items."
   ]
  },
  {
   "cell_type": "markdown",
   "metadata": {},
   "source": [
    "# Extend List"
   ]
  },
  {
   "cell_type": "raw",
   "metadata": {},
   "source": [
    "To append elements from another list to the current list,use the extend() method."
   ]
  },
  {
   "cell_type": "code",
   "execution_count": 33,
   "metadata": {},
   "outputs": [
    {
     "name": "stdout",
     "output_type": "stream",
     "text": [
      "['nabin', 'be active', 'Python', 'success', 'Yes', '1', '2', '3', '4']\n"
     ]
    }
   ],
   "source": [
    "#Add the elements of \"yes\" to \"Win\":\n",
    "\n",
    "nbn_list1=[\"1\",\"2\",\"3\",\"4\"]\n",
    "nbn_list.extend(nbn_list1)\n",
    "print(nbn_list)"
   ]
  },
  {
   "cell_type": "raw",
   "metadata": {},
   "source": [
    "⭕️The elements will be added to the end of the list"
   ]
  },
  {
   "cell_type": "markdown",
   "metadata": {},
   "source": [
    "# Add any Iterable\n",
    "\n",
    "The extend() method does not have to append lists, you can add any iterable object (tuples, sets, dictionaries etc.)."
   ]
  },
  {
   "cell_type": "code",
   "execution_count": 34,
   "metadata": {},
   "outputs": [
    {
     "name": "stdout",
     "output_type": "stream",
     "text": [
      "['nabin', 'be active', 'Python', 'success', 'Yes', '1', '2', '3', '4', 'be positive', 'think positive']\n"
     ]
    }
   ],
   "source": [
    "#add elementa of a tuple to a list:\n",
    "\n",
    "nbn_list1=(\"be positive\",\"think positive\")\n",
    "nbn_list.extend(nbn_list1)\n",
    "print(nbn_list)"
   ]
  }
 ],
 "metadata": {
  "kernelspec": {
   "display_name": "Python 3",
   "language": "python",
   "name": "python3"
  },
  "language_info": {
   "codemirror_mode": {
    "name": "ipython",
    "version": 3
   },
   "file_extension": ".py",
   "mimetype": "text/x-python",
   "name": "python",
   "nbconvert_exporter": "python",
   "pygments_lexer": "ipython3",
   "version": "3.8.5"
  },
  "widgets": {
   "application/vnd.jupyter.widget-state+json": {
    "state": {},
    "version_major": 2,
    "version_minor": 0
   }
  }
 },
 "nbformat": 4,
 "nbformat_minor": 4
}
