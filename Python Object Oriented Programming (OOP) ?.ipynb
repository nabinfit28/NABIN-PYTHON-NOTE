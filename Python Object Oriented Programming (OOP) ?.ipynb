{
 "cells": [
  {
   "cell_type": "markdown",
   "metadata": {},
   "source": [
    "# Python Object Oriented Programming"
   ]
  },
  {
   "cell_type": "raw",
   "metadata": {},
   "source": [
    "In this tutorial, we will learn about object-oriented programming (OOP) in python and its fundamental concept wiht the help examples."
   ]
  },
  {
   "cell_type": "markdown",
   "metadata": {},
   "source": [
    "# Object Oritented Programming\n",
    "\n",
    "Python is a multi-paradigm programming language. It supports different programming approaches.\n",
    "\n",
    "One of the popular approaches to solve a programming problem is by creating objects. This is known as object oriented programming (OOP).\n",
    "\n",
    "An object has two characteristics:\n",
    "\n",
    ".attributes \n",
    ".behaviour\n",
    "\n",
    "Let`s take an example:\n",
    "\n",
    "a parrot is can be an object, as it has the following properities:\n",
    ".name , age , color as attributes\n",
    ".singing , dancing as behaviour\n",
    "\n",
    "The concept of OOP in python focuses on creating reusable code. This concept is also known as DRY ( Don't Repeat Yourself).\n",
    "\n",
    "in Python , the concept of OOP follows some basic principles:"
   ]
  },
  {
   "cell_type": "markdown",
   "metadata": {},
   "source": [
    "# Class\n",
    "\n",
    "A class is a blueprint for the object.\n",
    "\n",
    "we can think of class as a sketch of a parrot with labels. It contains all the details about the name , colors, size etc. Based on these descriptions, we can study about the parrot . Here, a parrot is an object.\n",
    "\n",
    "The example for class of parrot can be :\n",
    "\n",
    "class parrot :\n",
    "    pass\n",
    "    \n",
    "Here , we use the class keyword to define an empty class parrot. From class, we construct instance. An instance is a specific object created from a particular class."
   ]
  },
  {
   "cell_type": "markdown",
   "metadata": {},
   "source": [
    "# Object\n",
    "\n",
    "An object (instance) is an instantiation of a class. When class is defined , only the description for the object is defined. Therefore, no memory or storage is allocated.\n",
    "\n",
    "The example for object of parrot class can be:\n",
    "\n",
    "obj = parrot()\n",
    "\n",
    "Here , obj is an object of class parrot.\n",
    "\n",
    "Suppose we have details of parrots。Now,we are going to show how to build the class and object of parrots.\n"
   ]
  },
  {
   "cell_type": "code",
   "execution_count": 4,
   "metadata": {},
   "outputs": [
    {
     "name": "stdout",
     "output_type": "stream",
     "text": [
      "Blu is a bird\n",
      "Woo is also a bird\n",
      "Blu is 10 yesrs old\n",
      "Woo is 15 years old\n"
     ]
    }
   ],
   "source": [
    "#example1. Creating clcass and object in Python\n",
    "\n",
    "class Parrot:\n",
    "    #class attribute\n",
    "    species = \"bird\"\n",
    "    \n",
    "    #instance attribute\n",
    "    def __init__(self,name,age):\n",
    "        self.name = name\n",
    "        self.age = age\n",
    "\n",
    "#instantiate the parrot class\n",
    "blu = Parrot(\"Blu\",10)\n",
    "woo = Parrot(\"Woo\",15)\n",
    "\n",
    "# access the class attributes\n",
    "print(\"Blu is a {}\".format(blu. __class__.species))\n",
    "print(\"Woo is also a {}\".format (woo.__class__.species))\n",
    "\n",
    "#access the instance attributes\n",
    "print(\"{} is {} yesrs old\".format( blu.name, blu.age))\n",
    "print(\"{} is {} years old\".format ( woo.name, woo.age))"
   ]
  },
  {
   "cell_type": "raw",
   "metadata": {},
   "source": [
    "In the above program , we created a class wiht the name parrot . Then , we define attributes. The attributes are a characteristic of an object.\n",
    "\n",
    "These attributes are defined inside the __init__ method of the class. It is the initializer method that is first runas soon as the object is created.\n",
    "\n",
    "Then, we create instances of the parrot class. Here, blu and woo are references (values to our new objects.\n",
    "\n",
    "We can access the class attribute using \n",
    "__class__.species. Class attributes are the same for all instances of a class. Similarly, we access the instacne attributes using blu.name and blu.age. However, instance attributes are different for every instance of a class"
   ]
  },
  {
   "cell_type": "markdown",
   "metadata": {},
   "source": [
    "# Methods\n",
    "\n",
    "Methods are functions defined inside the body of a class.\n",
    "They are used to define the behaviours of an object."
   ]
  },
  {
   "cell_type": "code",
   "execution_count": 8,
   "metadata": {},
   "outputs": [
    {
     "name": "stdout",
     "output_type": "stream",
     "text": [
      "Blu sings Happy\n",
      "Blu is now dancing\n"
     ]
    }
   ],
   "source": [
    "#Example2 : Creating Methods in Python\n",
    "\n",
    "class parrot:\n",
    "    \n",
    "    #instance attributes\n",
    "    def __init__(self,name,age):\n",
    "        self.name = name\n",
    "        self.age = age\n",
    "    #instance method\n",
    "    def sing(self,song):\n",
    "        return \"{} sings{}\".format(self.name,song)\n",
    "    \n",
    "    def dance(self):\n",
    "        return \"{} is now dancing\".format(self.name)\n",
    "\n",
    "#instantiate the object\n",
    "blu = parrot(\"Blu\",10)\n",
    "\n",
    "#call out instance methods\n",
    "print(blu.sing(\" Happy\"))\n",
    "print(blu.dance())"
   ]
  },
  {
   "cell_type": "raw",
   "metadata": {},
   "source": [
    "In the above program , we define two methods i.e. sing() and dance() .These are called instance methods because they are called on an instance object i.e. blu."
   ]
  },
  {
   "cell_type": "markdown",
   "metadata": {},
   "source": [
    "# Inheritance \n",
    "\n",
    "Inheritance is a way of creating a new class for using details of an existing class without modifying it. The newly formed class is a derived class (or child class).Similarly , the existing class is a base class (or parent class)."
   ]
  },
  {
   "cell_type": "code",
   "execution_count": 17,
   "metadata": {},
   "outputs": [
    {
     "name": "stdout",
     "output_type": "stream",
     "text": [
      "Bird is ready\n",
      "Penguin is ready\n",
      "Penguin\n",
      "Swim faster\n",
      "Run faster\n"
     ]
    }
   ],
   "source": [
    "#Example 3: Use of inheritance in python\n",
    "# parent class\n",
    "class Bird:\n",
    "    \n",
    "    def __init__(self):\n",
    "        print(\"Bird is ready\")\n",
    "\n",
    "    def whoisThis(self):\n",
    "        print(\"Bird\")\n",
    "\n",
    "    def swim(self):\n",
    "        print(\"Swim faster\")\n",
    "\n",
    "# child class\n",
    "class Penguin(Bird):\n",
    "\n",
    "    def __init__(self):\n",
    "        # call super() function\n",
    "        super().__init__()\n",
    "        print(\"Penguin is ready\")\n",
    "\n",
    "    def whoisThis(self):\n",
    "        print(\"Penguin\")\n",
    "\n",
    "    def run(self):\n",
    "        print(\"Run faster\")\n",
    "\n",
    "peggy = Penguin()\n",
    "peggy.whoisThis()\n",
    "peggy.swim()\n",
    "peggy.run()"
   ]
  },
  {
   "cell_type": "raw",
   "metadata": {},
   "source": [
    "In the above program , we created two classes i.e. Bird (parent class) and Penguin (child class). The child class inherits the functions of parent class. We can see this from the swim() method.\n",
    "\n",
    "Again, the child class modified the behaviour of the parent class. We cna see this from the whoisthis() method.\n",
    "\n",
    "Furthermore, we extend the functions of the parent class by creating a new run() method.\n",
    "\n",
    "Additionally , we use the super() function inside the __init__() method. This allows us to run the __init__() method of the parent class inside the child class."
   ]
  },
  {
   "cell_type": "markdown",
   "metadata": {},
   "source": [
    "# Encapsulation\n",
    "\n",
    "Using OOP in python, we cna restrict access to methods and variables. This prevents data from direct modification which is called encapsulation. In python, we denote private attributes using underscore as the prefix i.e. single _ or double __."
   ]
  },
  {
   "cell_type": "code",
   "execution_count": 18,
   "metadata": {},
   "outputs": [
    {
     "name": "stdout",
     "output_type": "stream",
     "text": [
      "Selling Price: 900\n",
      "Selling Price: 900\n",
      "Selling Price: 1000\n"
     ]
    }
   ],
   "source": [
    "# Exmaple 4: Data encapsulation in Python\n",
    "\n",
    "class Computer:\n",
    "    def __init__(self):\n",
    "        self.__maxprice = 900\n",
    "        \n",
    "    def sell(self):\n",
    "        print(\"Selling Price: {}\".format(self. __maxprice))\n",
    "    \n",
    "    def setMaxPrice (self,price):\n",
    "        self.__maxprice = price\n",
    "        \n",
    "c = Computer()\n",
    "c.sell()\n",
    "\n",
    "# Change the price\n",
    "c. __maxprice = 1000\n",
    "c.sell()\n",
    "\n",
    "# Using setter function\n",
    "c.setMaxPrice(1000)\n",
    "c.sell()"
   ]
  },
  {
   "cell_type": "raw",
   "metadata": {},
   "source": [
    "In the above program, we defined a computer class.\n",
    "\n",
    "we used __init__() method to store the maximum selling price of computer . we can'not change it because Python treats the __maxprice as private attributes.\n",
    "\n",
    "As shown , to change the value , we have to use a setter function i.e. setMaxprice() which takes price as a parameter."
   ]
  },
  {
   "cell_type": "markdown",
   "metadata": {},
   "source": [
    "# Polymorphism\n",
    "\n",
    "Polymorphism is an ablity (in OOP) to use a common interface for multiple forms (sata types).\n",
    "\n",
    "Suppose , we need to color a shape, there are multiple shape options (rectange ,square, circle). How ever we could use the same method to color any shape . this concept is called Polymorphism"
   ]
  },
  {
   "cell_type": "code",
   "execution_count": 20,
   "metadata": {},
   "outputs": [
    {
     "name": "stdout",
     "output_type": "stream",
     "text": [
      "Parrot can fly\n",
      "Penguin can't fly\n"
     ]
    }
   ],
   "source": [
    "# exmaple 5: Using Polymorphism is Pyhon\n",
    "\n",
    "class Parrot :\n",
    "    \n",
    "    def fly(self):\n",
    "        print(\"Parrot can fly\")\n",
    "        \n",
    "    def swim(self):\n",
    "        print(\"parrot can't swom\")\n",
    "\n",
    "class Penguin:\n",
    "    \n",
    "    def fly(self):\n",
    "        print(\"Penguin can't fly\")\n",
    "        \n",
    "    def swim(self):\n",
    "        print(\"Penguin can swim\")\n",
    "        \n",
    "# Common interface\n",
    "def flying_test(bird):\n",
    "    bird.fly()\n",
    "    \n",
    "# instantiate objects\n",
    "blu = Parrot()\n",
    "peggy = Penguin()\n",
    "\n",
    "# Passing the object\n",
    "flying_test(blu)\n",
    "flying_test(peggy)"
   ]
  },
  {
   "cell_type": "code",
   "execution_count": null,
   "metadata": {},
   "outputs": [],
   "source": [
    "In the abouve program, we defined two classes parrot and penguin. Each of them have a common fly(9 menthod . However , their functions are different.\n",
    "\n",
    "To use polymorphism , we created a common interface i.e. flying_test() function that takes any object and calls the object's fly() method . Thus,when we passed the blu and peggy objects in the fluing_test() function, it ran effectively."
   ]
  },
  {
   "cell_type": "markdown",
   "metadata": {},
   "source": [
    "# Key Points to Rember:\n",
    "\n",
    "● Object-Oriented Programming make the program easy to understand as well as efficient\n",
    "\n",
    "● Since the class is sharable, the code can be reused.\n",
    "\n",
    "● Data is safe and secure wiht data abstraction\n",
    "\n",
    "● Polymorphism allows the same interface for different objects, so probrammers can wwrite efficient code.\n",
    "\n",
    "\n",
    "⭕️⭕️\n",
    "https://www.youtube.com/watch?v=pnWINBJ3-yA&feature=emb_logo"
   ]
  }
 ],
 "metadata": {
  "kernelspec": {
   "display_name": "Python 3",
   "language": "python",
   "name": "python3"
  },
  "language_info": {
   "codemirror_mode": {
    "name": "ipython",
    "version": 3
   },
   "file_extension": ".py",
   "mimetype": "text/x-python",
   "name": "python",
   "nbconvert_exporter": "python",
   "pygments_lexer": "ipython3",
   "version": "3.8.5"
  }
 },
 "nbformat": 4,
 "nbformat_minor": 4
}
