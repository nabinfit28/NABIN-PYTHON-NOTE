{
 "cells": [
  {
   "cell_type": "markdown",
   "metadata": {},
   "source": [
    "# Python note 20210117 [17]"
   ]
  },
  {
   "cell_type": "markdown",
   "metadata": {},
   "source": [
    "# Python-Assignment-1"
   ]
  },
  {
   "cell_type": "raw",
   "metadata": {},
   "source": [
    "# 1. Variable Output: Store the value 3 in a variable called \"x\" and the value 10 in a variable called \"y\". Save the result of x * y into a separate variable called \"result\". Finally, output the information so it shows as the following\n",
    "2. Variable Injection: Create a print statement that injects an integer, float, boolean, and string all into one line. The output should look like \"23 4.5 False John\""
   ]
  },
  {
   "cell_type": "code",
   "execution_count": 4,
   "metadata": {},
   "outputs": [
    {
     "name": "stdout",
     "output_type": "stream",
     "text": [
      "30\n"
     ]
    }
   ],
   "source": [
    "x=3\n",
    "y=10\n",
    "print(x*y)"
   ]
  },
  {
   "cell_type": "code",
   "execution_count": 5,
   "metadata": {},
   "outputs": [
    {
     "name": "stdout",
     "output_type": "stream",
     "text": [
      "2\n",
      "2.0\n",
      "True\n",
      "Nabin\n"
     ]
    }
   ],
   "source": [
    "print(int(2))\n",
    "print(float(2))\n",
    "print(bool(2))\n",
    "print(\"Nabin\")"
   ]
  },
  {
   "cell_type": "raw",
   "metadata": {},
   "source": [
    "Final Assignment: Printing Receipts\n",
    "NOTE: Create top, sides, and bottom borders using star (*)"
   ]
  },
  {
   "cell_type": "code",
   "execution_count": 30,
   "metadata": {},
   "outputs": [
    {
     "name": "stdout",
     "output_type": "stream",
     "text": [
      "ATA Pvt. Ltd. Nepal\n",
      "  Kathmandu,Nepal\n",
      "===================\n",
      "      Items\n",
      "===================\n",
      "Python       30\n",
      "PHP          40\n",
      "Java         50\n",
      "...................\n",
      "Total Price 120\n",
      "===================\n",
      "Thank you for visiting us\n"
     ]
    }
   ],
   "source": [
    "Python=30\n",
    "PHP=40\n",
    "Java=50\n",
    "\n",
    "nbn_company = \"ATA Pvt. Ltd. Nepal\"\n",
    "\n",
    "address = \"Kathmandu,Nepal\"\n",
    "\n",
    "message= \"Thank you for visiting us\"\n",
    "\n",
    "\n",
    "print(nbn_company)\n",
    "print(\" \",address)\n",
    "print(\"===================\")\n",
    "print(\"     \",\"Items\")\n",
    "print(\"===================\")\n",
    "print(\"Python\",\"     \",Python)\n",
    "print(\"PHP\",\"        \",PHP)\n",
    "print(\"Java\",\"       \",Java)\n",
    "print(\"...................\")\n",
    "print(\"Total Price\",Python+PHP+Java)\n",
    "\n",
    "print(\"===================\")\n",
    "print(message)\n"
   ]
  },
  {
   "cell_type": "markdown",
   "metadata": {},
   "source": [
    "# Python-assignment-2"
   ]
  },
  {
   "cell_type": "raw",
   "metadata": {},
   "source": [
    "If Statements Assignment\n",
    "1. using an if statement to only run code if the condition is met\n",
    "2. using the keyword 'and' in an 'if statement'\n",
    "3. using the keyword 'or' in an 'if statement'\n",
    "4. using the keyword 'not' within an 'if statement'"
   ]
  },
  {
   "cell_type": "code",
   "execution_count": 32,
   "metadata": {},
   "outputs": [
    {
     "name": "stdout",
     "output_type": "stream",
     "text": [
      "x is less than y\n"
     ]
    }
   ],
   "source": [
    "x=30\n",
    "y=40\n",
    "if x<y:\n",
    "    print(\"x is less than y\")"
   ]
  },
  {
   "cell_type": "code",
   "execution_count": 37,
   "metadata": {},
   "outputs": [
    {
     "name": "stdout",
     "output_type": "stream",
     "text": [
      "True\n"
     ]
    }
   ],
   "source": [
    "x=2\n",
    "y=5\n",
    "print(x < y and y > x)"
   ]
  },
  {
   "cell_type": "code",
   "execution_count": 38,
   "metadata": {},
   "outputs": [
    {
     "name": "stdout",
     "output_type": "stream",
     "text": [
      "True\n"
     ]
    }
   ],
   "source": [
    "x=2\n",
    "y=5\n",
    "print ( x > y or x < y )"
   ]
  },
  {
   "cell_type": "code",
   "execution_count": 42,
   "metadata": {},
   "outputs": [
    {
     "name": "stdout",
     "output_type": "stream",
     "text": [
      "True\n"
     ]
    }
   ],
   "source": [
    "x=2\n",
    "y=5\n",
    "print(not( x > y and x < y))"
   ]
  },
  {
   "cell_type": "raw",
   "metadata": {},
   "source": [
    "Elif Statements Assignment\n",
    "\n",
    "1.using the elif conditional statement\n",
    "2.checking more than one elif conditional statement\n",
    "3.writing multiple conditionals within each other - multiple block levels\n",
    "4.testing output of two if statements in a row that are both true\n",
    "5.testing output of an if and elif statement that are both true\n",
    "\n",
    "Else Statements Assignment\n",
    "using an else statement\n",
    "writing a full conditional statement with if, elif, else"
   ]
  },
  {
   "cell_type": "code",
   "execution_count": 60,
   "metadata": {},
   "outputs": [
    {
     "name": "stdout",
     "output_type": "stream",
     "text": [
      "x is less than y\n"
     ]
    }
   ],
   "source": [
    "x = 8\n",
    "y = 9\n",
    "\n",
    "if x > y:\n",
    "    print(\" x is greater than y\")\n",
    "    \n",
    "elif x < y:\n",
    "    print(\"x is less than y\")\n",
    "\n",
    "elif x == y:\n",
    "    print(\"x and y is same value\")\n",
    "    "
   ]
  },
  {
   "cell_type": "code",
   "execution_count": 63,
   "metadata": {},
   "outputs": [
    {
     "name": "stdout",
     "output_type": "stream",
     "text": [
      "Yes, You are valid person Nabin\n"
     ]
    }
   ],
   "source": [
    "nbn=\"N\"\n",
    "\n",
    "if (nbn == \"n\" or nbn == \"x\"):\n",
    "    print(\"Not valid person\")\n",
    "\n",
    "elif (nbn == \"N\" or nbn == \"y\"):\n",
    "    print(\"Yes, You are valid person Nabin\")\n",
    "    \n",
    "else:\n",
    "    print(\"All are invalid person check in\")"
   ]
  },
  {
   "cell_type": "code",
   "execution_count": null,
   "metadata": {},
   "outputs": [],
   "source": [
    "valid_person = int(input(\"Your age==\"))\n",
    "\n",
    "if valid_person <= 19:\n",
    "    print(\"You are under age\")\n",
    "elif valid_person <= 30:\n",
    "    print(\"you are Valid for 'A' category\")\n",
    "elif valid_person <= 40:\n",
    "    print(\"You are valid for 'B' category\")\n",
    "elif valid_person <= 50:\n",
    "    print(\"you are valid for 'C' category\")\n",
    "else:\n",
    "          print(\"you are not valid for the condition\")"
   ]
  },
  {
   "cell_type": "markdown",
   "metadata": {},
   "source": [
    "# Python Note 20210117「17」"
   ]
  },
  {
   "cell_type": "code",
   "execution_count": 9,
   "metadata": {},
   "outputs": [
    {
     "name": "stdout",
     "output_type": "stream",
     "text": [
      "Initial number3\n",
      "enter your first number ==5\n",
      "enter your second number ==6\n",
      "your Inviled number\n"
     ]
    }
   ],
   "source": [
    "initial_num = int(input(\"Initial number\"))\n",
    "\n",
    "num1=int(input(\"enter your first number ==\"))\n",
    "num2=int(input(\"enter your second number ==\"))\n",
    "\n",
    "if initial_num == 0:\n",
    "    initial_num+1\n",
    "    print(\"first number result\")\n",
    "elif initial_num <= 1:\n",
    "    initial_num //2\n",
    "    print(\"your second number\")\n",
    "else:\n",
    "    print(\"your Inviled number\")"
   ]
  },
  {
   "cell_type": "raw",
   "metadata": {},
   "source": [
    "Final Assignment: Creating a Calculator\n",
    "step 1: ask the user for the calculation to be performed\n",
    "step 2: ask for numbers, alert order matters for subtracting or dividing\n",
    "step 3: setup try/except for the mathematical operation"
   ]
  },
  {
   "cell_type": "raw",
   "metadata": {},
   "source": [
    "Extra Practice Questions\n",
    " Age Group: Ask the user to input their age. Depending on their input, output one of the following groups:\n",
    "a. Between 0 and 12 = \"Kid\"\n",
    "b. Between 13 and 19 = \"Teenager\"\n",
    "c. Between 20 and 30 = \"Young Adult\"\n",
    "d. Between 31 and 64 = \"Adult\"\n",
    "e. 65 or above = \"Senior\""
   ]
  },
  {
   "cell_type": "code",
   "execution_count": 15,
   "metadata": {},
   "outputs": [
    {
     "name": "stdout",
     "output_type": "stream",
     "text": [
      "your age67\n",
      "Senior\n"
     ]
    }
   ],
   "source": [
    "age = int(input(\"your age\"))\n",
    "if age <= 12:\n",
    "    print(\"kid\")\n",
    "elif age <=19:\n",
    "    print(\"Teenager\")\n",
    "elif age <= 30:\n",
    "    print(\"Young Adult\")\n",
    "elif age <= 64:\n",
    "    print(\"Adult\")\n",
    "else:\n",
    "    print(\"Senior\")\n"
   ]
  },
  {
   "cell_type": "markdown",
   "metadata": {},
   "source": [
    "# # Python note 20210122 [22]"
   ]
  },
  {
   "cell_type": "markdown",
   "metadata": {},
   "source": [
    "# Python-Assignment-3"
   ]
  },
  {
   "cell_type": "raw",
   "metadata": {},
   "source": [
    "For Loops\n",
    "\n",
    "1. Writing your first for loop using range\n",
    "\n",
    "2. Providing the start , stop, and step for the range function\n",
    "\n",
    "3. Printing all characters in a name using \"in\" keyword\n",
    "\n",
    "4. Using the continue and break statement within a for loop"
   ]
  },
  {
   "cell_type": "code",
   "execution_count": 8,
   "metadata": {},
   "outputs": [
    {
     "name": "stdout",
     "output_type": "stream",
     "text": [
      "Python\n",
      "Django\n",
      "MySql\n",
      "You Can Do it\n"
     ]
    }
   ],
   "source": [
    "#1\n",
    "\n",
    "nbn_target =[\"Python\",\"Django\",\"MySql\",\"You Can Do it\"]\n",
    "for x in nbn_target:\n",
    "    print(x)"
   ]
  },
  {
   "cell_type": "code",
   "execution_count": 11,
   "metadata": {},
   "outputs": [
    {
     "name": "stdout",
     "output_type": "stream",
     "text": [
      "3\n",
      "4\n",
      "5\n",
      "6\n",
      "7\n"
     ]
    }
   ],
   "source": [
    "#2\n",
    "\n",
    "for x in range (3,8):\n",
    "    print(x)"
   ]
  },
  {
   "cell_type": "code",
   "execution_count": 13,
   "metadata": {},
   "outputs": [
    {
     "name": "stdout",
     "output_type": "stream",
     "text": [
      "0\n",
      "1\n",
      "2\n",
      "3\n",
      "4\n",
      "5\n",
      "6\n",
      "7\n",
      "8\n"
     ]
    }
   ],
   "source": [
    "#3\n",
    "for x in range (0,9):\n",
    "    print(x)"
   ]
  },
  {
   "cell_type": "code",
   "execution_count": 18,
   "metadata": {},
   "outputs": [
    {
     "name": "stdout",
     "output_type": "stream",
     "text": [
      "Python\n",
      "Django\n"
     ]
    }
   ],
   "source": [
    "#4\n",
    "nbn_target =[\"Python\",\"Django\",\"MySql\",\"You Can Do it\"]\n",
    "for x in nbn_target:\n",
    "    if x == \"MySql\": break\n",
    "    print(x)\n",
    "else:\n",
    "    print(\"Yes My target is all\")"
   ]
  },
  {
   "cell_type": "code",
   "execution_count": 20,
   "metadata": {},
   "outputs": [
    {
     "name": "stdout",
     "output_type": "stream",
     "text": [
      "Python\n",
      "Django\n",
      "You Can Do it\n",
      "You can Win\n"
     ]
    }
   ],
   "source": [
    "#4\n",
    "nbn_target =[\"Python\",\"Django\",\"MySql\",\"You Can Do it\"]\n",
    "for x in nbn_target:\n",
    "    if x == \"MySql\": continue\n",
    "    print(x)\n",
    "else:\n",
    "    print(\"You can Win\")\n"
   ]
  },
  {
   "cell_type": "raw",
   "metadata": {},
   "source": [
    "While loop\n",
    "\n",
    "1. Writing for first while loop\n",
    "2. Using two or more loops together is called a nested loop\n",
    "3. Using a for loop to print all items in a list"
   ]
  },
  {
   "cell_type": "code",
   "execution_count": 31,
   "metadata": {},
   "outputs": [
    {
     "name": "stdout",
     "output_type": "stream",
     "text": [
      "Nabin Score is 0\n",
      "Nabin Score is 1\n",
      "Nabin Score is 2\n",
      "Nabin Score is 3\n",
      "Nabin Score is 4\n",
      "Nabin Score is 5\n",
      "Nabin Score is 6\n",
      "Nabin Score is 7\n",
      "Nabin Score is 8\n",
      "Nabin Score is 9\n",
      "Good Luck for Next steps !!\n"
     ]
    }
   ],
   "source": [
    "#1\n",
    "\n",
    "nbn_score = 0\n",
    "while (nbn_score <10):\n",
    "    print(\"Nabin Score is\",nbn_score)\n",
    "    nbn_score = nbn_score + 1\n",
    "    \n",
    "print(\"Good Luck for Next steps !!\")"
   ]
  },
  {
   "cell_type": "code",
   "execution_count": 36,
   "metadata": {},
   "outputs": [
    {
     "name": "stdout",
     "output_type": "stream",
     "text": [
      "['Python', 'Django', 'MySql', 'Do it'] ['Jan', 'Apr', 'Jun', 'Get all']\n",
      "['Python', 'Django', 'MySql', 'Do it'] ['Jan', 'Apr', 'Jun', 'Get all']\n",
      "['Python', 'Django', 'MySql', 'Do it'] ['Jan', 'Apr', 'Jun', 'Get all']\n",
      "['Python', 'Django', 'MySql', 'Do it'] ['Jan', 'Apr', 'Jun', 'Get all']\n",
      "['Python', 'Django', 'MySql', 'Do it'] ['Jan', 'Apr', 'Jun', 'Get all']\n",
      "['Python', 'Django', 'MySql', 'Do it'] ['Jan', 'Apr', 'Jun', 'Get all']\n",
      "['Python', 'Django', 'MySql', 'Do it'] ['Jan', 'Apr', 'Jun', 'Get all']\n",
      "['Python', 'Django', 'MySql', 'Do it'] ['Jan', 'Apr', 'Jun', 'Get all']\n",
      "['Python', 'Django', 'MySql', 'Do it'] ['Jan', 'Apr', 'Jun', 'Get all']\n",
      "['Python', 'Django', 'MySql', 'Do it'] ['Jan', 'Apr', 'Jun', 'Get all']\n",
      "['Python', 'Django', 'MySql', 'Do it'] ['Jan', 'Apr', 'Jun', 'Get all']\n",
      "['Python', 'Django', 'MySql', 'Do it'] ['Jan', 'Apr', 'Jun', 'Get all']\n",
      "['Python', 'Django', 'MySql', 'Do it'] ['Jan', 'Apr', 'Jun', 'Get all']\n",
      "['Python', 'Django', 'MySql', 'Do it'] ['Jan', 'Apr', 'Jun', 'Get all']\n",
      "['Python', 'Django', 'MySql', 'Do it'] ['Jan', 'Apr', 'Jun', 'Get all']\n",
      "['Python', 'Django', 'MySql', 'Do it'] ['Jan', 'Apr', 'Jun', 'Get all']\n"
     ]
    }
   ],
   "source": [
    "#2#3\n",
    "target = [\"Python\",\"Django\",\"MySql\",\"Do it\"]\n",
    "timeline = [\"Jan\",\"Apr\",\"Jun\",\"Get all\"]\n",
    "\n",
    "for x in target:\n",
    "    for y in timeline:\n",
    "        print(target,timeline)"
   ]
  },
  {
   "cell_type": "code",
   "execution_count": null,
   "metadata": {},
   "outputs": [],
   "source": []
  }
 ],
 "metadata": {
  "kernelspec": {
   "display_name": "Python 3",
   "language": "python",
   "name": "python3"
  },
  "language_info": {
   "codemirror_mode": {
    "name": "ipython",
    "version": 3
   },
   "file_extension": ".py",
   "mimetype": "text/x-python",
   "name": "python",
   "nbconvert_exporter": "python",
   "pygments_lexer": "ipython3",
   "version": "3.8.5"
  }
 },
 "nbformat": 4,
 "nbformat_minor": 4
}
